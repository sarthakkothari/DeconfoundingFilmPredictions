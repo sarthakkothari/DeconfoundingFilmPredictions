{
 "cells": [
  {
   "cell_type": "markdown",
   "metadata": {
    "colab_type": "text",
    "id": "OUt2iSDAfu26"
   },
   "source": [
    "# Deconfounding Movie Revenues\n",
    "This is the Pyro implementation of the Deconfounder from Blei-labs \"Blessings of Multiple Causes\" which investigates actor values by aiming to infer latent confounders that afffect casting and revenue of the movie. <br>\n",
    "\n",
    "For example: In a James Bond movie, revenue is primarily driven by the actor who plays James Bond and the franchise value that Bond movies carry. Supporting roles like M and Q do not contribute much to revenue. This fact is not captured by traditional linear regression models which bias revenue towards these actors. <br>\n",
    "\n",
    "The **deconfounder** debiases these predictions by correcting the regression coefficients of these actors and hence, brings the model closer to the actual value of actors to a movie and its revenue."
   ]
  },
  {
   "cell_type": "code",
   "execution_count": 1,
   "metadata": {
    "ExecuteTime": {
     "end_time": "2019-08-07T16:36:57.548166Z",
     "start_time": "2019-08-07T16:36:54.654985Z"
    },
    "colab": {},
    "colab_type": "code",
    "id": "tI4SRAQh25UF"
   },
   "outputs": [],
   "source": [
    "import numpy as np\n",
    "import pandas as pd\n",
    "import pyro\n",
    "import torch\n",
    "from scipy import sparse\n",
    "from sklearn.model_selection import train_test_split\n",
    "pyro.set_rng_seed(101)\n",
    "\n",
    "\n",
    "\n",
    "import matplotlib\n",
    "matplotlib.rcParams.update({'font.sans-serif' : 'Helvetica',\n",
    "                            'axes.labelsize': 10,\n",
    "                            'xtick.labelsize' : 6,\n",
    "                            'ytick.labelsize' : 6,\n",
    "                            'axes.titlesize' : 10})\n",
    "import matplotlib.pyplot as plt"
   ]
  },
  {
   "cell_type": "code",
   "execution_count": 11,
   "metadata": {
    "ExecuteTime": {
     "end_time": "2019-08-07T19:07:04.936405Z",
     "start_time": "2019-08-07T19:06:41.796177Z"
    },
    "colab": {},
    "colab_type": "code",
    "id": "zeOeeMdZ6Onq"
   },
   "outputs": [],
   "source": [
    "X_all = pd.read_csv(\"D:/Northeastern_Data/Summer_19/CS_7290/project_data/ohe_movies.csv\", index_col = 0)\n",
    "Y = X_all[\"revenue\"].to_numpy()\n",
    "# Remove title and revenue\n",
    "X_all = X_all[X_all.columns.difference(['title_x', 'revenue'])]\n",
    "\n",
    "x_train = X_all"
   ]
  },
  {
   "cell_type": "markdown",
   "metadata": {
    "colab_type": "text",
    "id": "KC2d_wd4XWYM"
   },
   "source": [
    "## Probabilistic PCA model:\n",
    "\n",
    "![Assumed Model](dag_probpca.jpg)\n",
    "\n",
    "\n",
    "\\begin{equation}\n",
    "\\mathbf{z}_{n} \\stackrel{iid}{\\sim} N(\\mathbf{0}, \\mathbf{I}_K) \\\\\n",
    "\\mathbf{w}_{n} \\stackrel{iid}{\\sim} N(\\mathbf{0}, \\mathbf{I}_K) \\\\\n",
    "\\mathbf{x}_n \\mid \\mathbf{z}_n\n",
    "\\sim Bernoulli(\\mathbf{z}_n\\mathbf{W})\n",
    "\\end{equation}"
   ]
  },
  {
   "cell_type": "code",
   "execution_count": 3,
   "metadata": {
    "ExecuteTime": {
     "end_time": "2019-08-07T16:37:12.611318Z",
     "start_time": "2019-08-07T16:37:12.217374Z"
    }
   },
   "outputs": [],
   "source": [
    "# Convert input from dataframe to tensor\n",
    "\n",
    "x_train_tensors = torch.tensor(x_train.to_numpy(dtype = 'float32'))"
   ]
  },
  {
   "cell_type": "code",
   "execution_count": 4,
   "metadata": {
    "ExecuteTime": {
     "end_time": "2019-08-07T16:37:12.626279Z",
     "start_time": "2019-08-07T16:37:12.614312Z"
    },
    "colab": {},
    "colab_type": "code",
    "id": "Vo5SMQA8fmmK"
   },
   "outputs": [],
   "source": [
    "def ppca_model(data):\n",
    "    '''\n",
    "    the probabilistic PCA model\n",
    "    '''\n",
    "    num_datapoints, data_dim = data.shape\n",
    "    \n",
    "    latent_dim = 30 # This can be varied\n",
    "    \n",
    "    # Parameters for w\n",
    "    w_mean0 = torch.zeros([latent_dim, data_dim])\n",
    "    w_std0 = torch.ones([latent_dim, data_dim])\n",
    "    \n",
    "    # Parameters for z\n",
    "    z_mean0 = torch.zeros([num_datapoints, latent_dim])\n",
    "    z_std0 = torch.ones([num_datapoints, latent_dim])\n",
    "\n",
    "\n",
    "    w = pyro.sample(\"w\", pyro.distributions.Normal(loc = w_mean0, \n",
    "                                                   scale = w_std0))\n",
    "\n",
    "    z = pyro.sample(\"z\", pyro.distributions.Normal(loc = z_mean0, \n",
    "                                                   scale = z_std0))\n",
    "\n",
    "    linear_exp = torch.matmul(z, w)\n",
    "\n",
    "\n",
    "    # observe data using the bernoulli likelihood\n",
    "    \n",
    "    x = pyro.sample(\"x\", pyro.distributions.Bernoulli(logits = linear_exp), obs = data)"
   ]
  },
  {
   "cell_type": "code",
   "execution_count": 5,
   "metadata": {
    "ExecuteTime": {
     "end_time": "2019-08-07T16:37:15.632243Z",
     "start_time": "2019-08-07T16:37:15.625255Z"
    }
   },
   "outputs": [],
   "source": [
    "def guide(data):\n",
    "    '''\n",
    "    guide function to be used for SVI\n",
    "    '''\n",
    "    num_datapoints, data_dim = data.shape\n",
    "    \n",
    "    latent_dim = 30 # This can be varied\n",
    "    \n",
    "    # To infer w params\n",
    "    \n",
    "    qw_mean = pyro.param(\"qw_mean\", torch.zeros([latent_dim, data_dim]))\n",
    "    qw_stddv = pyro.param(\"qw_stddv\", torch.ones([latent_dim, data_dim]),\n",
    "                         constraint=constraints.positive)\n",
    "    \n",
    "    # To infer z params\n",
    "    \n",
    "    qz_mean = pyro.param(\"qz_mean\", torch.zeros([num_datapoints, latent_dim]))\n",
    "    qz_stddv = pyro.param(\"qz_stddv\", torch.ones([num_datapoints, latent_dim]),\n",
    "                         constraint=constraints.positive)\n",
    "    \n",
    "    w = pyro.sample(\"w\", pyro.distributions.Normal(loc = qw_mean, \n",
    "                                                   scale = qw_stddv))\n",
    "    z = pyro.sample(\"z\", pyro.distributions.Normal(loc = qz_mean, \n",
    "                                                   scale = qz_stddv))"
   ]
  },
  {
   "cell_type": "markdown",
   "metadata": {},
   "source": [
    "## SVI\n",
    "Takes 45-50 minutes for the entire dataset, but much faster than HMC."
   ]
  },
  {
   "cell_type": "code",
   "execution_count": 6,
   "metadata": {
    "ExecuteTime": {
     "end_time": "2019-08-07T17:20:56.060363Z",
     "start_time": "2019-08-07T16:37:17.106975Z"
    }
   },
   "outputs": [
    {
     "name": "stdout",
     "output_type": "stream",
     "text": [
      "...................."
     ]
    }
   ],
   "source": [
    "from pyro.infer import SVI, Trace_ELBO\n",
    "import torch.distributions.constraints as constraints\n",
    "from pyro.optim import Adam\n",
    "\n",
    "adam_params = {\"lr\": 0.0005}\n",
    "optimizer = Adam(adam_params)\n",
    "\n",
    "svi = SVI(ppca_model, guide, optimizer, loss=Trace_ELBO())\n",
    "\n",
    "n_steps = 2000\n",
    "\n",
    "# do gradient steps\n",
    "for step in range(n_steps):\n",
    "    svi.step(x_train_tensors)\n",
    "    if step % 100 == 0:\n",
    "        print('.', end='')"
   ]
  },
  {
   "cell_type": "code",
   "execution_count": 7,
   "metadata": {
    "ExecuteTime": {
     "end_time": "2019-08-07T17:20:56.071334Z",
     "start_time": "2019-08-07T17:20:56.062361Z"
    }
   },
   "outputs": [],
   "source": [
    "# grab the learned variational parameters\n",
    "qw_m = pyro.param(\"qw_mean\")\n",
    "qw_s = pyro.param(\"qw_stddv\")\n",
    "\n",
    "qz_m = pyro.param(\"qz_mean\")\n",
    "qz_s = pyro.param(\"qz_stddv\")"
   ]
  },
  {
   "cell_type": "code",
   "execution_count": 8,
   "metadata": {
    "ExecuteTime": {
     "end_time": "2019-08-07T17:20:56.104247Z",
     "start_time": "2019-08-07T17:20:56.074330Z"
    }
   },
   "outputs": [],
   "source": [
    "inferred_z = z = pyro.sample(\"inf_z\", pyro.distributions.Normal(loc = qz_m, \n",
    "                                                   scale = qz_s))"
   ]
  },
  {
   "cell_type": "code",
   "execution_count": 9,
   "metadata": {
    "ExecuteTime": {
     "end_time": "2019-08-07T17:20:56.143143Z",
     "start_time": "2019-08-07T17:20:56.107245Z"
    }
   },
   "outputs": [
    {
     "data": {
      "text/plain": [
       "tensor([[-0.8238,  0.3975, -0.3530,  ..., -0.5844,  0.8720, -2.3214],\n",
       "        [-0.1182, -0.2663, -1.1012,  ...,  0.4837,  0.3303, -0.3953],\n",
       "        [-0.1577, -1.0062, -0.2317,  ...,  0.7573,  1.0345, -0.8094],\n",
       "        ...,\n",
       "        [-0.8911,  0.9449, -0.1022,  ..., -0.5388,  0.7644, -0.0901],\n",
       "        [-0.5784, -0.6226, -0.7015,  ..., -1.0325,  0.5147,  0.2903],\n",
       "        [-1.0398,  0.0151, -0.5669,  ..., -1.1075,  0.5542, -0.3925]],\n",
       "       grad_fn=<AddBackward0>)"
      ]
     },
     "execution_count": 9,
     "metadata": {},
     "output_type": "execute_result"
    }
   ],
   "source": [
    "inferred_z"
   ]
  },
  {
   "cell_type": "markdown",
   "metadata": {},
   "source": [
    "## Regression and Actor values\n",
    "\n",
    "We now check if we have debiased actor values given these confounders."
   ]
  },
  {
   "cell_type": "code",
   "execution_count": 96,
   "metadata": {
    "ExecuteTime": {
     "end_time": "2019-08-07T19:54:56.705764Z",
     "start_time": "2019-08-07T19:54:56.702744Z"
    }
   },
   "outputs": [],
   "source": [
    "# Regression with confounders\n",
    "from sklearn.linear_model import LinearRegression, LogisticRegression\n",
    "from sklearn.preprocessing import StandardScaler\n",
    "from sklearn.model_selection import train_test_split\n",
    "from sklearn.metrics import r2_score, mean_squared_error"
   ]
  },
  {
   "cell_type": "code",
   "execution_count": 97,
   "metadata": {
    "ExecuteTime": {
     "end_time": "2019-08-07T19:54:56.904124Z",
     "start_time": "2019-08-07T19:54:56.896677Z"
    }
   },
   "outputs": [],
   "source": [
    "Y_Scaled = StandardScaler().fit_transform(Y.reshape(-1,1))"
   ]
  },
  {
   "cell_type": "code",
   "execution_count": 99,
   "metadata": {
    "ExecuteTime": {
     "end_time": "2019-08-07T19:55:09.845669Z",
     "start_time": "2019-08-07T19:55:09.838414Z"
    }
   },
   "outputs": [],
   "source": [
    "def fitModel(X, Y, test_size=0.8, model=LinearRegression(), cat=False):\n",
    "\n",
    "    X_train, X_test, Y_train, Y_test = train_test_split(X, Y, test_size=test_size, random_state=42)\n",
    "    model.fit(X_train, Y_train)\n",
    "    Y_pred = model.predict(X_test)\n",
    "    if not cat: \n",
    "        score = r2_score(Y_test, Y_pred)\n",
    "    else:\n",
    "        score = model.score(X_test, Y_test)\n",
    "    plt.plot(Y_pred, Y_test, 'o')\n",
    "    plt.xlabel('Predicted')\n",
    "    plt.ylabel('Actual')\n",
    "    plt.title('Score : ' + str(score))\n",
    "    plt.show()\n",
    "    \n",
    "    print(\"Root Mean squared Error:\", np.sqrt(mean_squared_error(Y_test, Y_pred)))\n",
    "    #return model.coef_\n",
    "    return model.coef_, Y_pred, Y_test"
   ]
  },
  {
   "cell_type": "markdown",
   "metadata": {},
   "source": [
    "### Regression on Revenue with only Actors (no confounders)."
   ]
  },
  {
   "cell_type": "code",
   "execution_count": 204,
   "metadata": {
    "ExecuteTime": {
     "end_time": "2019-08-07T20:38:43.475427Z",
     "start_time": "2019-08-07T20:38:38.978410Z"
    }
   },
   "outputs": [
    {
     "data": {
      "image/png": "[encoded data removed]",
      "text/plain": [
       "<Figure size 432x288 with 1 Axes>"
      ]
     },
     "metadata": {
      "needs_background": "light"
     },
     "output_type": "display_data"
    },
    {
     "name": "stdout",
     "output_type": "stream",
     "text": [
      "Root Mean squared Error: 314829668702.43286\n"
     ]
    }
   ],
   "source": [
    "coef_noCF_Y = fitModel(x_train.to_numpy(), Y_Scaled, cat = True)"
   ]
  },
  {
   "cell_type": "markdown",
   "metadata": {},
   "source": [
    "### Regression on Revenue with Actors and Confounders"
   ]
  },
  {
   "cell_type": "code",
   "execution_count": 103,
   "metadata": {
    "ExecuteTime": {
     "end_time": "2019-08-07T19:55:52.549424Z",
     "start_time": "2019-08-07T19:55:51.597939Z"
    }
   },
   "outputs": [],
   "source": [
    "data_CF = np.hstack((x_train.to_numpy(), X_CF))"
   ]
  },
  {
   "cell_type": "code",
   "execution_count": 113,
   "metadata": {
    "ExecuteTime": {
     "end_time": "2019-08-07T19:57:42.759295Z",
     "start_time": "2019-08-07T19:57:40.781640Z"
    }
   },
   "outputs": [
    {
     "data": {
      "image/png": "[encoded data removed]",
      "text/plain": [
       "<Figure size 432x288 with 1 Axes>"
      ]
     },
     "metadata": {
      "needs_background": "light"
     },
     "output_type": "display_data"
    },
    {
     "name": "stdout",
     "output_type": "stream",
     "text": [
      "Root Mean squared Error: 0.9681062180714709\n"
     ]
    }
   ],
   "source": [
    "coef_X_CF_Y = fitModel(data_CF, Y_Scaled, cat = True)"
   ]
  },
  {
   "cell_type": "markdown",
   "metadata": {},
   "source": [
    "RMSE has decreased drastically."
   ]
  },
  {
   "cell_type": "markdown",
   "metadata": {},
   "source": [
    "Nowe we see which actors have changed coefficient values and in which direction (i.e overvalued or undervalued)."
   ]
  },
  {
   "cell_type": "code",
   "execution_count": 207,
   "metadata": {
    "ExecuteTime": {
     "end_time": "2019-08-07T20:39:23.974049Z",
     "start_time": "2019-08-07T20:39:23.969817Z"
    }
   },
   "outputs": [],
   "source": [
    "actor_coefs_noCF = list(coef_noCF_Y[0][0])"
   ]
  },
  {
   "cell_type": "code",
   "execution_count": 208,
   "metadata": {
    "ExecuteTime": {
     "end_time": "2019-08-07T20:39:24.143056Z",
     "start_time": "2019-08-07T20:39:24.130930Z"
    }
   },
   "outputs": [],
   "source": [
    "actor_coefs_X_CF = list(coef_X_CF_Y[0][0])[:-30]"
   ]
  },
  {
   "cell_type": "code",
   "execution_count": 209,
   "metadata": {
    "ExecuteTime": {
     "end_time": "2019-08-07T20:39:24.571518Z",
     "start_time": "2019-08-07T20:39:24.558318Z"
    }
   },
   "outputs": [],
   "source": [
    "all_actors = list(x_train.columns)"
   ]
  },
  {
   "cell_type": "code",
   "execution_count": 237,
   "metadata": {
    "ExecuteTime": {
     "end_time": "2019-08-07T20:55:37.180747Z",
     "start_time": "2019-08-07T20:55:37.167604Z"
    }
   },
   "outputs": [],
   "source": [
    "def findMaxChanges(noCF_coefs, XCF_coefs, actors):\n",
    "    \n",
    "    assert(len(noCF_coefs) == len(XCF_coefs))\n",
    "    fin_list = []\n",
    "    for i in range(len(noCF_coefs)):\n",
    "        actor = actors[i]\n",
    "        diff = XCF_coefs[i] - noCF_coefs[i]       # Difference between coef with CF and without CF\n",
    "        magnitude = np.linalg.norm(diff)          # How much change\n",
    "        direction = 'Overvalued' if np.sign(diff) == -1.0 else 'Undervalued'   # In what direction?\n",
    "        \n",
    "        # If direction is -ve i.e coef with CF is lesser than coef without CF it means that actor was being overvalued\n",
    "        \n",
    "        fin_list.append((actor, magnitude, direction))\n",
    "        \n",
    "    # Sort by most changes\n",
    "    fin_list.sort(key=lambda x: x[1], reverse = True)\n",
    "    df_toret = pd.DataFrame(fin_list, columns = ['Actor', 'Magnitude', 'Direction'])\n",
    "    return fin_list, df_toret"
   ]
  },
  {
   "cell_type": "code",
   "execution_count": 238,
   "metadata": {
    "ExecuteTime": {
     "end_time": "2019-08-07T20:55:38.844509Z",
     "start_time": "2019-08-07T20:55:38.662856Z"
    }
   },
   "outputs": [],
   "source": [
    "tests = findMaxChanges(actor_coefs_noCF, actor_coefs_X_CF, all_actors)"
   ]
  },
  {
   "cell_type": "markdown",
   "metadata": {},
   "source": [
    "## David Blei's study.\n",
    "\n",
    "We compared if our overvalued actors are the same as our reference paper found them to be. <br>\n",
    "\n",
    "Overvalued Brad Pitt, Robert De niro <br>\n",
    "Undervalued: Nicolas Cage, Cate Blanchett, Antonio Banderas <br>\n",
    "Most Improved: Ben Affleck <br>"
   ]
  },
  {
   "cell_type": "markdown",
   "metadata": {},
   "source": [
    "Overvalued actors: Robert De Niro, Brad Pitt"
   ]
  },
  {
   "cell_type": "code",
   "execution_count": 240,
   "metadata": {
    "ExecuteTime": {
     "end_time": "2019-08-07T20:55:46.331879Z",
     "start_time": "2019-08-07T20:55:46.319396Z"
    }
   },
   "outputs": [
    {
     "data": {
      "text/html": [
       "<div>\n",
       "<style scoped>\n",
       "    .dataframe tbody tr th:only-of-type {\n",
       "        vertical-align: middle;\n",
       "    }\n",
       "\n",
       "    .dataframe tbody tr th {\n",
       "        vertical-align: top;\n",
       "    }\n",
       "\n",
       "    .dataframe thead th {\n",
       "        text-align: right;\n",
       "    }\n",
       "</style>\n",
       "<table border=\"1\" class=\"dataframe\">\n",
       "  <thead>\n",
       "    <tr style=\"text-align: right;\">\n",
       "      <th></th>\n",
       "      <th>Actor</th>\n",
       "      <th>Magnitude</th>\n",
       "      <th>Direction</th>\n",
       "    </tr>\n",
       "  </thead>\n",
       "  <tbody>\n",
       "    <tr>\n",
       "      <th>1988</th>\n",
       "      <td>Robert De Niro</td>\n",
       "      <td>2.911319e+09</td>\n",
       "      <td>Overvalued</td>\n",
       "    </tr>\n",
       "  </tbody>\n",
       "</table>\n",
       "</div>"
      ],
      "text/plain": [
       "               Actor     Magnitude   Direction\n",
       "1988  Robert De Niro  2.911319e+09  Overvalued"
      ]
     },
     "execution_count": 240,
     "metadata": {},
     "output_type": "execute_result"
    }
   ],
   "source": [
    "tests[1][tests[1]['Actor'] == 'Robert De Niro']"
   ]
  },
  {
   "cell_type": "code",
   "execution_count": 241,
   "metadata": {
    "ExecuteTime": {
     "end_time": "2019-08-07T20:55:47.646399Z",
     "start_time": "2019-08-07T20:55:47.633929Z"
    }
   },
   "outputs": [
    {
     "data": {
      "text/html": [
       "<div>\n",
       "<style scoped>\n",
       "    .dataframe tbody tr th:only-of-type {\n",
       "        vertical-align: middle;\n",
       "    }\n",
       "\n",
       "    .dataframe tbody tr th {\n",
       "        vertical-align: top;\n",
       "    }\n",
       "\n",
       "    .dataframe thead th {\n",
       "        text-align: right;\n",
       "    }\n",
       "</style>\n",
       "<table border=\"1\" class=\"dataframe\">\n",
       "  <thead>\n",
       "    <tr style=\"text-align: right;\">\n",
       "      <th></th>\n",
       "      <th>Actor</th>\n",
       "      <th>Magnitude</th>\n",
       "      <th>Direction</th>\n",
       "    </tr>\n",
       "  </thead>\n",
       "  <tbody>\n",
       "    <tr>\n",
       "      <th>995</th>\n",
       "      <td>Brad Pitt</td>\n",
       "      <td>6.675055e+09</td>\n",
       "      <td>Overvalued</td>\n",
       "    </tr>\n",
       "  </tbody>\n",
       "</table>\n",
       "</div>"
      ],
      "text/plain": [
       "         Actor     Magnitude   Direction\n",
       "995  Brad Pitt  6.675055e+09  Overvalued"
      ]
     },
     "execution_count": 241,
     "metadata": {},
     "output_type": "execute_result"
    }
   ],
   "source": [
    "tests[1][tests[1]['Actor'] == 'Brad Pitt']"
   ]
  },
  {
   "cell_type": "code",
   "execution_count": 242,
   "metadata": {
    "ExecuteTime": {
     "end_time": "2019-08-07T20:55:49.224993Z",
     "start_time": "2019-08-07T20:55:49.209737Z"
    }
   },
   "outputs": [
    {
     "data": {
      "text/html": [
       "<div>\n",
       "<style scoped>\n",
       "    .dataframe tbody tr th:only-of-type {\n",
       "        vertical-align: middle;\n",
       "    }\n",
       "\n",
       "    .dataframe tbody tr th {\n",
       "        vertical-align: top;\n",
       "    }\n",
       "\n",
       "    .dataframe thead th {\n",
       "        text-align: right;\n",
       "    }\n",
       "</style>\n",
       "<table border=\"1\" class=\"dataframe\">\n",
       "  <thead>\n",
       "    <tr style=\"text-align: right;\">\n",
       "      <th></th>\n",
       "      <th>Actor</th>\n",
       "      <th>Magnitude</th>\n",
       "      <th>Direction</th>\n",
       "    </tr>\n",
       "  </thead>\n",
       "  <tbody>\n",
       "    <tr>\n",
       "      <th>1000</th>\n",
       "      <td>Nicolas Cage</td>\n",
       "      <td>6.577418e+09</td>\n",
       "      <td>Undervalued</td>\n",
       "    </tr>\n",
       "  </tbody>\n",
       "</table>\n",
       "</div>"
      ],
      "text/plain": [
       "             Actor     Magnitude    Direction\n",
       "1000  Nicolas Cage  6.577418e+09  Undervalued"
      ]
     },
     "execution_count": 242,
     "metadata": {},
     "output_type": "execute_result"
    }
   ],
   "source": [
    "tests[1][tests[1]['Actor'] == 'Nicolas Cage']"
   ]
  },
  {
   "cell_type": "code",
   "execution_count": 243,
   "metadata": {
    "ExecuteTime": {
     "end_time": "2019-08-07T20:55:50.609512Z",
     "start_time": "2019-08-07T20:55:50.596483Z"
    }
   },
   "outputs": [
    {
     "data": {
      "text/html": [
       "<div>\n",
       "<style scoped>\n",
       "    .dataframe tbody tr th:only-of-type {\n",
       "        vertical-align: middle;\n",
       "    }\n",
       "\n",
       "    .dataframe tbody tr th {\n",
       "        vertical-align: top;\n",
       "    }\n",
       "\n",
       "    .dataframe thead th {\n",
       "        text-align: right;\n",
       "    }\n",
       "</style>\n",
       "<table border=\"1\" class=\"dataframe\">\n",
       "  <thead>\n",
       "    <tr style=\"text-align: right;\">\n",
       "      <th></th>\n",
       "      <th>Actor</th>\n",
       "      <th>Magnitude</th>\n",
       "      <th>Direction</th>\n",
       "    </tr>\n",
       "  </thead>\n",
       "  <tbody>\n",
       "    <tr>\n",
       "      <th>691</th>\n",
       "      <td>Cate Blanchett</td>\n",
       "      <td>9.970243e+09</td>\n",
       "      <td>Undervalued</td>\n",
       "    </tr>\n",
       "  </tbody>\n",
       "</table>\n",
       "</div>"
      ],
      "text/plain": [
       "              Actor     Magnitude    Direction\n",
       "691  Cate Blanchett  9.970243e+09  Undervalued"
      ]
     },
     "execution_count": 243,
     "metadata": {},
     "output_type": "execute_result"
    }
   ],
   "source": [
    "tests[1][tests[1]['Actor'] == 'Cate Blanchett']"
   ]
  },
  {
   "cell_type": "markdown",
   "metadata": {},
   "source": [
    "Undervalued: Nicolas Cage, Cate Blanchett, Antonio Banderas"
   ]
  },
  {
   "cell_type": "code",
   "execution_count": 244,
   "metadata": {
    "ExecuteTime": {
     "end_time": "2019-08-07T20:55:52.327983Z",
     "start_time": "2019-08-07T20:55:52.311631Z"
    }
   },
   "outputs": [
    {
     "data": {
      "text/html": [
       "<div>\n",
       "<style scoped>\n",
       "    .dataframe tbody tr th:only-of-type {\n",
       "        vertical-align: middle;\n",
       "    }\n",
       "\n",
       "    .dataframe tbody tr th {\n",
       "        vertical-align: top;\n",
       "    }\n",
       "\n",
       "    .dataframe thead th {\n",
       "        text-align: right;\n",
       "    }\n",
       "</style>\n",
       "<table border=\"1\" class=\"dataframe\">\n",
       "  <thead>\n",
       "    <tr style=\"text-align: right;\">\n",
       "      <th></th>\n",
       "      <th>Actor</th>\n",
       "      <th>Magnitude</th>\n",
       "      <th>Direction</th>\n",
       "    </tr>\n",
       "  </thead>\n",
       "  <tbody>\n",
       "    <tr>\n",
       "      <th>1877</th>\n",
       "      <td>Antonio Banderas</td>\n",
       "      <td>3.166184e+09</td>\n",
       "      <td>Undervalued</td>\n",
       "    </tr>\n",
       "  </tbody>\n",
       "</table>\n",
       "</div>"
      ],
      "text/plain": [
       "                 Actor     Magnitude    Direction\n",
       "1877  Antonio Banderas  3.166184e+09  Undervalued"
      ]
     },
     "execution_count": 244,
     "metadata": {},
     "output_type": "execute_result"
    }
   ],
   "source": [
    "tests[1][tests[1]['Actor'] == 'Antonio Banderas']"
   ]
  },
  {
   "cell_type": "code",
   "execution_count": 239,
   "metadata": {
    "ExecuteTime": {
     "end_time": "2019-08-07T20:55:42.903110Z",
     "start_time": "2019-08-07T20:55:42.891018Z"
    }
   },
   "outputs": [
    {
     "data": {
      "text/html": [
       "<div>\n",
       "<style scoped>\n",
       "    .dataframe tbody tr th:only-of-type {\n",
       "        vertical-align: middle;\n",
       "    }\n",
       "\n",
       "    .dataframe tbody tr th {\n",
       "        vertical-align: top;\n",
       "    }\n",
       "\n",
       "    .dataframe thead th {\n",
       "        text-align: right;\n",
       "    }\n",
       "</style>\n",
       "<table border=\"1\" class=\"dataframe\">\n",
       "  <thead>\n",
       "    <tr style=\"text-align: right;\">\n",
       "      <th></th>\n",
       "      <th>Actor</th>\n",
       "      <th>Magnitude</th>\n",
       "      <th>Direction</th>\n",
       "    </tr>\n",
       "  </thead>\n",
       "  <tbody>\n",
       "    <tr>\n",
       "      <th>814</th>\n",
       "      <td>Ben Affleck</td>\n",
       "      <td>8.374546e+09</td>\n",
       "      <td>Undervalued</td>\n",
       "    </tr>\n",
       "  </tbody>\n",
       "</table>\n",
       "</div>"
      ],
      "text/plain": [
       "           Actor     Magnitude    Direction\n",
       "814  Ben Affleck  8.374546e+09  Undervalued"
      ]
     },
     "execution_count": 239,
     "metadata": {},
     "output_type": "execute_result"
    }
   ],
   "source": [
    "tests[1][tests[1]['Actor'] == 'Ben Affleck']"
   ]
  },
  {
   "cell_type": "markdown",
   "metadata": {},
   "source": [
    "**Is miss Monneyppenny overvalued?** <br>\n",
    "Looking at who played M in Skyfall: Judi Dench, and who played Bond: Daniel Craig"
   ]
  },
  {
   "cell_type": "code",
   "execution_count": 245,
   "metadata": {
    "ExecuteTime": {
     "end_time": "2019-08-07T20:55:54.194442Z",
     "start_time": "2019-08-07T20:55:54.177728Z"
    }
   },
   "outputs": [
    {
     "data": {
      "text/html": [
       "<div>\n",
       "<style scoped>\n",
       "    .dataframe tbody tr th:only-of-type {\n",
       "        vertical-align: middle;\n",
       "    }\n",
       "\n",
       "    .dataframe tbody tr th {\n",
       "        vertical-align: top;\n",
       "    }\n",
       "\n",
       "    .dataframe thead th {\n",
       "        text-align: right;\n",
       "    }\n",
       "</style>\n",
       "<table border=\"1\" class=\"dataframe\">\n",
       "  <thead>\n",
       "    <tr style=\"text-align: right;\">\n",
       "      <th></th>\n",
       "      <th>Actor</th>\n",
       "      <th>Magnitude</th>\n",
       "      <th>Direction</th>\n",
       "    </tr>\n",
       "  </thead>\n",
       "  <tbody>\n",
       "    <tr>\n",
       "      <th>1667</th>\n",
       "      <td>Judi Dench</td>\n",
       "      <td>3.577081e+09</td>\n",
       "      <td>Overvalued</td>\n",
       "    </tr>\n",
       "  </tbody>\n",
       "</table>\n",
       "</div>"
      ],
      "text/plain": [
       "           Actor     Magnitude   Direction\n",
       "1667  Judi Dench  3.577081e+09  Overvalued"
      ]
     },
     "execution_count": 245,
     "metadata": {},
     "output_type": "execute_result"
    }
   ],
   "source": [
    "tests[1][tests[1]['Actor'] == 'Judi Dench']"
   ]
  },
  {
   "cell_type": "code",
   "execution_count": 246,
   "metadata": {
    "ExecuteTime": {
     "end_time": "2019-08-07T20:55:55.351881Z",
     "start_time": "2019-08-07T20:55:55.338742Z"
    }
   },
   "outputs": [
    {
     "data": {
      "text/html": [
       "<div>\n",
       "<style scoped>\n",
       "    .dataframe tbody tr th:only-of-type {\n",
       "        vertical-align: middle;\n",
       "    }\n",
       "\n",
       "    .dataframe tbody tr th {\n",
       "        vertical-align: top;\n",
       "    }\n",
       "\n",
       "    .dataframe thead th {\n",
       "        text-align: right;\n",
       "    }\n",
       "</style>\n",
       "<table border=\"1\" class=\"dataframe\">\n",
       "  <thead>\n",
       "    <tr style=\"text-align: right;\">\n",
       "      <th></th>\n",
       "      <th>Actor</th>\n",
       "      <th>Magnitude</th>\n",
       "      <th>Direction</th>\n",
       "    </tr>\n",
       "  </thead>\n",
       "  <tbody>\n",
       "    <tr>\n",
       "      <th>2293</th>\n",
       "      <td>Daniel Craig</td>\n",
       "      <td>2.355315e+09</td>\n",
       "      <td>Undervalued</td>\n",
       "    </tr>\n",
       "  </tbody>\n",
       "</table>\n",
       "</div>"
      ],
      "text/plain": [
       "             Actor     Magnitude    Direction\n",
       "2293  Daniel Craig  2.355315e+09  Undervalued"
      ]
     },
     "execution_count": 246,
     "metadata": {},
     "output_type": "execute_result"
    }
   ],
   "source": [
    "tests[1][tests[1]['Actor'] == 'Daniel Craig']"
   ]
  },
  {
   "cell_type": "markdown",
   "metadata": {},
   "source": [
    "## HMC\n",
    "Really slow but works without a guide function. This attempt is only with 500 columns and not all 13852 columns."
   ]
  },
  {
   "cell_type": "code",
   "execution_count": 73,
   "metadata": {
    "ExecuteTime": {
     "end_time": "2019-08-03T03:04:27.170639Z",
     "start_time": "2019-08-03T03:00:21.640188Z"
    }
   },
   "outputs": [
    {
     "name": "stderr",
     "output_type": "stream",
     "text": [
      "Sample: 100%|███████████████████████████████████| 600/600 [04:05<00:00,  4.62it/s, step size=8.63e-02, acc. rate=0.857]\n"
     ]
    }
   ],
   "source": [
    "from pyro.infer.mcmc import HMC, MCMC\n",
    "# from pyro.infer import mcmc\n",
    "\n",
    "hmc_kernel = HMC(ppca_model, step_size=0.0855, num_steps=4)\n",
    "\n",
    "x_new = x_train_tensors[:, :500]\n",
    "\n",
    "ppca_model(x_new)\n",
    "\n",
    "mcmc_run = MCMC(hmc_kernel, num_samples=500, warmup_steps=100).run(x_new)"
   ]
  },
  {
   "cell_type": "code",
   "execution_count": 75,
   "metadata": {
    "ExecuteTime": {
     "end_time": "2019-08-03T03:07:36.323369Z",
     "start_time": "2019-08-03T03:07:36.300200Z"
    }
   },
   "outputs": [],
   "source": [
    "from pyro.infer import EmpiricalMarginal\n",
    "posterior_z = EmpiricalMarginal(mcmc_run, 'z')"
   ]
  },
  {
   "cell_type": "code",
   "execution_count": 93,
   "metadata": {
    "ExecuteTime": {
     "end_time": "2019-08-03T06:05:17.195837Z",
     "start_time": "2019-08-03T06:05:17.179880Z"
    }
   },
   "outputs": [
    {
     "data": {
      "text/plain": [
       "tensor([[ 0.4385, -2.2742],\n",
       "        [-0.0849, -2.0328],\n",
       "        [-0.0924, -1.9028],\n",
       "        ...,\n",
       "        [ 0.2301, -2.0688],\n",
       "        [ 1.1267, -1.4036],\n",
       "        [ 0.1130, -2.0810]])"
      ]
     },
     "execution_count": 93,
     "metadata": {},
     "output_type": "execute_result"
    }
   ],
   "source": [
    "posterior_z.mean"
   ]
  }
 ],
 "metadata": {
  "accelerator": "GPU",
  "colab": {
   "collapsed_sections": [],
   "machine_shape": "hm",
   "name": "Copy of deconfounder_pyro.ipynb",
   "provenance": [],
   "toc_visible": true,
   "version": "0.3.2"
  },
  "kernelspec": {
   "display_name": "Python 3",
   "language": "python",
   "name": "python3"
  },
  "language_info": {
   "codemirror_mode": {
    "name": "ipython",
    "version": 3
   },
   "file_extension": ".py",
   "mimetype": "text/x-python",
   "name": "python",
   "nbconvert_exporter": "python",
   "pygments_lexer": "ipython3",
   "version": "3.6.8"
  },
  "latex_envs": {
   "LaTeX_envs_menu_present": true,
   "autoclose": false,
   "autocomplete": true,
   "bibliofile": "biblio.bib",
   "cite_by": "apalike",
   "current_citInitial": 1,
   "eqLabelWithNumbers": true,
   "eqNumInitial": 1,
   "hotkeys": {
    "equation": "Ctrl-E",
    "itemize": "Ctrl-I"
   },
   "labels_anchors": false,
   "latex_user_defs": false,
   "report_style_numbering": false,
   "user_envs_cfg": false
  }
 },
 "nbformat": 4,
 "nbformat_minor": 1
}
