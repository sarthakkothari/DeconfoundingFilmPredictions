{
 "cells": [
  {
   "cell_type": "markdown",
   "metadata": {
    "colab_type": "text",
    "id": "OUt2iSDAfu26"
   },
   "source": [
    "# Deconfounder in Pyro\n",
    "This it the Pyro implementation of the Deconfounder from Blei-labs \"Blessings of Multiple Causes\""
   ]
  },
  {
   "cell_type": "code",
   "execution_count": 1,
   "metadata": {
    "ExecuteTime": {
     "end_time": "2019-08-03T20:03:59.689881Z",
     "start_time": "2019-08-03T20:03:57.454281Z"
    },
    "colab": {},
    "colab_type": "code",
    "id": "tI4SRAQh25UF"
   },
   "outputs": [],
   "source": [
    "import numpy as np\n",
    "import pandas as pd\n",
    "import pyro\n",
    "import torch\n",
    "from scipy import sparse\n",
    "from sklearn.model_selection import train_test_split\n",
    "pyro.set_rng_seed(101)\n",
    "\n",
    "\n",
    "\n",
    "import matplotlib\n",
    "matplotlib.rcParams.update({'font.sans-serif' : 'Helvetica',\n",
    "                            'axes.labelsize': 10,\n",
    "                            'xtick.labelsize' : 6,\n",
    "                            'ytick.labelsize' : 6,\n",
    "                            'axes.titlesize' : 10})\n",
    "import matplotlib.pyplot as plt\n",
    "\n",
    "import seaborn as sns\n",
    "color_names = [\"windows blue\",\n",
    "               \"amber\",\n",
    "               \"crimson\",\n",
    "               \"faded green\",\n",
    "               \"dusty purple\",\n",
    "               \"greyish\"]\n",
    "colors = sns.xkcd_palette(color_names)\n",
    "sns.set(style=\"white\", palette=sns.xkcd_palette(color_names), color_codes = False)"
   ]
  },
  {
   "cell_type": "code",
   "execution_count": 3,
   "metadata": {
    "ExecuteTime": {
     "end_time": "2019-08-03T20:04:19.751642Z",
     "start_time": "2019-08-03T20:04:07.704018Z"
    },
    "colab": {},
    "colab_type": "code",
    "id": "zeOeeMdZ6Onq"
   },
   "outputs": [],
   "source": [
    "X_all = pd.read_csv(\"ohe_movies.csv\", index_col = 0)\n",
    "\n",
    "# Remove title and revenue\n",
    "X_all = X_all[X_all.columns.difference(['title_x', 'revenue'])]\n",
    "\n",
    "x_train = X_all"
   ]
  },
  {
   "cell_type": "markdown",
   "metadata": {
    "colab_type": "text",
    "id": "KC2d_wd4XWYM"
   },
   "source": [
    "## Probabilistic PCA model:\n",
    "\n",
    "\\begin{equation}\n",
    "\\mathbf{z}_{n} \\stackrel{iid}{\\sim} N(\\mathbf{0}, \\mathbf{I}_K) \\\\\n",
    "\\mathbf{w}_{n} \\stackrel{iid}{\\sim} N(\\mathbf{0}, \\mathbf{I}_K) \\\\\n",
    "\\mathbf{x}_n \\mid \\mathbf{z}_n\n",
    "\\sim Bernoulli(\\mathbf{z}_n\\mathbf{W})\n",
    "\\end{equation}"
   ]
  },
  {
   "cell_type": "code",
   "execution_count": 4,
   "metadata": {
    "ExecuteTime": {
     "end_time": "2019-08-03T20:04:27.272233Z",
     "start_time": "2019-08-03T20:04:26.978033Z"
    }
   },
   "outputs": [],
   "source": [
    "# Convert input from dataframe to tensor\n",
    "\n",
    "x_train_tensors = torch.tensor(x_train.to_numpy(dtype = 'float32'))"
   ]
  },
  {
   "cell_type": "code",
   "execution_count": 5,
   "metadata": {
    "ExecuteTime": {
     "end_time": "2019-08-03T20:04:28.654447Z",
     "start_time": "2019-08-03T20:04:28.648051Z"
    },
    "colab": {},
    "colab_type": "code",
    "id": "Vo5SMQA8fmmK"
   },
   "outputs": [],
   "source": [
    "def ppca_model(data):\n",
    "    '''\n",
    "    the probabilistic PCA model\n",
    "    '''\n",
    "    num_datapoints, data_dim = data.shape\n",
    "    \n",
    "    latent_dim = 2 # This can be varied\n",
    "    \n",
    "    # Parameters for w\n",
    "    w_mean0 = torch.zeros([latent_dim, data_dim])\n",
    "    w_std0 = torch.ones([latent_dim, data_dim])\n",
    "    \n",
    "    # Parameters for z\n",
    "    z_mean0 = torch.zeros([num_datapoints, latent_dim])\n",
    "    z_std0 = torch.ones([num_datapoints, latent_dim])\n",
    "\n",
    "\n",
    "    w = pyro.sample(\"w\", pyro.distributions.Normal(loc = w_mean0, \n",
    "                                                   scale = w_std0))\n",
    "\n",
    "    z = pyro.sample(\"z\", pyro.distributions.Normal(loc = z_mean0, \n",
    "                                                   scale = z_std0))\n",
    "\n",
    "    linear_exp = torch.matmul(z, w)\n",
    "\n",
    "\n",
    "    # observe data using the bernoulli likelihood\n",
    "    \n",
    "    x = pyro.sample(\"x\", pyro.distributions.Bernoulli(logits = linear_exp), obs = data)"
   ]
  },
  {
   "cell_type": "code",
   "execution_count": 6,
   "metadata": {
    "ExecuteTime": {
     "end_time": "2019-08-03T20:04:29.702755Z",
     "start_time": "2019-08-03T20:04:29.696441Z"
    }
   },
   "outputs": [],
   "source": [
    "def guide(data):\n",
    "    '''\n",
    "    guide function to be used for SVI\n",
    "    '''\n",
    "    num_datapoints, data_dim = data.shape\n",
    "    \n",
    "    latent_dim = 2 # This can be varied\n",
    "    \n",
    "    # To infer w params\n",
    "    \n",
    "    qw_mean = pyro.param(\"qw_mean\", torch.zeros([latent_dim, data_dim]))\n",
    "    qw_stddv = pyro.param(\"qw_stddv\", torch.ones([latent_dim, data_dim]),\n",
    "                         constraint=constraints.positive)\n",
    "    \n",
    "    # To infer z params\n",
    "    \n",
    "    qz_mean = pyro.param(\"qz_mean\", torch.zeros([num_datapoints, latent_dim]))\n",
    "    qz_stddv = pyro.param(\"qz_stddv\", torch.ones([num_datapoints, latent_dim]),\n",
    "                         constraint=constraints.positive)\n",
    "    \n",
    "    w = pyro.sample(\"w\", pyro.distributions.Normal(loc = qw_mean, \n",
    "                                                   scale = qw_stddv))\n",
    "    z = pyro.sample(\"z\", pyro.distributions.Normal(loc = qz_mean, \n",
    "                                                   scale = qz_stddv))"
   ]
  },
  {
   "cell_type": "markdown",
   "metadata": {},
   "source": [
    "## SVI\n",
    "Takes 45-50 minutes for the entire dataset, but much faster than HMC."
   ]
  },
  {
   "cell_type": "code",
   "execution_count": 7,
   "metadata": {
    "ExecuteTime": {
     "end_time": "2019-08-03T20:46:27.780117Z",
     "start_time": "2019-08-03T20:15:36.646490Z"
    }
   },
   "outputs": [
    {
     "name": "stdout",
     "output_type": "stream",
     "text": [
      "...................."
     ]
    }
   ],
   "source": [
    "from pyro.infer import SVI, Trace_ELBO\n",
    "import torch.distributions.constraints as constraints\n",
    "from pyro.optim import Adam\n",
    "\n",
    "adam_params = {\"lr\": 0.0005}\n",
    "optimizer = Adam(adam_params)\n",
    "\n",
    "svi = SVI(ppca_model, guide, optimizer, loss=Trace_ELBO())\n",
    "\n",
    "n_steps = 2000\n",
    "\n",
    "# do gradient steps\n",
    "for step in range(n_steps):\n",
    "    svi.step(x_train_tensors)\n",
    "    if step % 100 == 0:\n",
    "        print('.', end='')"
   ]
  },
  {
   "cell_type": "code",
   "execution_count": 8,
   "metadata": {
    "ExecuteTime": {
     "end_time": "2019-08-03T20:51:28.293254Z",
     "start_time": "2019-08-03T20:51:28.289184Z"
    }
   },
   "outputs": [],
   "source": [
    "# grab the learned variational parameters\n",
    "qw_m = pyro.param(\"qw_mean\")\n",
    "qw_s = pyro.param(\"qw_stddv\")\n",
    "\n",
    "qz_m = pyro.param(\"qz_mean\")\n",
    "qz_s = pyro.param(\"qz_stddv\")"
   ]
  },
  {
   "cell_type": "code",
   "execution_count": 9,
   "metadata": {
    "ExecuteTime": {
     "end_time": "2019-08-03T20:51:29.204105Z",
     "start_time": "2019-08-03T20:51:29.200747Z"
    }
   },
   "outputs": [],
   "source": [
    "inferred_z = z = pyro.sample(\"inf_z\", pyro.distributions.Normal(loc = qz_m, \n",
    "                                                   scale = qz_s))"
   ]
  },
  {
   "cell_type": "code",
   "execution_count": 10,
   "metadata": {
    "ExecuteTime": {
     "end_time": "2019-08-03T20:51:30.461266Z",
     "start_time": "2019-08-03T20:51:30.421953Z"
    }
   },
   "outputs": [
    {
     "data": {
      "text/plain": [
       "tensor([[-0.2490,  0.1326],\n",
       "        [ 0.1928, -0.2690],\n",
       "        [-0.5804,  0.0489],\n",
       "        ...,\n",
       "        [-0.9204, -0.8885],\n",
       "        [ 0.0867, -0.1378],\n",
       "        [ 0.1039, -1.3772]], grad_fn=<AddBackward0>)"
      ]
     },
     "execution_count": 10,
     "metadata": {},
     "output_type": "execute_result"
    }
   ],
   "source": [
    "inferred_z"
   ]
  },
  {
   "cell_type": "code",
   "execution_count": 11,
   "metadata": {
    "ExecuteTime": {
     "end_time": "2019-08-03T20:52:18.453205Z",
     "start_time": "2019-08-03T20:52:06.334153Z"
    }
   },
   "outputs": [],
   "source": [
    "data = pd.read_csv(\"ohe_movies.csv\", index_col = 0)"
   ]
  },
  {
   "cell_type": "code",
   "execution_count": 12,
   "metadata": {
    "ExecuteTime": {
     "end_time": "2019-08-03T20:54:05.204959Z",
     "start_time": "2019-08-03T20:54:05.178961Z"
    }
   },
   "outputs": [
    {
     "data": {
      "text/html": [
       "<div>\n",
       "<style scoped>\n",
       "    .dataframe tbody tr th:only-of-type {\n",
       "        vertical-align: middle;\n",
       "    }\n",
       "\n",
       "    .dataframe tbody tr th {\n",
       "        vertical-align: top;\n",
       "    }\n",
       "\n",
       "    .dataframe thead th {\n",
       "        text-align: right;\n",
       "    }\n",
       "</style>\n",
       "<table border=\"1\" class=\"dataframe\">\n",
       "  <thead>\n",
       "    <tr style=\"text-align: right;\">\n",
       "      <th></th>\n",
       "      <th>title_x</th>\n",
       "      <th>revenue</th>\n",
       "      <th>Larry Mullen Jr.</th>\n",
       "      <th>50 Cent</th>\n",
       "      <th>A. J. Benza</th>\n",
       "      <th>A. J. Langer</th>\n",
       "      <th>A. Jay Radcliff</th>\n",
       "      <th>A. Michael Baldwin</th>\n",
       "      <th>A. Russell Andrews</th>\n",
       "      <th>A.D. Miles</th>\n",
       "      <th>...</th>\n",
       "      <th>Zuzana Geislerová</th>\n",
       "      <th>Ángel Salazar</th>\n",
       "      <th>Édgar Vivar</th>\n",
       "      <th>Ólafur Darri Ólafsson</th>\n",
       "      <th>Óscar Casas</th>\n",
       "      <th>Óscar Jaenada</th>\n",
       "      <th>Ørjan Gamst</th>\n",
       "      <th>Đỗ Thị Hải Yến</th>\n",
       "      <th>Юлия Снигирь</th>\n",
       "      <th>徐帆</th>\n",
       "    </tr>\n",
       "  </thead>\n",
       "  <tbody>\n",
       "    <tr>\n",
       "      <th>0</th>\n",
       "      <td>Avatar</td>\n",
       "      <td>2787965087</td>\n",
       "      <td>0</td>\n",
       "      <td>0</td>\n",
       "      <td>0</td>\n",
       "      <td>0</td>\n",
       "      <td>0</td>\n",
       "      <td>0</td>\n",
       "      <td>0</td>\n",
       "      <td>0</td>\n",
       "      <td>...</td>\n",
       "      <td>0</td>\n",
       "      <td>0</td>\n",
       "      <td>0</td>\n",
       "      <td>0</td>\n",
       "      <td>0</td>\n",
       "      <td>0</td>\n",
       "      <td>0</td>\n",
       "      <td>0</td>\n",
       "      <td>0</td>\n",
       "      <td>0</td>\n",
       "    </tr>\n",
       "    <tr>\n",
       "      <th>1</th>\n",
       "      <td>Pirates of the Caribbean: At World's End</td>\n",
       "      <td>961000000</td>\n",
       "      <td>0</td>\n",
       "      <td>0</td>\n",
       "      <td>0</td>\n",
       "      <td>0</td>\n",
       "      <td>0</td>\n",
       "      <td>0</td>\n",
       "      <td>0</td>\n",
       "      <td>0</td>\n",
       "      <td>...</td>\n",
       "      <td>0</td>\n",
       "      <td>0</td>\n",
       "      <td>0</td>\n",
       "      <td>0</td>\n",
       "      <td>0</td>\n",
       "      <td>0</td>\n",
       "      <td>0</td>\n",
       "      <td>0</td>\n",
       "      <td>0</td>\n",
       "      <td>0</td>\n",
       "    </tr>\n",
       "    <tr>\n",
       "      <th>2</th>\n",
       "      <td>Spectre</td>\n",
       "      <td>880674609</td>\n",
       "      <td>0</td>\n",
       "      <td>0</td>\n",
       "      <td>0</td>\n",
       "      <td>0</td>\n",
       "      <td>0</td>\n",
       "      <td>0</td>\n",
       "      <td>0</td>\n",
       "      <td>0</td>\n",
       "      <td>...</td>\n",
       "      <td>0</td>\n",
       "      <td>0</td>\n",
       "      <td>0</td>\n",
       "      <td>0</td>\n",
       "      <td>0</td>\n",
       "      <td>0</td>\n",
       "      <td>0</td>\n",
       "      <td>0</td>\n",
       "      <td>0</td>\n",
       "      <td>0</td>\n",
       "    </tr>\n",
       "    <tr>\n",
       "      <th>3</th>\n",
       "      <td>The Dark Knight Rises</td>\n",
       "      <td>1084939099</td>\n",
       "      <td>0</td>\n",
       "      <td>0</td>\n",
       "      <td>0</td>\n",
       "      <td>0</td>\n",
       "      <td>0</td>\n",
       "      <td>0</td>\n",
       "      <td>0</td>\n",
       "      <td>0</td>\n",
       "      <td>...</td>\n",
       "      <td>0</td>\n",
       "      <td>0</td>\n",
       "      <td>0</td>\n",
       "      <td>0</td>\n",
       "      <td>0</td>\n",
       "      <td>0</td>\n",
       "      <td>0</td>\n",
       "      <td>0</td>\n",
       "      <td>0</td>\n",
       "      <td>0</td>\n",
       "    </tr>\n",
       "    <tr>\n",
       "      <th>4</th>\n",
       "      <td>John Carter</td>\n",
       "      <td>284139100</td>\n",
       "      <td>0</td>\n",
       "      <td>0</td>\n",
       "      <td>0</td>\n",
       "      <td>0</td>\n",
       "      <td>0</td>\n",
       "      <td>0</td>\n",
       "      <td>0</td>\n",
       "      <td>0</td>\n",
       "      <td>...</td>\n",
       "      <td>0</td>\n",
       "      <td>0</td>\n",
       "      <td>0</td>\n",
       "      <td>0</td>\n",
       "      <td>0</td>\n",
       "      <td>0</td>\n",
       "      <td>0</td>\n",
       "      <td>0</td>\n",
       "      <td>0</td>\n",
       "      <td>0</td>\n",
       "    </tr>\n",
       "  </tbody>\n",
       "</table>\n",
       "<p>5 rows × 13854 columns</p>\n",
       "</div>"
      ],
      "text/plain": [
       "                                    title_x     revenue   Larry Mullen Jr.  \\\n",
       "0                                    Avatar  2787965087                  0   \n",
       "1  Pirates of the Caribbean: At World's End   961000000                  0   \n",
       "2                                   Spectre   880674609                  0   \n",
       "3                     The Dark Knight Rises  1084939099                  0   \n",
       "4                               John Carter   284139100                  0   \n",
       "\n",
       "   50 Cent  A. J. Benza  A. J. Langer  A. Jay Radcliff  A. Michael Baldwin  \\\n",
       "0        0            0             0                0                   0   \n",
       "1        0            0             0                0                   0   \n",
       "2        0            0             0                0                   0   \n",
       "3        0            0             0                0                   0   \n",
       "4        0            0             0                0                   0   \n",
       "\n",
       "   A. Russell Andrews  A.D. Miles  ...  Zuzana Geislerová  Ángel Salazar  \\\n",
       "0                   0           0  ...                  0              0   \n",
       "1                   0           0  ...                  0              0   \n",
       "2                   0           0  ...                  0              0   \n",
       "3                   0           0  ...                  0              0   \n",
       "4                   0           0  ...                  0              0   \n",
       "\n",
       "   Édgar Vivar  Ólafur Darri Ólafsson  Óscar Casas  Óscar Jaenada  \\\n",
       "0            0                      0            0              0   \n",
       "1            0                      0            0              0   \n",
       "2            0                      0            0              0   \n",
       "3            0                      0            0              0   \n",
       "4            0                      0            0              0   \n",
       "\n",
       "   Ørjan Gamst  Đỗ Thị Hải Yến  Юлия Снигирь  徐帆  \n",
       "0            0               0             0   0  \n",
       "1            0               0             0   0  \n",
       "2            0               0             0   0  \n",
       "3            0               0             0   0  \n",
       "4            0               0             0   0  \n",
       "\n",
       "[5 rows x 13854 columns]"
      ]
     },
     "execution_count": 12,
     "metadata": {},
     "output_type": "execute_result"
    }
   ],
   "source": [
    "data.head()"
   ]
  },
  {
   "cell_type": "code",
   "execution_count": 18,
   "metadata": {
    "ExecuteTime": {
     "end_time": "2019-08-03T20:55:59.169991Z",
     "start_time": "2019-08-03T20:55:59.165411Z"
    }
   },
   "outputs": [],
   "source": [
    "z = np.array(inferred_z.tolist())"
   ]
  },
  {
   "cell_type": "code",
   "execution_count": 19,
   "metadata": {
    "ExecuteTime": {
     "end_time": "2019-08-03T20:56:18.678956Z",
     "start_time": "2019-08-03T20:56:18.671831Z"
    }
   },
   "outputs": [],
   "source": [
    "data['Z1'] = z[:, 0]\n",
    "data['Z2'] = z[:, 1]"
   ]
  },
  {
   "cell_type": "code",
   "execution_count": 20,
   "metadata": {
    "ExecuteTime": {
     "end_time": "2019-08-03T20:57:27.467333Z",
     "start_time": "2019-08-03T20:56:44.115352Z"
    }
   },
   "outputs": [],
   "source": [
    "data.to_csv('ohe_movies_confounders.csv', header=True, index=False)"
   ]
  },
  {
   "cell_type": "markdown",
   "metadata": {},
   "source": [
    "## HMC\n",
    "Really slow but works without a guide function. This attempt is only with 500 columns and not all 13852 columns."
   ]
  },
  {
   "cell_type": "code",
   "execution_count": 73,
   "metadata": {
    "ExecuteTime": {
     "end_time": "2019-08-03T03:04:27.170639Z",
     "start_time": "2019-08-03T03:00:21.640188Z"
    }
   },
   "outputs": [
    {
     "name": "stderr",
     "output_type": "stream",
     "text": [
      "Sample: 100%|███████████████████████████████████| 600/600 [04:05<00:00,  4.62it/s, step size=8.63e-02, acc. rate=0.857]\n"
     ]
    }
   ],
   "source": [
    "from pyro.infer.mcmc import HMC, MCMC\n",
    "# from pyro.infer import mcmc\n",
    "\n",
    "hmc_kernel = HMC(ppca_model, step_size=0.0855, num_steps=4)\n",
    "\n",
    "x_new = x_train_tensors[:, :500]\n",
    "\n",
    "ppca_model(x_new)\n",
    "\n",
    "mcmc_run = MCMC(hmc_kernel, num_samples=500, warmup_steps=100).run(x_new)"
   ]
  },
  {
   "cell_type": "code",
   "execution_count": 75,
   "metadata": {
    "ExecuteTime": {
     "end_time": "2019-08-03T03:07:36.323369Z",
     "start_time": "2019-08-03T03:07:36.300200Z"
    }
   },
   "outputs": [],
   "source": [
    "from pyro.infer import EmpiricalMarginal\n",
    "posterior_z = EmpiricalMarginal(mcmc_run, 'z')"
   ]
  },
  {
   "cell_type": "code",
   "execution_count": 93,
   "metadata": {
    "ExecuteTime": {
     "end_time": "2019-08-03T06:05:17.195837Z",
     "start_time": "2019-08-03T06:05:17.179880Z"
    }
   },
   "outputs": [
    {
     "data": {
      "text/plain": [
       "tensor([[ 0.4385, -2.2742],\n",
       "        [-0.0849, -2.0328],\n",
       "        [-0.0924, -1.9028],\n",
       "        ...,\n",
       "        [ 0.2301, -2.0688],\n",
       "        [ 1.1267, -1.4036],\n",
       "        [ 0.1130, -2.0810]])"
      ]
     },
     "execution_count": 93,
     "metadata": {},
     "output_type": "execute_result"
    }
   ],
   "source": [
    "posterior_z.mean"
   ]
  }
 ],
 "metadata": {
  "accelerator": "GPU",
  "colab": {
   "collapsed_sections": [],
   "machine_shape": "hm",
   "name": "Copy of deconfounder_pyro.ipynb",
   "provenance": [],
   "toc_visible": true,
   "version": "0.3.2"
  },
  "kernelspec": {
   "display_name": "Python 3",
   "language": "python",
   "name": "python3"
  },
  "language_info": {
   "codemirror_mode": {
    "name": "ipython",
    "version": 3
   },
   "file_extension": ".py",
   "mimetype": "text/x-python",
   "name": "python",
   "nbconvert_exporter": "python",
   "pygments_lexer": "ipython3",
   "version": "3.6.7"
  },
  "latex_envs": {
   "LaTeX_envs_menu_present": true,
   "autoclose": false,
   "autocomplete": true,
   "bibliofile": "biblio.bib",
   "cite_by": "apalike",
   "current_citInitial": 1,
   "eqLabelWithNumbers": true,
   "eqNumInitial": 1,
   "hotkeys": {
    "equation": "Ctrl-E",
    "itemize": "Ctrl-I"
   },
   "labels_anchors": false,
   "latex_user_defs": false,
   "report_style_numbering": false,
   "user_envs_cfg": false
  }
 },
 "nbformat": 4,
 "nbformat_minor": 1
}
