{
 "cells": [
  {
   "cell_type": "markdown",
   "metadata": {},
   "source": [
    "## Regression and Actor values\n",
    "\n",
    "We now check if we have debiased actor values given these confounders."
   ]
  },
  {
   "cell_type": "code",
   "execution_count": null,
   "metadata": {
    "ExecuteTime": {
     "end_time": "2019-08-07T19:54:56.705764Z",
     "start_time": "2019-08-07T19:54:56.702744Z"
    }
   },
   "outputs": [],
   "source": [
    "# Regression with confounders\n",
    "from sklearn.linear_model import LinearRegression, LogisticRegression\n",
    "from sklearn.preprocessing import StandardScaler\n",
    "from sklearn.model_selection import train_test_split\n",
    "from sklearn.metrics import r2_score, mean_squared_error"
   ]
  },
  {
   "cell_type": "code",
   "execution_count": null,
   "metadata": {
    "ExecuteTime": {
     "end_time": "2019-08-07T19:54:56.904124Z",
     "start_time": "2019-08-07T19:54:56.896677Z"
    }
   },
   "outputs": [],
   "source": [
    "#Import Data\n",
    "#Y_Scaled = StandardScaler().fit_transform(Y.reshape(-1,1))"
   ]
  },
  {
   "cell_type": "code",
   "execution_count": null,
   "metadata": {
    "ExecuteTime": {
     "end_time": "2019-08-07T22:44:35.497737Z",
     "start_time": "2019-08-07T22:44:35.490753Z"
    }
   },
   "outputs": [],
   "source": [
    "def fitModel(X, Y, title, test_size=0.8, cat=False, model=LinearRegression()):\n",
    "\n",
    "    X_train, X_test, Y_train, Y_test = train_test_split(X, Y, test_size=test_size, random_state=42)\n",
    "    model.fit(X_train, Y_train)\n",
    "    Y_pred = model.predict(X_test)\n",
    "    if not cat: \n",
    "        score = r2_score(Y_test, Y_pred)\n",
    "    else:\n",
    "        score = model.score(X_test, Y_test)\n",
    "    plt.plot(Y_pred, Y_test, 'o')\n",
    "    plt.xlabel('Predicted')\n",
    "    plt.ylabel('Actual')\n",
    "    plt.title(title)\n",
    "    plt.show()\n",
    "    \n",
    "    print(\"Root Mean squared Error:\", np.sqrt(mean_squared_error(Y_test, Y_pred)))\n",
    "    #return model.coef_\n",
    "    return model.coef_, Y_pred, Y_test"
   ]
  },
  {
   "cell_type": "markdown",
   "metadata": {},
   "source": [
    "### Regression on Revenue with only Actors (no confounders)."
   ]
  },
  {
   "cell_type": "code",
   "execution_count": null,
   "metadata": {
    "ExecuteTime": {
     "end_time": "2019-08-07T22:44:56.158512Z",
     "start_time": "2019-08-07T22:44:53.007127Z"
    }
   },
   "outputs": [],
   "source": [
    "coef_noCF_Y = fitModel(x_train.to_numpy(), Y_Scaled, title = \"Regression with Actors\", cat = False)"
   ]
  },
  {
   "cell_type": "markdown",
   "metadata": {},
   "source": [
    "### Regression on Revenue with Actors and Confounders"
   ]
  },
  {
   "cell_type": "code",
   "execution_count": null,
   "metadata": {
    "ExecuteTime": {
     "end_time": "2019-08-07T19:55:52.549424Z",
     "start_time": "2019-08-07T19:55:51.597939Z"
    }
   },
   "outputs": [],
   "source": [
    "data_CF = np.hstack((x_train.to_numpy(), X_CF))"
   ]
  },
  {
   "cell_type": "code",
   "execution_count": null,
   "metadata": {
    "ExecuteTime": {
     "end_time": "2019-08-07T22:45:15.554486Z",
     "start_time": "2019-08-07T22:45:14.118301Z"
    }
   },
   "outputs": [],
   "source": [
    "coef_X_CF_Y = fitModel(data_CF, Y_Scaled, title = \"Regression with Actors and Confounders\", cat = False)"
   ]
  },
  {
   "cell_type": "markdown",
   "metadata": {},
   "source": [
    "RMSE has decreased drastically."
   ]
  },
  {
   "cell_type": "markdown",
   "metadata": {},
   "source": [
    "Nowe we see which actors have changed coefficient values and in which direction (i.e overvalued or undervalued)."
   ]
  },
  {
   "cell_type": "code",
   "execution_count": null,
   "metadata": {
    "ExecuteTime": {
     "end_time": "2019-08-07T20:39:23.974049Z",
     "start_time": "2019-08-07T20:39:23.969817Z"
    }
   },
   "outputs": [],
   "source": [
    "actor_coefs_noCF = list(coef_noCF_Y[0][0])"
   ]
  },
  {
   "cell_type": "code",
   "execution_count": null,
   "metadata": {
    "ExecuteTime": {
     "end_time": "2019-08-07T20:39:24.143056Z",
     "start_time": "2019-08-07T20:39:24.130930Z"
    }
   },
   "outputs": [],
   "source": [
    "actor_coefs_X_CF = list(coef_X_CF_Y[0][0])[:-30]"
   ]
  },
  {
   "cell_type": "code",
   "execution_count": null,
   "metadata": {
    "ExecuteTime": {
     "end_time": "2019-08-07T20:39:24.571518Z",
     "start_time": "2019-08-07T20:39:24.558318Z"
    }
   },
   "outputs": [],
   "source": [
    "all_actors = list(x_train.columns)"
   ]
  },
  {
   "cell_type": "code",
   "execution_count": null,
   "metadata": {
    "ExecuteTime": {
     "end_time": "2019-08-07T20:55:37.180747Z",
     "start_time": "2019-08-07T20:55:37.167604Z"
    }
   },
   "outputs": [],
   "source": [
    "def findMaxChanges(noCF_coefs, XCF_coefs, actors):\n",
    "    \n",
    "    assert(len(noCF_coefs) == len(XCF_coefs))\n",
    "    fin_list = []\n",
    "    for i in range(len(noCF_coefs)):\n",
    "        actor = actors[i]\n",
    "        diff = XCF_coefs[i] - noCF_coefs[i]       # Difference between coef with CF and without CF\n",
    "        magnitude = np.linalg.norm(diff)          # How much change\n",
    "        direction = 'Overvalued' if np.sign(diff) == -1.0 else 'Undervalued'   # In what direction?\n",
    "        \n",
    "        # If direction is -ve i.e coef with CF is lesser than coef without CF it means that actor was being overvalued\n",
    "        \n",
    "        fin_list.append((actor, magnitude, direction))\n",
    "        \n",
    "    # Sort by most changes\n",
    "    fin_list.sort(key=lambda x: x[1], reverse = True)\n",
    "    df_toret = pd.DataFrame(fin_list, columns = ['Actor', 'Magnitude', 'Direction'])\n",
    "    return fin_list, df_toret"
   ]
  },
  {
   "cell_type": "code",
   "execution_count": null,
   "metadata": {
    "ExecuteTime": {
     "end_time": "2019-08-07T20:55:38.844509Z",
     "start_time": "2019-08-07T20:55:38.662856Z"
    }
   },
   "outputs": [],
   "source": [
    "tests = findMaxChanges(actor_coefs_noCF, actor_coefs_X_CF, all_actors)"
   ]
  },
  {
   "cell_type": "markdown",
   "metadata": {},
   "source": [
    "## David Blei's study.\n",
    "\n",
    "We compared if our overvalued actors are the same as our reference paper found them to be. <br>\n",
    "\n",
    "Overvalued Brad Pitt, Robert De niro <br>\n",
    "Undervalued: Nicolas Cage, Cate Blanchett, Antonio Banderas <br>\n",
    "Most Improved: Ben Affleck <br>"
   ]
  },
  {
   "cell_type": "markdown",
   "metadata": {},
   "source": [
    "Overvalued actors: Robert De Niro, Brad Pitt"
   ]
  },
  {
   "cell_type": "code",
   "execution_count": null,
   "metadata": {
    "ExecuteTime": {
     "end_time": "2019-08-07T20:55:46.331879Z",
     "start_time": "2019-08-07T20:55:46.319396Z"
    }
   },
   "outputs": [],
   "source": [
    "tests[1][tests[1]['Actor'] == 'Robert De Niro']"
   ]
  },
  {
   "cell_type": "code",
   "execution_count": null,
   "metadata": {
    "ExecuteTime": {
     "end_time": "2019-08-07T20:55:47.646399Z",
     "start_time": "2019-08-07T20:55:47.633929Z"
    }
   },
   "outputs": [],
   "source": [
    "tests[1][tests[1]['Actor'] == 'Brad Pitt']"
   ]
  },
  {
   "cell_type": "code",
   "execution_count": null,
   "metadata": {
    "ExecuteTime": {
     "end_time": "2019-08-07T20:55:49.224993Z",
     "start_time": "2019-08-07T20:55:49.209737Z"
    }
   },
   "outputs": [],
   "source": [
    "tests[1][tests[1]['Actor'] == 'Nicolas Cage']"
   ]
  },
  {
   "cell_type": "code",
   "execution_count": null,
   "metadata": {
    "ExecuteTime": {
     "end_time": "2019-08-07T20:55:50.609512Z",
     "start_time": "2019-08-07T20:55:50.596483Z"
    }
   },
   "outputs": [],
   "source": [
    "tests[1][tests[1]['Actor'] == 'Cate Blanchett']"
   ]
  },
  {
   "cell_type": "markdown",
   "metadata": {},
   "source": [
    "Undervalued: Nicolas Cage, Cate Blanchett, Antonio Banderas"
   ]
  },
  {
   "cell_type": "code",
   "execution_count": null,
   "metadata": {
    "ExecuteTime": {
     "end_time": "2019-08-07T20:55:52.327983Z",
     "start_time": "2019-08-07T20:55:52.311631Z"
    }
   },
   "outputs": [],
   "source": [
    "tests[1][tests[1]['Actor'] == 'Antonio Banderas']"
   ]
  },
  {
   "cell_type": "code",
   "execution_count": null,
   "metadata": {
    "ExecuteTime": {
     "end_time": "2019-08-07T20:55:42.903110Z",
     "start_time": "2019-08-07T20:55:42.891018Z"
    }
   },
   "outputs": [],
   "source": [
    "tests[1][tests[1]['Actor'] == 'Ben Affleck']"
   ]
  },
  {
   "cell_type": "markdown",
   "metadata": {},
   "source": [
    "**Is miss Monneyppenny overvalued?** <br>\n",
    "Looking at who played M in Skyfall: Judi Dench, and who played Bond: Daniel Craig"
   ]
  },
  {
   "cell_type": "code",
   "execution_count": null,
   "metadata": {
    "ExecuteTime": {
     "end_time": "2019-08-07T20:55:54.194442Z",
     "start_time": "2019-08-07T20:55:54.177728Z"
    }
   },
   "outputs": [],
   "source": [
    "tests[1][tests[1]['Actor'] == 'Judi Dench']"
   ]
  },
  {
   "cell_type": "code",
   "execution_count": null,
   "metadata": {
    "ExecuteTime": {
     "end_time": "2019-08-07T20:55:55.351881Z",
     "start_time": "2019-08-07T20:55:55.338742Z"
    }
   },
   "outputs": [],
   "source": [
    "tests[1][tests[1]['Actor'] == 'Daniel Craig']"
   ]
  },
  {
   "cell_type": "markdown",
   "metadata": {},
   "source": [
    "## HMC\n",
    "Really slow but works without a guide function. This attempt is only with 500 columns and not all 13852 columns."
   ]
  },
  {
   "cell_type": "code",
   "execution_count": null,
   "metadata": {
    "ExecuteTime": {
     "end_time": "2019-08-03T03:04:27.170639Z",
     "start_time": "2019-08-03T03:00:21.640188Z"
    }
   },
   "outputs": [],
   "source": [
    "from pyro.infer.mcmc import HMC, MCMC\n",
    "# from pyro.infer import mcmc\n",
    "\n",
    "hmc_kernel = HMC(ppca_model, step_size=0.0855, num_steps=4)\n",
    "\n",
    "x_new = x_train_tensors[:, :500]\n",
    "\n",
    "ppca_model(x_new)\n",
    "\n",
    "mcmc_run = MCMC(hmc_kernel, num_samples=500, warmup_steps=100).run(x_new)"
   ]
  },
  {
   "cell_type": "code",
   "execution_count": null,
   "metadata": {
    "ExecuteTime": {
     "end_time": "2019-08-03T03:07:36.323369Z",
     "start_time": "2019-08-03T03:07:36.300200Z"
    }
   },
   "outputs": [],
   "source": [
    "from pyro.infer import EmpiricalMarginal\n",
    "posterior_z = EmpiricalMarginal(mcmc_run, 'z')"
   ]
  },
  {
   "cell_type": "code",
   "execution_count": null,
   "metadata": {
    "ExecuteTime": {
     "end_time": "2019-08-03T06:05:17.195837Z",
     "start_time": "2019-08-03T06:05:17.179880Z"
    }
   },
   "outputs": [],
   "source": [
    "posterior_z.mean"
   ]
  }
 ],
 "metadata": {
  "accelerator": "GPU",
  "colab": {
   "collapsed_sections": [],
   "machine_shape": "hm",
   "name": "Copy of deconfounder_pyro.ipynb",
   "provenance": [],
   "toc_visible": true,
   "version": "0.3.2"
  },
  "kernelspec": {
   "display_name": "Python 3",
   "language": "python",
   "name": "python3"
  },
  "language_info": {
   "codemirror_mode": {
    "name": "ipython",
    "version": 3
   },
   "file_extension": ".py",
   "mimetype": "text/x-python",
   "name": "python",
   "nbconvert_exporter": "python",
   "pygments_lexer": "ipython3",
   "version": "3.6.7"
  },
  "latex_envs": {
   "LaTeX_envs_menu_present": true,
   "autoclose": false,
   "autocomplete": true,
   "bibliofile": "biblio.bib",
   "cite_by": "apalike",
   "current_citInitial": 1,
   "eqLabelWithNumbers": true,
   "eqNumInitial": 1,
   "hotkeys": {
    "equation": "Ctrl-E",
    "itemize": "Ctrl-I"
   },
   "labels_anchors": false,
   "latex_user_defs": false,
   "report_style_numbering": false,
   "user_envs_cfg": false
  }
 },
 "nbformat": 4,
 "nbformat_minor": 1
}
