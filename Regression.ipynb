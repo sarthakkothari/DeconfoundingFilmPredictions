{
 "cells": [
  {
   "cell_type": "code",
   "execution_count": 36,
   "metadata": {
    "ExecuteTime": {
     "end_time": "2019-08-05T22:12:26.790013Z",
     "start_time": "2019-08-05T22:12:26.786259Z"
    }
   },
   "outputs": [],
   "source": [
    "import pandas as pd\n",
    "import numpy as np\n",
    "import matplotlib.pyplot as plt\n",
    "from sklearn.linear_model import LinearRegression\n",
    "from sklearn.preprocessing import StandardScaler\n",
    "from sklearn.model_selection import train_test_split\n",
    "from sklearn.metrics import r2_score"
   ]
  },
  {
   "cell_type": "code",
   "execution_count": 12,
   "metadata": {
    "ExecuteTime": {
     "end_time": "2019-08-05T22:02:14.446580Z",
     "start_time": "2019-08-05T22:02:02.049631Z"
    }
   },
   "outputs": [],
   "source": [
    "data = pd.read_csv('ohe_movies_confounders.csv', index_col='title_x')"
   ]
  },
  {
   "cell_type": "code",
   "execution_count": 6,
   "metadata": {
    "ExecuteTime": {
     "end_time": "2019-08-05T21:59:23.282750Z",
     "start_time": "2019-08-05T21:59:23.256802Z"
    }
   },
   "outputs": [
    {
     "data": {
      "text/html": [
       "<div>\n",
       "<style scoped>\n",
       "    .dataframe tbody tr th:only-of-type {\n",
       "        vertical-align: middle;\n",
       "    }\n",
       "\n",
       "    .dataframe tbody tr th {\n",
       "        vertical-align: top;\n",
       "    }\n",
       "\n",
       "    .dataframe thead th {\n",
       "        text-align: right;\n",
       "    }\n",
       "</style>\n",
       "<table border=\"1\" class=\"dataframe\">\n",
       "  <thead>\n",
       "    <tr style=\"text-align: right;\">\n",
       "      <th></th>\n",
       "      <th>revenue</th>\n",
       "      <th>Larry Mullen Jr.</th>\n",
       "      <th>50 Cent</th>\n",
       "      <th>A. J. Benza</th>\n",
       "      <th>A. J. Langer</th>\n",
       "      <th>A. Jay Radcliff</th>\n",
       "      <th>A. Michael Baldwin</th>\n",
       "      <th>A. Russell Andrews</th>\n",
       "      <th>A.D. Miles</th>\n",
       "      <th>A.J. Buckley</th>\n",
       "      <th>...</th>\n",
       "      <th>Édgar Vivar</th>\n",
       "      <th>Ólafur Darri Ólafsson</th>\n",
       "      <th>Óscar Casas</th>\n",
       "      <th>Óscar Jaenada</th>\n",
       "      <th>Ørjan Gamst</th>\n",
       "      <th>Đỗ Thị Hải Yến</th>\n",
       "      <th>Юлия Снигирь</th>\n",
       "      <th>徐帆</th>\n",
       "      <th>Z1</th>\n",
       "      <th>Z2</th>\n",
       "    </tr>\n",
       "    <tr>\n",
       "      <th>title_x</th>\n",
       "      <th></th>\n",
       "      <th></th>\n",
       "      <th></th>\n",
       "      <th></th>\n",
       "      <th></th>\n",
       "      <th></th>\n",
       "      <th></th>\n",
       "      <th></th>\n",
       "      <th></th>\n",
       "      <th></th>\n",
       "      <th></th>\n",
       "      <th></th>\n",
       "      <th></th>\n",
       "      <th></th>\n",
       "      <th></th>\n",
       "      <th></th>\n",
       "      <th></th>\n",
       "      <th></th>\n",
       "      <th></th>\n",
       "      <th></th>\n",
       "      <th></th>\n",
       "    </tr>\n",
       "  </thead>\n",
       "  <tbody>\n",
       "    <tr>\n",
       "      <th>Avatar</th>\n",
       "      <td>2787965087</td>\n",
       "      <td>0</td>\n",
       "      <td>0</td>\n",
       "      <td>0</td>\n",
       "      <td>0</td>\n",
       "      <td>0</td>\n",
       "      <td>0</td>\n",
       "      <td>0</td>\n",
       "      <td>0</td>\n",
       "      <td>0</td>\n",
       "      <td>...</td>\n",
       "      <td>0</td>\n",
       "      <td>0</td>\n",
       "      <td>0</td>\n",
       "      <td>0</td>\n",
       "      <td>0</td>\n",
       "      <td>0</td>\n",
       "      <td>0</td>\n",
       "      <td>0</td>\n",
       "      <td>-0.249008</td>\n",
       "      <td>0.132624</td>\n",
       "    </tr>\n",
       "    <tr>\n",
       "      <th>Pirates of the Caribbean: At World's End</th>\n",
       "      <td>961000000</td>\n",
       "      <td>0</td>\n",
       "      <td>0</td>\n",
       "      <td>0</td>\n",
       "      <td>0</td>\n",
       "      <td>0</td>\n",
       "      <td>0</td>\n",
       "      <td>0</td>\n",
       "      <td>0</td>\n",
       "      <td>0</td>\n",
       "      <td>...</td>\n",
       "      <td>0</td>\n",
       "      <td>0</td>\n",
       "      <td>0</td>\n",
       "      <td>0</td>\n",
       "      <td>0</td>\n",
       "      <td>0</td>\n",
       "      <td>0</td>\n",
       "      <td>0</td>\n",
       "      <td>0.192756</td>\n",
       "      <td>-0.268983</td>\n",
       "    </tr>\n",
       "    <tr>\n",
       "      <th>Spectre</th>\n",
       "      <td>880674609</td>\n",
       "      <td>0</td>\n",
       "      <td>0</td>\n",
       "      <td>0</td>\n",
       "      <td>0</td>\n",
       "      <td>0</td>\n",
       "      <td>0</td>\n",
       "      <td>0</td>\n",
       "      <td>0</td>\n",
       "      <td>0</td>\n",
       "      <td>...</td>\n",
       "      <td>0</td>\n",
       "      <td>0</td>\n",
       "      <td>0</td>\n",
       "      <td>0</td>\n",
       "      <td>0</td>\n",
       "      <td>0</td>\n",
       "      <td>0</td>\n",
       "      <td>0</td>\n",
       "      <td>-0.580435</td>\n",
       "      <td>0.048904</td>\n",
       "    </tr>\n",
       "    <tr>\n",
       "      <th>The Dark Knight Rises</th>\n",
       "      <td>1084939099</td>\n",
       "      <td>0</td>\n",
       "      <td>0</td>\n",
       "      <td>0</td>\n",
       "      <td>0</td>\n",
       "      <td>0</td>\n",
       "      <td>0</td>\n",
       "      <td>0</td>\n",
       "      <td>0</td>\n",
       "      <td>0</td>\n",
       "      <td>...</td>\n",
       "      <td>0</td>\n",
       "      <td>0</td>\n",
       "      <td>0</td>\n",
       "      <td>0</td>\n",
       "      <td>0</td>\n",
       "      <td>0</td>\n",
       "      <td>0</td>\n",
       "      <td>0</td>\n",
       "      <td>-0.346079</td>\n",
       "      <td>0.113061</td>\n",
       "    </tr>\n",
       "    <tr>\n",
       "      <th>John Carter</th>\n",
       "      <td>284139100</td>\n",
       "      <td>0</td>\n",
       "      <td>0</td>\n",
       "      <td>0</td>\n",
       "      <td>0</td>\n",
       "      <td>0</td>\n",
       "      <td>0</td>\n",
       "      <td>0</td>\n",
       "      <td>0</td>\n",
       "      <td>0</td>\n",
       "      <td>...</td>\n",
       "      <td>0</td>\n",
       "      <td>0</td>\n",
       "      <td>0</td>\n",
       "      <td>0</td>\n",
       "      <td>0</td>\n",
       "      <td>0</td>\n",
       "      <td>0</td>\n",
       "      <td>0</td>\n",
       "      <td>-0.167009</td>\n",
       "      <td>-1.014746</td>\n",
       "    </tr>\n",
       "  </tbody>\n",
       "</table>\n",
       "<p>5 rows × 13855 columns</p>\n",
       "</div>"
      ],
      "text/plain": [
       "                                             revenue   Larry Mullen Jr.  \\\n",
       "title_x                                                                   \n",
       "Avatar                                    2787965087                  0   \n",
       "Pirates of the Caribbean: At World's End   961000000                  0   \n",
       "Spectre                                    880674609                  0   \n",
       "The Dark Knight Rises                     1084939099                  0   \n",
       "John Carter                                284139100                  0   \n",
       "\n",
       "                                          50 Cent  A. J. Benza  A. J. Langer  \\\n",
       "title_x                                                                        \n",
       "Avatar                                          0            0             0   \n",
       "Pirates of the Caribbean: At World's End        0            0             0   \n",
       "Spectre                                         0            0             0   \n",
       "The Dark Knight Rises                           0            0             0   \n",
       "John Carter                                     0            0             0   \n",
       "\n",
       "                                          A. Jay Radcliff  A. Michael Baldwin  \\\n",
       "title_x                                                                         \n",
       "Avatar                                                  0                   0   \n",
       "Pirates of the Caribbean: At World's End                0                   0   \n",
       "Spectre                                                 0                   0   \n",
       "The Dark Knight Rises                                   0                   0   \n",
       "John Carter                                             0                   0   \n",
       "\n",
       "                                          A. Russell Andrews  A.D. Miles  \\\n",
       "title_x                                                                    \n",
       "Avatar                                                     0           0   \n",
       "Pirates of the Caribbean: At World's End                   0           0   \n",
       "Spectre                                                    0           0   \n",
       "The Dark Knight Rises                                      0           0   \n",
       "John Carter                                                0           0   \n",
       "\n",
       "                                          A.J. Buckley  ...  Édgar Vivar  \\\n",
       "title_x                                                 ...                \n",
       "Avatar                                               0  ...            0   \n",
       "Pirates of the Caribbean: At World's End             0  ...            0   \n",
       "Spectre                                              0  ...            0   \n",
       "The Dark Knight Rises                                0  ...            0   \n",
       "John Carter                                          0  ...            0   \n",
       "\n",
       "                                          Ólafur Darri Ólafsson  Óscar Casas  \\\n",
       "title_x                                                                        \n",
       "Avatar                                                        0            0   \n",
       "Pirates of the Caribbean: At World's End                      0            0   \n",
       "Spectre                                                       0            0   \n",
       "The Dark Knight Rises                                         0            0   \n",
       "John Carter                                                   0            0   \n",
       "\n",
       "                                          Óscar Jaenada  Ørjan Gamst  \\\n",
       "title_x                                                                \n",
       "Avatar                                                0            0   \n",
       "Pirates of the Caribbean: At World's End              0            0   \n",
       "Spectre                                               0            0   \n",
       "The Dark Knight Rises                                 0            0   \n",
       "John Carter                                           0            0   \n",
       "\n",
       "                                          Đỗ Thị Hải Yến  Юлия Снигирь  徐帆  \\\n",
       "title_x                                                                      \n",
       "Avatar                                                 0             0   0   \n",
       "Pirates of the Caribbean: At World's End               0             0   0   \n",
       "Spectre                                                0             0   0   \n",
       "The Dark Knight Rises                                  0             0   0   \n",
       "John Carter                                            0             0   0   \n",
       "\n",
       "                                                Z1        Z2  \n",
       "title_x                                                       \n",
       "Avatar                                   -0.249008  0.132624  \n",
       "Pirates of the Caribbean: At World's End  0.192756 -0.268983  \n",
       "Spectre                                  -0.580435  0.048904  \n",
       "The Dark Knight Rises                    -0.346079  0.113061  \n",
       "John Carter                              -0.167009 -1.014746  \n",
       "\n",
       "[5 rows x 13855 columns]"
      ]
     },
     "execution_count": 6,
     "metadata": {},
     "output_type": "execute_result"
    }
   ],
   "source": [
    "data.head()"
   ]
  },
  {
   "cell_type": "code",
   "execution_count": 14,
   "metadata": {
    "ExecuteTime": {
     "end_time": "2019-08-05T22:02:42.626064Z",
     "start_time": "2019-08-05T22:02:42.464721Z"
    }
   },
   "outputs": [
    {
     "data": {
      "text/plain": [
       "(array([2.998e+03, 2.550e+02, 7.500e+01, 3.400e+01, 6.000e+00, 4.000e+00,\n",
       "        1.000e+00, 0.000e+00, 0.000e+00, 1.000e+00]),\n",
       " array([-0.04199845,  0.05800155,  0.15800155,  0.25800155,  0.35800155,\n",
       "         0.45800155,  0.55800155,  0.65800155,  0.75800155,  0.85800155,\n",
       "         0.95800155]),\n",
       " <a list of 10 Patch objects>)"
      ]
     },
     "execution_count": 14,
     "metadata": {},
     "output_type": "execute_result"
    },
    {
     "data": {
      "image/png": "[encoded data removed]",
      "text/plain": [
       "<Figure size 432x288 with 1 Axes>"
      ]
     },
     "metadata": {
      "needs_background": "light"
     },
     "output_type": "display_data"
    }
   ],
   "source": [
    "plt.hist(((data['revenue'] - data['revenue'].mean()) / (data['revenue'].max() - data['revenue'].min())))"
   ]
  },
  {
   "cell_type": "code",
   "execution_count": 20,
   "metadata": {
    "ExecuteTime": {
     "end_time": "2019-08-05T22:05:26.874122Z",
     "start_time": "2019-08-05T22:05:26.701812Z"
    }
   },
   "outputs": [
    {
     "data": {
      "text/plain": [
       "(array([  15.,    6.,    2.,    9.,   40.,  117.,  303., 1159., 1489.,\n",
       "         234.]),\n",
       " array([ 1.60943791,  3.6233519 ,  5.63726589,  7.65117988,  9.66509387,\n",
       "        11.67900786, 13.69292185, 15.70683584, 17.72074983, 19.73466382,\n",
       "        21.74857781]),\n",
       " <a list of 10 Patch objects>)"
      ]
     },
     "execution_count": 20,
     "metadata": {},
     "output_type": "execute_result"
    },
    {
     "data": {
      "image/png": "[encoded data removed]",
      "text/plain": [
       "<Figure size 432x288 with 1 Axes>"
      ]
     },
     "metadata": {
      "needs_background": "light"
     },
     "output_type": "display_data"
    }
   ],
   "source": [
    "plt.hist(np.log(data['revenue'].values))"
   ]
  },
  {
   "cell_type": "code",
   "execution_count": 32,
   "metadata": {
    "ExecuteTime": {
     "end_time": "2019-08-05T22:09:20.498087Z",
     "start_time": "2019-08-05T22:09:20.061258Z"
    }
   },
   "outputs": [],
   "source": [
    "Y = data.iloc[:, :1]\n",
    "X = data.iloc[:, 1:]\n",
    "X_NoCF = X.iloc[:, :-2]"
   ]
  },
  {
   "cell_type": "code",
   "execution_count": 41,
   "metadata": {
    "ExecuteTime": {
     "end_time": "2019-08-05T22:16:17.146389Z",
     "start_time": "2019-08-05T22:16:17.138783Z"
    }
   },
   "outputs": [
    {
     "name": "stderr",
     "output_type": "stream",
     "text": [
      "/Users/sarthak/anaconda3/lib/python3.6/site-packages/sklearn/preprocessing/data.py:645: DataConversionWarning: Data with input dtype int64 were all converted to float64 by StandardScaler.\n",
      "  return self.partial_fit(X, y)\n",
      "/Users/sarthak/anaconda3/lib/python3.6/site-packages/sklearn/base.py:464: DataConversionWarning: Data with input dtype int64 were all converted to float64 by StandardScaler.\n",
      "  return self.fit(X, **fit_params).transform(X)\n"
     ]
    }
   ],
   "source": [
    "Y_Scaled = preprocessing.StandardScaler().fit_transform(Y)\n",
    "Y_Log = np.log(Y)"
   ]
  },
  {
   "cell_type": "code",
   "execution_count": 52,
   "metadata": {
    "ExecuteTime": {
     "end_time": "2019-08-05T22:18:39.915395Z",
     "start_time": "2019-08-05T22:18:39.910373Z"
    }
   },
   "outputs": [],
   "source": [
    "def fitModel(X, Y, test_size=0.8, model=LinearRegression()):\n",
    "#     model = LinearRegression()\n",
    "    X_train, X_test, Y_train, Y_test = train_test_split(X, Y, test_size=test_size, random_state=42)\n",
    "    model.fit(X_train, Y_train)\n",
    "    Y_pred = model.predict(X_test)\n",
    "    score = r2_score(Y_test, Y_pred)\n",
    "    plt.plot(Y_pred, Y_test, 'o')\n",
    "    plt.title('Score : ' + str(score))\n",
    "    plt.show()\n",
    "    return model.coef_"
   ]
  },
  {
   "cell_type": "code",
   "execution_count": 53,
   "metadata": {
    "ExecuteTime": {
     "end_time": "2019-08-05T22:18:43.198923Z",
     "start_time": "2019-08-05T22:18:41.313577Z"
    }
   },
   "outputs": [
    {
     "data": {
      "image/png": "[encoded data removed]",
      "text/plain": [
       "<Figure size 432x288 with 1 Axes>"
      ]
     },
     "metadata": {
      "needs_background": "light"
     },
     "output_type": "display_data"
    }
   ],
   "source": [
    "coef_NoCF_Y = fitModel(X_NoCF, Y)"
   ]
  },
  {
   "cell_type": "code",
   "execution_count": 62,
   "metadata": {
    "ExecuteTime": {
     "end_time": "2019-08-05T22:25:43.699301Z",
     "start_time": "2019-08-05T22:25:41.888476Z"
    }
   },
   "outputs": [
    {
     "data": {
      "image/png": "[encoded data removed]",
      "text/plain": [
       "<Figure size 432x288 with 1 Axes>"
      ]
     },
     "metadata": {
      "needs_background": "light"
     },
     "output_type": "display_data"
    },
    {
     "data": {
      "text/plain": [
       "array([[-2.35487987e+19, -1.82744627e+19,  2.96352948e+18, ...,\n",
       "         0.00000000e+00,  1.19954239e+18,  0.00000000e+00]])"
      ]
     },
     "execution_count": 62,
     "metadata": {},
     "output_type": "execute_result"
    }
   ],
   "source": [
    "coef_NoCF_Y_Scaled = fitModel(X_NoCF, Y_Scaled)\n",
    "coef_NoCF_Y"
   ]
  },
  {
   "cell_type": "code",
   "execution_count": 47,
   "metadata": {
    "ExecuteTime": {
     "end_time": "2019-08-05T22:16:57.971699Z",
     "start_time": "2019-08-05T22:16:56.190300Z"
    }
   },
   "outputs": [
    {
     "data": {
      "image/png": "[encoded data removed]",
      "text/plain": [
       "<Figure size 432x288 with 1 Axes>"
      ]
     },
     "metadata": {
      "needs_background": "light"
     },
     "output_type": "display_data"
    }
   ],
   "source": [
    "coef_NoCF_Y_Log = fitModel(X_NoCF, Y_Log)"
   ]
  },
  {
   "cell_type": "code",
   "execution_count": 49,
   "metadata": {
    "ExecuteTime": {
     "end_time": "2019-08-05T22:18:03.776651Z",
     "start_time": "2019-08-05T22:18:01.839279Z"
    }
   },
   "outputs": [
    {
     "data": {
      "image/png": "[encoded data removed]",
      "text/plain": [
       "<Figure size 432x288 with 1 Axes>"
      ]
     },
     "metadata": {
      "needs_background": "light"
     },
     "output_type": "display_data"
    }
   ],
   "source": [
    "coef_Y = fitModel(X, Y)"
   ]
  },
  {
   "cell_type": "code",
   "execution_count": 50,
   "metadata": {
    "ExecuteTime": {
     "end_time": "2019-08-05T22:18:17.904144Z",
     "start_time": "2019-08-05T22:18:16.044950Z"
    }
   },
   "outputs": [
    {
     "data": {
      "image/png": "[encoded data removed]",
      "text/plain": [
       "<Figure size 432x288 with 1 Axes>"
      ]
     },
     "metadata": {
      "needs_background": "light"
     },
     "output_type": "display_data"
    }
   ],
   "source": [
    "coef_Y_Scaled = fitModel(X, Y_Scaled)"
   ]
  },
  {
   "cell_type": "code",
   "execution_count": 51,
   "metadata": {
    "ExecuteTime": {
     "end_time": "2019-08-05T22:18:22.356398Z",
     "start_time": "2019-08-05T22:18:20.520260Z"
    },
    "scrolled": true
   },
   "outputs": [
    {
     "data": {
      "image/png": "[encoded data removed]",
      "text/plain": [
       "<Figure size 432x288 with 1 Axes>"
      ]
     },
     "metadata": {
      "needs_background": "light"
     },
     "output_type": "display_data"
    }
   ],
   "source": [
    "coef_Y_Log = fitModel(X, Y_Log)"
   ]
  },
  {
   "cell_type": "code",
   "execution_count": 63,
   "metadata": {
    "ExecuteTime": {
     "end_time": "2019-08-05T22:38:55.651107Z",
     "start_time": "2019-08-05T22:38:55.626125Z"
    }
   },
   "outputs": [],
   "source": [
    "from  sklearn.ensemble import RandomForestRegressor"
   ]
  },
  {
   "cell_type": "code",
   "execution_count": 64,
   "metadata": {
    "ExecuteTime": {
     "end_time": "2019-08-05T22:39:26.186469Z",
     "start_time": "2019-08-05T22:39:19.728929Z"
    }
   },
   "outputs": [
    {
     "name": "stderr",
     "output_type": "stream",
     "text": [
      "/Users/sarthak/anaconda3/lib/python3.6/site-packages/sklearn/ensemble/forest.py:246: FutureWarning: The default value of n_estimators will change from 10 in version 0.20 to 100 in 0.22.\n",
      "  \"10 in version 0.20 to 100 in 0.22.\", FutureWarning)\n",
      "/Users/sarthak/anaconda3/lib/python3.6/site-packages/ipykernel_launcher.py:4: DataConversionWarning: A column-vector y was passed when a 1d array was expected. Please change the shape of y to (n_samples,), for example using ravel().\n",
      "  after removing the cwd from sys.path.\n"
     ]
    },
    {
     "data": {
      "image/png": "[encoded data removed]",
      "text/plain": [
       "<Figure size 432x288 with 1 Axes>"
      ]
     },
     "metadata": {
      "needs_background": "light"
     },
     "output_type": "display_data"
    },
    {
     "ename": "AttributeError",
     "evalue": "'RandomForestRegressor' object has no attribute 'coef_'",
     "output_type": "error",
     "traceback": [
      "\u001b[0;31m---------------------------------------------------------------------------\u001b[0m",
      "\u001b[0;31mAttributeError\u001b[0m                            Traceback (most recent call last)",
      "\u001b[0;32m<ipython-input-64-39f63bde8601>\u001b[0m in \u001b[0;36m<module>\u001b[0;34m\u001b[0m\n\u001b[0;32m----> 1\u001b[0;31m \u001b[0mcoef_NoCF_Y_Scaled\u001b[0m \u001b[0;34m=\u001b[0m \u001b[0mfitModel\u001b[0m\u001b[0;34m(\u001b[0m\u001b[0mX_NoCF\u001b[0m\u001b[0;34m,\u001b[0m \u001b[0mY_Scaled\u001b[0m\u001b[0;34m,\u001b[0m \u001b[0mmodel\u001b[0m\u001b[0;34m=\u001b[0m\u001b[0mRandomForestRegressor\u001b[0m\u001b[0;34m(\u001b[0m\u001b[0;34m)\u001b[0m\u001b[0;34m)\u001b[0m\u001b[0;34m\u001b[0m\u001b[0;34m\u001b[0m\u001b[0m\n\u001b[0m",
      "\u001b[0;32m<ipython-input-52-70098c706b9e>\u001b[0m in \u001b[0;36mfitModel\u001b[0;34m(X, Y, test_size, model)\u001b[0m\n\u001b[1;32m      8\u001b[0m     \u001b[0mplt\u001b[0m\u001b[0;34m.\u001b[0m\u001b[0mtitle\u001b[0m\u001b[0;34m(\u001b[0m\u001b[0;34m'Score : '\u001b[0m \u001b[0;34m+\u001b[0m \u001b[0mstr\u001b[0m\u001b[0;34m(\u001b[0m\u001b[0mscore\u001b[0m\u001b[0;34m)\u001b[0m\u001b[0;34m)\u001b[0m\u001b[0;34m\u001b[0m\u001b[0;34m\u001b[0m\u001b[0m\n\u001b[1;32m      9\u001b[0m     \u001b[0mplt\u001b[0m\u001b[0;34m.\u001b[0m\u001b[0mshow\u001b[0m\u001b[0;34m(\u001b[0m\u001b[0;34m)\u001b[0m\u001b[0;34m\u001b[0m\u001b[0;34m\u001b[0m\u001b[0m\n\u001b[0;32m---> 10\u001b[0;31m     \u001b[0;32mreturn\u001b[0m \u001b[0mmodel\u001b[0m\u001b[0;34m.\u001b[0m\u001b[0mcoef_\u001b[0m\u001b[0;34m\u001b[0m\u001b[0;34m\u001b[0m\u001b[0m\n\u001b[0m",
      "\u001b[0;31mAttributeError\u001b[0m: 'RandomForestRegressor' object has no attribute 'coef_'"
     ]
    }
   ],
   "source": [
    "coef_NoCF_Y_Scaled = fitModel(X_NoCF, Y_Scaled, model=RandomForestRegressor())"
   ]
  },
  {
   "cell_type": "code",
   "execution_count": 65,
   "metadata": {
    "ExecuteTime": {
     "end_time": "2019-08-05T22:39:39.219583Z",
     "start_time": "2019-08-05T22:39:34.471708Z"
    }
   },
   "outputs": [
    {
     "name": "stderr",
     "output_type": "stream",
     "text": [
      "/Users/sarthak/anaconda3/lib/python3.6/site-packages/sklearn/ensemble/forest.py:246: FutureWarning: The default value of n_estimators will change from 10 in version 0.20 to 100 in 0.22.\n",
      "  \"10 in version 0.20 to 100 in 0.22.\", FutureWarning)\n",
      "/Users/sarthak/anaconda3/lib/python3.6/site-packages/ipykernel_launcher.py:4: DataConversionWarning: A column-vector y was passed when a 1d array was expected. Please change the shape of y to (n_samples,), for example using ravel().\n",
      "  after removing the cwd from sys.path.\n"
     ]
    },
    {
     "data": {
      "image/png": "[encoded data removed]",
      "text/plain": [
       "<Figure size 432x288 with 1 Axes>"
      ]
     },
     "metadata": {
      "needs_background": "light"
     },
     "output_type": "display_data"
    },
    {
     "ename": "AttributeError",
     "evalue": "'RandomForestRegressor' object has no attribute 'coef_'",
     "output_type": "error",
     "traceback": [
      "\u001b[0;31m---------------------------------------------------------------------------\u001b[0m",
      "\u001b[0;31mAttributeError\u001b[0m                            Traceback (most recent call last)",
      "\u001b[0;32m<ipython-input-65-8611bf6ed2cb>\u001b[0m in \u001b[0;36m<module>\u001b[0;34m\u001b[0m\n\u001b[0;32m----> 1\u001b[0;31m \u001b[0mcoef_Y_Scaled\u001b[0m \u001b[0;34m=\u001b[0m \u001b[0mfitModel\u001b[0m\u001b[0;34m(\u001b[0m\u001b[0mX\u001b[0m\u001b[0;34m,\u001b[0m \u001b[0mY_Scaled\u001b[0m\u001b[0;34m,\u001b[0m \u001b[0mmodel\u001b[0m\u001b[0;34m=\u001b[0m\u001b[0mRandomForestRegressor\u001b[0m\u001b[0;34m(\u001b[0m\u001b[0;34m)\u001b[0m\u001b[0;34m)\u001b[0m\u001b[0;34m\u001b[0m\u001b[0;34m\u001b[0m\u001b[0m\n\u001b[0m",
      "\u001b[0;32m<ipython-input-52-70098c706b9e>\u001b[0m in \u001b[0;36mfitModel\u001b[0;34m(X, Y, test_size, model)\u001b[0m\n\u001b[1;32m      8\u001b[0m     \u001b[0mplt\u001b[0m\u001b[0;34m.\u001b[0m\u001b[0mtitle\u001b[0m\u001b[0;34m(\u001b[0m\u001b[0;34m'Score : '\u001b[0m \u001b[0;34m+\u001b[0m \u001b[0mstr\u001b[0m\u001b[0;34m(\u001b[0m\u001b[0mscore\u001b[0m\u001b[0;34m)\u001b[0m\u001b[0;34m)\u001b[0m\u001b[0;34m\u001b[0m\u001b[0;34m\u001b[0m\u001b[0m\n\u001b[1;32m      9\u001b[0m     \u001b[0mplt\u001b[0m\u001b[0;34m.\u001b[0m\u001b[0mshow\u001b[0m\u001b[0;34m(\u001b[0m\u001b[0;34m)\u001b[0m\u001b[0;34m\u001b[0m\u001b[0;34m\u001b[0m\u001b[0m\n\u001b[0;32m---> 10\u001b[0;31m     \u001b[0;32mreturn\u001b[0m \u001b[0mmodel\u001b[0m\u001b[0;34m.\u001b[0m\u001b[0mcoef_\u001b[0m\u001b[0;34m\u001b[0m\u001b[0;34m\u001b[0m\u001b[0m\n\u001b[0m",
      "\u001b[0;31mAttributeError\u001b[0m: 'RandomForestRegressor' object has no attribute 'coef_'"
     ]
    }
   ],
   "source": [
    "coef_Y_Scaled = fitModel(X, Y_Scaled, model=RandomForestRegressor())"
   ]
  },
  {
   "cell_type": "code",
   "execution_count": null,
   "metadata": {},
   "outputs": [],
   "source": []
  }
 ],
 "metadata": {
  "kernelspec": {
   "display_name": "Python 3",
   "language": "python",
   "name": "python3"
  },
  "language_info": {
   "codemirror_mode": {
    "name": "ipython",
    "version": 3
   },
   "file_extension": ".py",
   "mimetype": "text/x-python",
   "name": "python",
   "nbconvert_exporter": "python",
   "pygments_lexer": "ipython3",
   "version": "3.6.7"
  }
 },
 "nbformat": 4,
 "nbformat_minor": 2
}
