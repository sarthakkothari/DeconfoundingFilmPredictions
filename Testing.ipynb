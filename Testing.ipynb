{
 "cells": [
  {
   "cell_type": "markdown",
   "metadata": {
    "colab_type": "text",
    "id": "OUt2iSDAfu26"
   },
   "source": [
    "# Deconfounding Movie Revenues - Preliminary Results\n",
    "This is the Pyro implementation of the Deconfounder from Blei-labs \"Blessings of Multiple Causes\" which investigates actor values by aiming to infer latent confounders that afffect casting and revenue of the movie. <br>\n",
    "\n",
    "For example: In a James Bond movie, revenue is primarily driven by the actor who plays James Bond and the franchise value that Bond movies carry. Supporting roles like M and Q do not contribute much to revenue. This fact is not captured by traditional linear regression models which bias revenue towards these actors. <br>\n",
    "\n",
    "The **deconfounder** debiases these predictions by correcting the regression coefficients of these actors and hence, brings the model closer to the actual value of actors to a movie and its revenue."
   ]
  },
  {
   "cell_type": "markdown",
   "metadata": {
    "colab_type": "text",
    "id": "KC2d_wd4XWYM"
   },
   "source": [
    "## Probabilistic PCA model:\n",
    "\n",
    "<!-- ![Assumed Model](dag_probpca.jpg) -->\n",
    "\n",
    "\n",
    "\\begin{equation}\n",
    "\\mathbf{z}_{n} \\stackrel{iid}{\\sim} N(\\mathbf{0}, \\mathbf{I}_K) \\\\\n",
    "\\mathbf{w}_{n} \\stackrel{iid}{\\sim} N(\\mathbf{0}, \\mathbf{I}_K) \\\\\n",
    "\\mathbf{x}_n \\mid \\mathbf{z}_n\n",
    "\\sim Bernoulli(\\mathbf{z}_n\\mathbf{W})\n",
    "\\end{equation}"
   ]
  },
  {
   "cell_type": "code",
   "execution_count": 9,
   "metadata": {
    "ExecuteTime": {
     "end_time": "2019-08-14T23:17:30.607679Z",
     "start_time": "2019-08-14T23:17:30.601241Z"
    },
    "colab": {},
    "colab_type": "code",
    "id": "tI4SRAQh25UF"
   },
   "outputs": [],
   "source": [
    "import numpy as np\n",
    "import pandas as pd\n",
    "import pyro\n",
    "import torch\n",
    "import torch.distributions.constraints as constraints\n",
    "from scipy import sparse\n",
    "from sklearn.model_selection import train_test_split\n",
    "from pyro.infer import SVI, Trace_ELBO\n",
    "from pyro.optim import Adam\n",
    "pyro.set_rng_seed(101)\n",
    "import torch\n",
    "import torch.nn.functional as F\n",
    "from sklearn.preprocessing import StandardScaler\n",
    "from sklearn.model_selection import train_test_split\n",
    "from sklearn.metrics import mean_squared_error\n",
    "import matplotlib.pyplot as plt\n",
    "import pickle\n",
    "\n",
    "import warnings\n",
    "\n",
    "warnings.filterwarnings('ignore')"
   ]
  },
  {
   "cell_type": "code",
   "execution_count": 10,
   "metadata": {
    "ExecuteTime": {
     "end_time": "2019-08-14T23:17:31.376817Z",
     "start_time": "2019-08-14T23:17:31.343351Z"
    }
   },
   "outputs": [],
   "source": [
    "class PPCA():\n",
    "    def __init__(self, X, no_components=30, lr = 0.0005):\n",
    "        self.X = torch.tensor(X.to_numpy(dtype = 'float32'))\n",
    "        self.N = no_components\n",
    "        self.len, self.dim = X.shape\n",
    "        self.lr = lr\n",
    "        self.inferred_z = None\n",
    "    \n",
    "    def model(self):\n",
    "        # Parameters for w\n",
    "        w_mean0 = torch.zeros([self.N, self.dim])\n",
    "        w_std0 = torch.ones([self.N, self.dim])\n",
    "        # Parameters for z\n",
    "        z_mean0 = torch.zeros([self.len, self.N])\n",
    "        z_std0 = torch.ones([self.len, self.N])\n",
    "        w = pyro.sample(\"w\", pyro.distributions.Normal(loc = w_mean0, \n",
    "                                                       scale = w_std0))\n",
    "        z = pyro.sample(\"z\", pyro.distributions.Normal(loc = z_mean0, \n",
    "                                                       scale = z_std0))\n",
    "        linear_exp = torch.matmul(z, w)\n",
    "        x = pyro.sample(\"x\", pyro.distributions.Bernoulli(logits = linear_exp), obs = self.X)\n",
    "    \n",
    "    def guide(self):\n",
    "        qw_mean = pyro.param(\"qw_mean\", torch.zeros([self.N, self.dim]))\n",
    "        qw_stddv = pyro.param(\"qw_stddv\", torch.ones([self.N, self.dim]),\n",
    "                             constraint=constraints.positive)\n",
    "\n",
    "        qz_mean = pyro.param(\"qz_mean\", torch.zeros([self.len, self.N]))\n",
    "        qz_stddv = pyro.param(\"qz_stddv\", torch.ones([self.len, self.N]),\n",
    "                             constraint=constraints.positive)\n",
    "        \n",
    "\n",
    "        w = pyro.sample(\"w\", pyro.distributions.Normal(loc = qw_mean, \n",
    "                                                       scale = qw_stddv))\n",
    "        z = pyro.sample(\"z\", pyro.distributions.Normal(loc = qz_mean, \n",
    "                                                       scale = qz_stddv))\n",
    "        \n",
    "    def fit(self, n_steps=2000):\n",
    "        adam_params = {\"lr\": self.lr}\n",
    "        optimizer = Adam(adam_params)\n",
    "        svi = SVI(self.model, self.guide, optimizer, loss=Trace_ELBO())\n",
    "        # do gradient steps\n",
    "        for step in range(n_steps):\n",
    "            svi.step()\n",
    "            if step % 100 == 0:\n",
    "                print('.', end='')\n",
    "        \n",
    "        self.qw_m = pyro.param(\"qw_mean\")\n",
    "        self.qw_s = pyro.param(\"qw_stddv\")\n",
    "\n",
    "        self.qz_m = pyro.param(\"qz_mean\")\n",
    "        self.qz_s = pyro.param(\"qz_stddv\")\n",
    "        \n",
    "        self.inferred_z = pyro.sample(\"inf_z\", pyro.distributions.Normal(loc = self.qz_m, \n",
    "                                                   scale = self.qz_s))\n",
    "        \n",
    "        \n",
    "    def getLatentConfounders(self):\n",
    "        return self.inferred_z\n",
    "    \n",
    "    def attachToData(self, df, filename=None, save=False):\n",
    "        z = self.inferred_z.detach().numpy()\n",
    "        z_cols = [\"z\"+str(i) for i in range(30)]\n",
    "        df_z = pd.DataFrame(z, columns=z_cols)\n",
    "        x_z = np.hstack((df.to_numpy(), df_z.to_numpy()))\n",
    "        final = pd.DataFrame(x_z, columns = list(df.columns) + list(df_z.columns))\n",
    "        if save:\n",
    "            final.to_csv(filename, index=False, header=True)\n",
    "        return final\n",
    "\n",
    "class Net(torch.nn.Module):\n",
    "    def __init__(self, n_feature, n_hidden, n_output):\n",
    "        super(Net, self).__init__()\n",
    "        self.hidden = torch.nn.Linear(n_feature, n_hidden)   # hidden layer\n",
    "        self.predict = torch.nn.Linear(n_hidden, n_output)   # output layer\n",
    "\n",
    "    def forward(self, x):\n",
    "        x = F.relu(self.hidden(x))      # activation function for hidden layer\n",
    "        x = self.predict(x)             # linear output\n",
    "        return x\n",
    "\n",
    "class NNRegression():\n",
    "    def __init__(self, X, Y, n_feature, n_hidden=1024, n_output=1, n_steps=500, lr=0.2):\n",
    "        self.net = Net(n_feature=n_feature, n_hidden=n_hidden, n_output=1)\n",
    "        self.optimizer = torch.optim.SGD(self.net.parameters(), lr=lr)\n",
    "        self.loss_func = torch.nn.L1Loss()\n",
    "        self.X = X\n",
    "        self.Y = Y\n",
    "        self.n_steps = n_steps\n",
    "    \n",
    "    def fit(self):\n",
    "        for t in range(self.n_steps):\n",
    "            prediction = self.net(self.X)\n",
    "            self.loss = self.loss_func(prediction, self.Y) \n",
    "            self.optimizer.zero_grad()   # clear gradients for next train\n",
    "            self.loss.backward()         # backpropagation, compute gradients\n",
    "            self.optimizer.step()        # apply gradients\n",
    "            if t%100 == 0:\n",
    "                print(\"[iteration %04d] loss: %.4f\" % (t + 1, self.loss.item()))\n",
    "    \n",
    "    def fit_predict(self, X, Y):\n",
    "        self.X = X\n",
    "        self.Y = Y\n",
    "        self.fit()\n",
    "        return self.score(X, Y)\n",
    "    \n",
    "    def predict(self, X_test):\n",
    "        return self.net(X_test)\n",
    "    \n",
    "    def score(self, X_test, Y_test):\n",
    "        Y_hat = self.predict(X_test)\n",
    "        return mean_squared_error(Y_test.detach().numpy(), Y_hat.detach().numpy())\n",
    "\n",
    "def plot(Y, Yhat, score=None):\n",
    "    plt.plot(Y.detach().numpy(), Yhat.detach().numpy(), 'o')\n",
    "    plt.xlabel('True')\n",
    "    plt.ylabel('Predicted')\n",
    "    if not score == None:\n",
    "        plt.title('MSE :' + str(score))\n",
    "    else:\n",
    "        plt.title('True v/s Predicted')\n",
    "    plt.show()\n",
    "    \n",
    "def actorImpact(actor, data, Y, model):\n",
    "    actor_data = data[data[actor]==1]\n",
    "    actor_data[actor] = 0\n",
    "    actor_data = actor_data.iloc[:, :-30]\n",
    "    actor_y = Y[actor_data.index]\n",
    "    actor_ppca = PPCA(actor_data)\n",
    "    actor_ppca.fit(n_steps=2000)\n",
    "    actor_data_conf = actor_ppca.attachToData(actor_data)\n",
    "    print('\\nConfouders generated.')\n",
    "    actor_y_hat = model.predict(torch.tensor(actor_data_conf.to_numpy()).float())\n",
    "    plot(torch.tensor(actor_y),actor_y_hat)\n",
    "    actor_present = np.mean((actor_y * ss.scale_) + ss.mean_)\n",
    "    actor_absent = np.mean((actor_y_hat.detach().numpy() * ss.scale_) + ss.mean_)\n",
    "    impact = actor_absent - actor_present\n",
    "    print('The causal effect of ' + actor + ' = ' + str(impact))"
   ]
  },
  {
   "cell_type": "code",
   "execution_count": 11,
   "metadata": {
    "ExecuteTime": {
     "end_time": "2019-08-14T23:18:03.120397Z",
     "start_time": "2019-08-14T23:17:32.051218Z"
    }
   },
   "outputs": [],
   "source": [
    "data = pd.read_csv('ohe_movies_confounders.csv')\n",
    "y_data = pd.read_csv('ohe_movies.csv')\n",
    "Y = y_data.iloc[:, 2].values\n",
    "ss = StandardScaler()\n",
    "Y = ss.fit_transform(Y.reshape(-1,1))\n",
    "model = pickle.load(open('NNRegression.pickle', 'rb'))"
   ]
  },
  {
   "cell_type": "code",
   "execution_count": 4,
   "metadata": {
    "ExecuteTime": {
     "end_time": "2019-08-14T21:40:42.748521Z",
     "start_time": "2019-08-14T21:39:44.271174Z"
    }
   },
   "outputs": [
    {
     "name": "stdout",
     "output_type": "stream",
     "text": [
      "....................\n",
      "Confouders generated.\n"
     ]
    },
    {
     "data": {
      "image/png": "[encoded data removed]",
      "text/plain": [
       "<Figure size 432x288 with 1 Axes>"
      ]
     },
     "metadata": {
      "needs_background": "light"
     },
     "output_type": "display_data"
    },
    {
     "name": "stdout",
     "output_type": "stream",
     "text": [
      "The causal effect of Ben Affleck = 56754192.82065046\n"
     ]
    }
   ],
   "source": [
    "actorImpact('Ben Affleck', data, Y, model)"
   ]
  },
  {
   "cell_type": "code",
   "execution_count": 4,
   "metadata": {
    "ExecuteTime": {
     "end_time": "2019-08-14T21:43:18.949100Z",
     "start_time": "2019-08-14T21:42:14.886430Z"
    }
   },
   "outputs": [
    {
     "name": "stdout",
     "output_type": "stream",
     "text": [
      "....................\n",
      "Confouders generated.\n"
     ]
    },
    {
     "data": {
      "image/png": "[encoded data removed]",
      "text/plain": [
       "<Figure size 432x288 with 1 Axes>"
      ]
     },
     "metadata": {
      "needs_background": "light"
     },
     "output_type": "display_data"
    },
    {
     "name": "stdout",
     "output_type": "stream",
     "text": [
      "The causal effect of Brad Pitt = 66743067.83629504\n"
     ]
    }
   ],
   "source": [
    "actorImpact('Brad Pitt', data, Y, model)"
   ]
  },
  {
   "cell_type": "code",
   "execution_count": 12,
   "metadata": {
    "ExecuteTime": {
     "end_time": "2019-08-14T23:19:58.750866Z",
     "start_time": "2019-08-14T23:19:05.429539Z"
    }
   },
   "outputs": [
    {
     "name": "stdout",
     "output_type": "stream",
     "text": [
      "....................\n",
      "Confouders generated.\n"
     ]
    },
    {
     "data": {
      "image/png": "[encoded data removed]",
      "text/plain": [
       "<Figure size 432x288 with 1 Axes>"
      ]
     },
     "metadata": {
      "needs_background": "light"
     },
     "output_type": "display_data"
    },
    {
     "name": "stdout",
     "output_type": "stream",
     "text": [
      "The causal effect of Cobie Smulders = -144551943.32368004\n"
     ]
    }
   ],
   "source": [
    "actorImpact('Cobie Smulders', data, Y, model)"
   ]
  },
  {
   "cell_type": "code",
   "execution_count": null,
   "metadata": {},
   "outputs": [],
   "source": []
  }
 ],
 "metadata": {
  "accelerator": "GPU",
  "colab": {
   "collapsed_sections": [],
   "machine_shape": "hm",
   "name": "Copy of deconfounder_pyro.ipynb",
   "provenance": [],
   "toc_visible": true,
   "version": "0.3.2"
  },
  "kernelspec": {
   "display_name": "Python 3",
   "language": "python",
   "name": "python3"
  },
  "language_info": {
   "codemirror_mode": {
    "name": "ipython",
    "version": 3
   },
   "file_extension": ".py",
   "mimetype": "text/x-python",
   "name": "python",
   "nbconvert_exporter": "python",
   "pygments_lexer": "ipython3",
   "version": "3.6.7"
  },
  "latex_envs": {
   "LaTeX_envs_menu_present": true,
   "autoclose": false,
   "autocomplete": true,
   "bibliofile": "biblio.bib",
   "cite_by": "apalike",
   "current_citInitial": 1,
   "eqLabelWithNumbers": true,
   "eqNumInitial": 1,
   "hotkeys": {
    "equation": "Ctrl-E",
    "itemize": "Ctrl-I"
   },
   "labels_anchors": false,
   "latex_user_defs": false,
   "report_style_numbering": false,
   "user_envs_cfg": false
  }
 },
 "nbformat": 4,
 "nbformat_minor": 1
}
