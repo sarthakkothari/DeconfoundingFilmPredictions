{
 "cells": [
  {
   "cell_type": "markdown",
   "metadata": {
    "colab_type": "text",
    "id": "OUt2iSDAfu26"
   },
   "source": [
    "# Deconfounding Movie Revenues - Preliminary Results\n",
    "This is the Pyro implementation of the Deconfounder from Blei-labs \"Blessings of Multiple Causes\" which investigates actor values by aiming to infer latent confounders that afffect casting and revenue of the movie. <br>\n",
    "\n",
    "For example: In a James Bond movie, revenue is primarily driven by the actor who plays James Bond and the franchise value that Bond movies carry. Supporting roles like M and Q do not contribute much to revenue. This fact is not captured by traditional linear regression models which bias revenue towards these actors. <br>\n",
    "\n",
    "The **deconfounder** debiases these predictions by correcting the regression coefficients of these actors and hence, brings the model closer to the actual value of actors to a movie and its revenue."
   ]
  },
  {
   "cell_type": "markdown",
   "metadata": {
    "colab_type": "text",
    "id": "KC2d_wd4XWYM"
   },
   "source": [
    "## Probabilistic PCA model:\n",
    "\n",
    "<!-- ![Assumed Model](dag_probpca.jpg) -->\n",
    "\n",
    "\n",
    "\\begin{equation}\n",
    "\\mathbf{z}_{n} \\stackrel{iid}{\\sim} N(\\mathbf{0}, \\mathbf{I}_K) \\\\\n",
    "\\mathbf{w}_{n} \\stackrel{iid}{\\sim} N(\\mathbf{0}, \\mathbf{I}_K) \\\\\n",
    "\\mathbf{x}_n \\mid \\mathbf{z}_n\n",
    "\\sim Bernoulli(\\mathbf{z}_n\\mathbf{W})\n",
    "\\end{equation}"
   ]
  },
  {
   "cell_type": "code",
   "execution_count": 1,
   "metadata": {
    "ExecuteTime": {
     "end_time": "2019-08-13T20:23:44.658078Z",
     "start_time": "2019-08-13T20:23:43.528947Z"
    },
    "colab": {},
    "colab_type": "code",
    "id": "tI4SRAQh25UF"
   },
   "outputs": [],
   "source": [
    "import numpy as np\n",
    "import pandas as pd\n",
    "import pyro\n",
    "import torch\n",
    "import torch.distributions.constraints as constraints\n",
    "from scipy import sparse\n",
    "from sklearn.model_selection import train_test_split\n",
    "from pyro.infer import SVI, Trace_ELBO\n",
    "from pyro.optim import Adam\n",
    "pyro.set_rng_seed(101)\n",
    "import torch\n",
    "import torch.nn.functional as F\n",
    "from sklearn.preprocessing import StandardScaler\n",
    "from sklearn.model_selection import train_test_split\n",
    "from sklearn.metrics import mean_squared_error\n",
    "import matplotlib.pyplot as plt\n",
    "import pickle\n",
    "\n",
    "import warnings\n",
    "\n",
    "warnings.filterwarnings('ignore')"
   ]
  },
  {
   "cell_type": "code",
   "execution_count": 2,
   "metadata": {
    "ExecuteTime": {
     "end_time": "2019-08-13T20:23:57.098147Z",
     "start_time": "2019-08-13T20:23:45.324309Z"
    }
   },
   "outputs": [],
   "source": [
    "data = pd.read_csv('../ohe_movies.csv', index_col = 0)\n",
    "#data = pd.read_csv('../ohe_movies_confounders.csv')\n",
    "X = data.iloc[:, 2:]\n",
    "Y = data.iloc[:, 1].values\n",
    "# ss = StandardScaler()\n",
    "# Y = ss.fit_transform(Y.reshape(-1,1))\n",
    "# X_train, X_test, Y_train, Y_test = train_test_split(X, Y, test_size=0.2, random_state=42)"
   ]
  },
  {
   "cell_type": "code",
   "execution_count": 3,
   "metadata": {
    "ExecuteTime": {
     "end_time": "2019-08-13T20:23:58.739475Z",
     "start_time": "2019-08-13T20:23:58.720410Z"
    }
   },
   "outputs": [],
   "source": [
    "class PPCA():\n",
    "    def __init__(self, X, no_components=30, lr = 0.0005):\n",
    "        self.X = torch.tensor(X.to_numpy(dtype = 'float32'))\n",
    "        self.N = no_components\n",
    "        self.len, self.dim = X.shape\n",
    "        self.lr = lr\n",
    "        self.inferred_z = None\n",
    "    \n",
    "    def model(self):\n",
    "        # Parameters for w\n",
    "        w_mean0 = torch.zeros([self.N, self.dim])\n",
    "        w_std0 = torch.ones([self.N, self.dim])\n",
    "        # Parameters for z\n",
    "        z_mean0 = torch.zeros([self.len, self.N])\n",
    "        z_std0 = torch.ones([self.len, self.N])\n",
    "        w = pyro.sample(\"w\", pyro.distributions.Normal(loc = w_mean0, \n",
    "                                                       scale = w_std0))\n",
    "        z = pyro.sample(\"z\", pyro.distributions.Normal(loc = z_mean0, \n",
    "                                                       scale = z_std0))\n",
    "        linear_exp = torch.matmul(z, w)\n",
    "        x = pyro.sample(\"x\", pyro.distributions.Bernoulli(logits = linear_exp), obs = self.X)\n",
    "    \n",
    "    def guide(self):\n",
    "        qw_mean = pyro.param(\"qw_mean\", torch.zeros([self.N, self.dim]))\n",
    "        qw_stddv = pyro.param(\"qw_stddv\", torch.ones([self.N, self.dim]),\n",
    "                             constraint=constraints.positive)\n",
    "\n",
    "        qz_mean = pyro.param(\"qz_mean\", torch.zeros([self.len, self.N]))\n",
    "        qz_stddv = pyro.param(\"qz_stddv\", torch.ones([self.len, self.N]),\n",
    "                             constraint=constraints.positive)\n",
    "        \n",
    "\n",
    "        w = pyro.sample(\"w\", pyro.distributions.Normal(loc = qw_mean, \n",
    "                                                       scale = qw_stddv))\n",
    "        z = pyro.sample(\"z\", pyro.distributions.Normal(loc = qz_mean, \n",
    "                                                       scale = qz_stddv))\n",
    "        \n",
    "    def fit(self, n_steps=2000):\n",
    "        adam_params = {\"lr\": self.lr}\n",
    "        optimizer = Adam(adam_params)\n",
    "        svi = SVI(self.model, self.guide, optimizer, loss=Trace_ELBO())\n",
    "        # do gradient steps\n",
    "        for step in range(n_steps):\n",
    "            svi.step()\n",
    "            if step % 100 == 0:\n",
    "                print('.', end='')\n",
    "        \n",
    "        self.qw_m = pyro.param(\"qw_mean\")\n",
    "        self.qw_s = pyro.param(\"qw_stddv\")\n",
    "\n",
    "        self.qz_m = pyro.param(\"qz_mean\")\n",
    "        self.qz_s = pyro.param(\"qz_stddv\")\n",
    "        \n",
    "        self.inferred_z = pyro.sample(\"inf_z\", pyro.distributions.Normal(loc = self.qz_m, \n",
    "                                                   scale = self.qz_s))\n",
    "        \n",
    "        \n",
    "    def getLatentConfounders(self):\n",
    "        return self.inferred_z\n",
    "    \n",
    "    def attachToData(self, df, filename=None, save=False):\n",
    "        z = self.inferred_z.detach().numpy()\n",
    "        z_cols = [\"z\"+str(i) for i in range(30)]\n",
    "        df_z = pd.DataFrame(z, columns=z_cols)\n",
    "        x_z = np.hstack((df.to_numpy(), df_z.to_numpy()))\n",
    "        final = pd.DataFrame(x_z, columns = list(df.columns) + list(df_z.columns))\n",
    "        if save:\n",
    "            final.to_csv(filename, index=False, header=True)\n",
    "        return final    "
   ]
  },
  {
   "cell_type": "code",
   "execution_count": 4,
   "metadata": {
    "ExecuteTime": {
     "end_time": "2019-08-13T20:57:22.019787Z",
     "start_time": "2019-08-13T20:24:02.126941Z"
    }
   },
   "outputs": [
    {
     "name": "stdout",
     "output_type": "stream",
     "text": [
      "...................."
     ]
    }
   ],
   "source": [
    "ppca = PPCA(X)\n",
    "ppca.fit(n_steps=2000)\n",
    "X = ppca.attachToData(X, filename='ohe_movies_confounders.csv', save=True)"
   ]
  },
  {
   "cell_type": "code",
   "execution_count": 8,
   "metadata": {
    "ExecuteTime": {
     "end_time": "2019-08-13T20:58:56.724747Z",
     "start_time": "2019-08-13T20:58:56.360826Z"
    }
   },
   "outputs": [],
   "source": [
    "ss = StandardScaler()\n",
    "Y = ss.fit_transform(Y.reshape(-1,1))\n",
    "X_train, X_test, Y_train, Y_test = train_test_split(X.values, Y, test_size=0.2, random_state=42)\n",
    "X_train = torch.tensor(X_train).float()\n",
    "Y_train = torch.tensor(Y_train).float()\n",
    "X_test = torch.tensor(X_test).float()\n",
    "Y_test = torch.tensor(Y_test).float()"
   ]
  },
  {
   "cell_type": "code",
   "execution_count": 9,
   "metadata": {
    "ExecuteTime": {
     "end_time": "2019-08-13T20:59:03.570340Z",
     "start_time": "2019-08-13T20:59:03.565161Z"
    }
   },
   "outputs": [],
   "source": [
    "class Net(torch.nn.Module):\n",
    "    def __init__(self, n_feature, n_hidden, n_output):\n",
    "        super(Net, self).__init__()\n",
    "        self.hidden = torch.nn.Linear(n_feature, n_hidden)   # hidden layer\n",
    "        self.predict = torch.nn.Linear(n_hidden, n_output)   # output layer\n",
    "\n",
    "    def forward(self, x):\n",
    "        x = F.relu(self.hidden(x))      # activation function for hidden layer\n",
    "        x = self.predict(x)             # linear output\n",
    "        return x"
   ]
  },
  {
   "cell_type": "code",
   "execution_count": 17,
   "metadata": {
    "ExecuteTime": {
     "end_time": "2019-08-13T21:05:39.659925Z",
     "start_time": "2019-08-13T21:05:39.649518Z"
    }
   },
   "outputs": [],
   "source": [
    "class NNRegression():\n",
    "    def __init__(self, X, Y, n_feature, n_hidden=1024, n_output=1, n_steps=500, lr=0.2):\n",
    "        self.net = Net(n_feature=n_feature, n_hidden=n_hidden, n_output=1)\n",
    "        self.optimizer = torch.optim.SGD(self.net.parameters(), lr=lr)\n",
    "        self.loss_func = torch.nn.L1Loss()\n",
    "        self.X = X\n",
    "        self.Y = Y\n",
    "        self.n_steps = n_steps\n",
    "    \n",
    "    def fit(self):\n",
    "        for t in range(self.n_steps):\n",
    "            prediction = self.net(self.X)\n",
    "            self.loss = self.loss_func(prediction, self.Y) \n",
    "            self.optimizer.zero_grad()   # clear gradients for next train\n",
    "            self.loss.backward()         # backpropagation, compute gradients\n",
    "            self.optimizer.step()        # apply gradients\n",
    "            if t%100 == 0:\n",
    "                print(\"[iteration %04d] loss: %.4f\" % (t + 1, self.loss.item()))\n",
    "    \n",
    "    def fit_predict(self, X, Y):\n",
    "        self.X = X\n",
    "        self.Y = Y\n",
    "        self.fit()\n",
    "        return self.predict(X, Y)\n",
    "    \n",
    "    def predict(self, X_test):\n",
    "        return self.net(X_test)\n",
    "    \n",
    "    def score(self, X_test, Y_test):\n",
    "        Y_hat = self.predict(X_test)\n",
    "        return mean_squared_error(Y_test.detach().numpy(), Y_hat.detach().numpy())"
   ]
  },
  {
   "cell_type": "code",
   "execution_count": 18,
   "metadata": {
    "ExecuteTime": {
     "end_time": "2019-08-13T21:05:41.371878Z",
     "start_time": "2019-08-13T21:05:41.367680Z"
    }
   },
   "outputs": [],
   "source": [
    "def plot(Y, Yhat, score=None):\n",
    "    plt.plot(Y.detach().numpy(), Yhat.detach().numpy(), 'o')\n",
    "    plt.xlabel('True')\n",
    "    plt.ylabel('Predicted')\n",
    "    if not score == None:\n",
    "        plt.title('MSE :' + str(score))\n",
    "    else:\n",
    "        plt.title('True v/s Predicted')\n",
    "    plt.show()"
   ]
  },
  {
   "cell_type": "code",
   "execution_count": 19,
   "metadata": {
    "ExecuteTime": {
     "end_time": "2019-08-13T21:05:42.151004Z",
     "start_time": "2019-08-13T21:05:42.016508Z"
    }
   },
   "outputs": [],
   "source": [
    "model = NNRegression(X=torch.tensor(X_train).float(), Y=torch.tensor(Y_train).float(), n_feature=X.shape[1], lr=0.5)"
   ]
  },
  {
   "cell_type": "code",
   "execution_count": 20,
   "metadata": {
    "ExecuteTime": {
     "end_time": "2019-08-13T21:11:06.042175Z",
     "start_time": "2019-08-13T21:05:45.004574Z"
    }
   },
   "outputs": [
    {
     "name": "stdout",
     "output_type": "stream",
     "text": [
      "[iteration 0001] loss: 0.6083\n",
      "[iteration 0101] loss: 0.5360\n",
      "[iteration 0201] loss: 0.4108\n",
      "[iteration 0301] loss: 0.3490\n",
      "[iteration 0401] loss: 0.3172\n"
     ]
    }
   ],
   "source": [
    "model.fit()"
   ]
  },
  {
   "cell_type": "code",
   "execution_count": 21,
   "metadata": {
    "ExecuteTime": {
     "end_time": "2019-08-13T21:11:08.800790Z",
     "start_time": "2019-08-13T21:11:08.400586Z"
    }
   },
   "outputs": [
    {
     "data": {
      "image/png": "[encoded data removed]",
      "text/plain": [
       "<Figure size 432x288 with 1 Axes>"
      ]
     },
     "metadata": {
      "needs_background": "light"
     },
     "output_type": "display_data"
    }
   ],
   "source": [
    "Yhat = model.predict(X_train)\n",
    "plot(Y_train,Yhat)"
   ]
  },
  {
   "cell_type": "code",
   "execution_count": 23,
   "metadata": {
    "ExecuteTime": {
     "end_time": "2019-08-13T21:11:31.886657Z",
     "start_time": "2019-08-13T21:11:31.407463Z"
    }
   },
   "outputs": [],
   "source": [
    "f = open('NNRegression.pickle', 'wb')\n",
    "pickle.dump(model, f)\n",
    "f.close()"
   ]
  },
  {
   "cell_type": "code",
   "execution_count": 24,
   "metadata": {
    "ExecuteTime": {
     "end_time": "2019-08-13T21:11:34.373625Z",
     "start_time": "2019-08-13T21:11:34.156510Z"
    }
   },
   "outputs": [
    {
     "data": {
      "image/png": "[encoded data removed]",
      "text/plain": [
       "<Figure size 432x288 with 1 Axes>"
      ]
     },
     "metadata": {
      "needs_background": "light"
     },
     "output_type": "display_data"
    }
   ],
   "source": [
    "Yhat = model.predict(X_test)\n",
    "plot(Y_test,Yhat)"
   ]
  },
  {
   "cell_type": "code",
   "execution_count": null,
   "metadata": {},
   "outputs": [],
   "source": []
  }
 ],
 "metadata": {
  "accelerator": "GPU",
  "colab": {
   "collapsed_sections": [],
   "machine_shape": "hm",
   "name": "Copy of deconfounder_pyro.ipynb",
   "provenance": [],
   "toc_visible": true,
   "version": "0.3.2"
  },
  "kernelspec": {
   "display_name": "Python 3",
   "language": "python",
   "name": "python3"
  },
  "language_info": {
   "codemirror_mode": {
    "name": "ipython",
    "version": 3
   },
   "file_extension": ".py",
   "mimetype": "text/x-python",
   "name": "python",
   "nbconvert_exporter": "python",
   "pygments_lexer": "ipython3",
   "version": "3.6.7"
  },
  "latex_envs": {
   "LaTeX_envs_menu_present": true,
   "autoclose": false,
   "autocomplete": true,
   "bibliofile": "biblio.bib",
   "cite_by": "apalike",
   "current_citInitial": 1,
   "eqLabelWithNumbers": true,
   "eqNumInitial": 1,
   "hotkeys": {
    "equation": "Ctrl-E",
    "itemize": "Ctrl-I"
   },
   "labels_anchors": false,
   "latex_user_defs": false,
   "report_style_numbering": false,
   "user_envs_cfg": false
  }
 },
 "nbformat": 4,
 "nbformat_minor": 1
}
