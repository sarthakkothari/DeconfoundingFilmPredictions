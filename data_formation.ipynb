{
 "cells": [
  {
   "cell_type": "code",
   "execution_count": 1,
   "metadata": {
    "ExecuteTime": {
     "end_time": "2019-08-06T22:49:00.760472Z",
     "start_time": "2019-08-06T22:48:59.995494Z"
    }
   },
   "outputs": [],
   "source": [
    "import numpy as np\n",
    "import pandas as pd\n",
    "import json\n",
    "from sklearn.preprocessing import MultiLabelBinarizer"
   ]
  },
  {
   "cell_type": "code",
   "execution_count": 123,
   "metadata": {
    "ExecuteTime": {
     "end_time": "2019-08-06T23:35:41.200105Z",
     "start_time": "2019-08-06T23:35:41.195638Z"
    }
   },
   "outputs": [],
   "source": [
    "from sklearn.linear_model import LinearRegression, LogisticRegression\n",
    "from sklearn.preprocessing import StandardScaler\n",
    "from sklearn.model_selection import train_test_split\n",
    "from sklearn.metrics import r2_score"
   ]
  },
  {
   "cell_type": "code",
   "execution_count": 3,
   "metadata": {
    "ExecuteTime": {
     "end_time": "2019-08-06T22:49:22.040413Z",
     "start_time": "2019-08-06T22:49:21.624350Z"
    }
   },
   "outputs": [],
   "source": [
    "movies_loc = \"tmdb-5000-movie-dataset/tmdb_5000_movies.csv\"\n",
    "credits_loc = \"tmdb-5000-movie-dataset/tmdb_5000_credits.csv\"\n",
    "\n",
    "movies = pd.read_csv(movies_loc)\n",
    "credits = pd.read_csv(credits_loc)"
   ]
  },
  {
   "cell_type": "code",
   "execution_count": 4,
   "metadata": {
    "ExecuteTime": {
     "end_time": "2019-08-06T22:49:22.986991Z",
     "start_time": "2019-08-06T22:49:22.983200Z"
    }
   },
   "outputs": [],
   "source": [
    "def keepcast(row, k=10):\n",
    "    d = json.loads(row)\n",
    "    all_cast = [i['name'] for i in d]\n",
    "    return all_cast[:k]"
   ]
  },
  {
   "cell_type": "code",
   "execution_count": 5,
   "metadata": {
    "ExecuteTime": {
     "end_time": "2019-08-06T22:49:23.696776Z",
     "start_time": "2019-08-06T22:49:23.691246Z"
    }
   },
   "outputs": [],
   "source": [
    "# Rename movies[\"id\"] to \"movie_id\"\n",
    "movies.rename(columns={\"id\" : \"movie_id\"}, inplace = True)"
   ]
  },
  {
   "cell_type": "code",
   "execution_count": 6,
   "metadata": {
    "ExecuteTime": {
     "end_time": "2019-08-06T22:49:24.354164Z",
     "start_time": "2019-08-06T22:49:24.110836Z"
    }
   },
   "outputs": [],
   "source": [
    "credits[\"cast_10\"] = credits[\"cast\"].apply(keepcast)"
   ]
  },
  {
   "cell_type": "code",
   "execution_count": 7,
   "metadata": {
    "ExecuteTime": {
     "end_time": "2019-08-06T22:49:24.945245Z",
     "start_time": "2019-08-06T22:49:24.919198Z"
    }
   },
   "outputs": [],
   "source": [
    "final_df = pd.merge(credits, movies, on = \"movie_id\")"
   ]
  },
  {
   "cell_type": "code",
   "execution_count": 8,
   "metadata": {
    "ExecuteTime": {
     "end_time": "2019-08-06T22:49:25.480690Z",
     "start_time": "2019-08-06T22:49:25.470951Z"
    }
   },
   "outputs": [],
   "source": [
    "final_df = final_df[[\"title_x\", \"cast_10\", \"revenue\"]]"
   ]
  },
  {
   "cell_type": "code",
   "execution_count": 9,
   "metadata": {
    "ExecuteTime": {
     "end_time": "2019-08-06T22:49:26.807060Z",
     "start_time": "2019-08-06T22:49:26.760493Z"
    }
   },
   "outputs": [
    {
     "data": {
      "text/html": [
       "<div>\n",
       "<style scoped>\n",
       "    .dataframe tbody tr th:only-of-type {\n",
       "        vertical-align: middle;\n",
       "    }\n",
       "\n",
       "    .dataframe tbody tr th {\n",
       "        vertical-align: top;\n",
       "    }\n",
       "\n",
       "    .dataframe thead th {\n",
       "        text-align: right;\n",
       "    }\n",
       "</style>\n",
       "<table border=\"1\" class=\"dataframe\">\n",
       "  <thead>\n",
       "    <tr style=\"text-align: right;\">\n",
       "      <th></th>\n",
       "      <th>title_x</th>\n",
       "      <th>cast_10</th>\n",
       "      <th>revenue</th>\n",
       "    </tr>\n",
       "  </thead>\n",
       "  <tbody>\n",
       "    <tr>\n",
       "      <th>0</th>\n",
       "      <td>Avatar</td>\n",
       "      <td>[Sam Worthington, Zoe Saldana, Sigourney Weave...</td>\n",
       "      <td>2787965087</td>\n",
       "    </tr>\n",
       "    <tr>\n",
       "      <th>1</th>\n",
       "      <td>Pirates of the Caribbean: At World's End</td>\n",
       "      <td>[Johnny Depp, Orlando Bloom, Keira Knightley, ...</td>\n",
       "      <td>961000000</td>\n",
       "    </tr>\n",
       "    <tr>\n",
       "      <th>2</th>\n",
       "      <td>Spectre</td>\n",
       "      <td>[Daniel Craig, Christoph Waltz, Léa Seydoux, R...</td>\n",
       "      <td>880674609</td>\n",
       "    </tr>\n",
       "    <tr>\n",
       "      <th>3</th>\n",
       "      <td>The Dark Knight Rises</td>\n",
       "      <td>[Christian Bale, Michael Caine, Gary Oldman, A...</td>\n",
       "      <td>1084939099</td>\n",
       "    </tr>\n",
       "    <tr>\n",
       "      <th>4</th>\n",
       "      <td>John Carter</td>\n",
       "      <td>[Taylor Kitsch, Lynn Collins, Samantha Morton,...</td>\n",
       "      <td>284139100</td>\n",
       "    </tr>\n",
       "    <tr>\n",
       "      <th>5</th>\n",
       "      <td>Spider-Man 3</td>\n",
       "      <td>[Tobey Maguire, Kirsten Dunst, James Franco, T...</td>\n",
       "      <td>890871626</td>\n",
       "    </tr>\n",
       "    <tr>\n",
       "      <th>6</th>\n",
       "      <td>Tangled</td>\n",
       "      <td>[Zachary Levi, Mandy Moore, Donna Murphy, Ron ...</td>\n",
       "      <td>591794936</td>\n",
       "    </tr>\n",
       "    <tr>\n",
       "      <th>7</th>\n",
       "      <td>Avengers: Age of Ultron</td>\n",
       "      <td>[Robert Downey Jr., Chris Hemsworth, Mark Ruff...</td>\n",
       "      <td>1405403694</td>\n",
       "    </tr>\n",
       "    <tr>\n",
       "      <th>8</th>\n",
       "      <td>Harry Potter and the Half-Blood Prince</td>\n",
       "      <td>[Daniel Radcliffe, Rupert Grint, Emma Watson, ...</td>\n",
       "      <td>933959197</td>\n",
       "    </tr>\n",
       "    <tr>\n",
       "      <th>9</th>\n",
       "      <td>Batman v Superman: Dawn of Justice</td>\n",
       "      <td>[Ben Affleck, Henry Cavill, Gal Gadot, Amy Ada...</td>\n",
       "      <td>873260194</td>\n",
       "    </tr>\n",
       "    <tr>\n",
       "      <th>10</th>\n",
       "      <td>Superman Returns</td>\n",
       "      <td>[Brandon Routh, Kevin Spacey, Kate Bosworth, J...</td>\n",
       "      <td>391081192</td>\n",
       "    </tr>\n",
       "    <tr>\n",
       "      <th>11</th>\n",
       "      <td>Quantum of Solace</td>\n",
       "      <td>[Daniel Craig, Olga Kurylenko, Mathieu Amalric...</td>\n",
       "      <td>586090727</td>\n",
       "    </tr>\n",
       "    <tr>\n",
       "      <th>12</th>\n",
       "      <td>Pirates of the Caribbean: Dead Man's Chest</td>\n",
       "      <td>[Johnny Depp, Orlando Bloom, Keira Knightley, ...</td>\n",
       "      <td>1065659812</td>\n",
       "    </tr>\n",
       "    <tr>\n",
       "      <th>13</th>\n",
       "      <td>The Lone Ranger</td>\n",
       "      <td>[Johnny Depp, Armie Hammer, William Fichtner, ...</td>\n",
       "      <td>89289910</td>\n",
       "    </tr>\n",
       "    <tr>\n",
       "      <th>14</th>\n",
       "      <td>Man of Steel</td>\n",
       "      <td>[Henry Cavill, Amy Adams, Michael Shannon, Kev...</td>\n",
       "      <td>662845518</td>\n",
       "    </tr>\n",
       "    <tr>\n",
       "      <th>15</th>\n",
       "      <td>The Chronicles of Narnia: Prince Caspian</td>\n",
       "      <td>[Ben Barnes, William Moseley, Anna Popplewell,...</td>\n",
       "      <td>419651413</td>\n",
       "    </tr>\n",
       "    <tr>\n",
       "      <th>16</th>\n",
       "      <td>The Avengers</td>\n",
       "      <td>[Robert Downey Jr., Chris Evans, Mark Ruffalo,...</td>\n",
       "      <td>1519557910</td>\n",
       "    </tr>\n",
       "    <tr>\n",
       "      <th>17</th>\n",
       "      <td>Pirates of the Caribbean: On Stranger Tides</td>\n",
       "      <td>[Johnny Depp, Penélope Cruz, Ian McShane, Kevi...</td>\n",
       "      <td>1045713802</td>\n",
       "    </tr>\n",
       "    <tr>\n",
       "      <th>18</th>\n",
       "      <td>Men in Black 3</td>\n",
       "      <td>[Will Smith, Tommy Lee Jones, Josh Brolin, Mic...</td>\n",
       "      <td>624026776</td>\n",
       "    </tr>\n",
       "    <tr>\n",
       "      <th>19</th>\n",
       "      <td>The Hobbit: The Battle of the Five Armies</td>\n",
       "      <td>[Martin Freeman, Ian McKellen, Richard Armitag...</td>\n",
       "      <td>956019788</td>\n",
       "    </tr>\n",
       "    <tr>\n",
       "      <th>20</th>\n",
       "      <td>The Amazing Spider-Man</td>\n",
       "      <td>[Andrew Garfield, Emma Stone, Rhys Ifans, Deni...</td>\n",
       "      <td>752215857</td>\n",
       "    </tr>\n",
       "    <tr>\n",
       "      <th>21</th>\n",
       "      <td>Robin Hood</td>\n",
       "      <td>[Russell Crowe, Cate Blanchett, Max von Sydow,...</td>\n",
       "      <td>310669540</td>\n",
       "    </tr>\n",
       "    <tr>\n",
       "      <th>22</th>\n",
       "      <td>The Hobbit: The Desolation of Smaug</td>\n",
       "      <td>[Martin Freeman, Ian McKellen, Richard Armitag...</td>\n",
       "      <td>958400000</td>\n",
       "    </tr>\n",
       "    <tr>\n",
       "      <th>23</th>\n",
       "      <td>The Golden Compass</td>\n",
       "      <td>[Dakota Blue Richards, Nicole Kidman, Daniel C...</td>\n",
       "      <td>372234864</td>\n",
       "    </tr>\n",
       "    <tr>\n",
       "      <th>24</th>\n",
       "      <td>King Kong</td>\n",
       "      <td>[Naomi Watts, Jack Black, Adrien Brody, Thomas...</td>\n",
       "      <td>550000000</td>\n",
       "    </tr>\n",
       "    <tr>\n",
       "      <th>25</th>\n",
       "      <td>Titanic</td>\n",
       "      <td>[Kate Winslet, Leonardo DiCaprio, Frances Fish...</td>\n",
       "      <td>1845034188</td>\n",
       "    </tr>\n",
       "    <tr>\n",
       "      <th>26</th>\n",
       "      <td>Captain America: Civil War</td>\n",
       "      <td>[Chris Evans, Robert Downey Jr., Scarlett Joha...</td>\n",
       "      <td>1153304495</td>\n",
       "    </tr>\n",
       "    <tr>\n",
       "      <th>27</th>\n",
       "      <td>Battleship</td>\n",
       "      <td>[Taylor Kitsch, Alexander Skarsgård, Rihanna, ...</td>\n",
       "      <td>303025485</td>\n",
       "    </tr>\n",
       "    <tr>\n",
       "      <th>28</th>\n",
       "      <td>Jurassic World</td>\n",
       "      <td>[Chris Pratt, Bryce Dallas Howard, Irrfan Khan...</td>\n",
       "      <td>1513528810</td>\n",
       "    </tr>\n",
       "    <tr>\n",
       "      <th>29</th>\n",
       "      <td>Skyfall</td>\n",
       "      <td>[Daniel Craig, Judi Dench, Javier Bardem, Ralp...</td>\n",
       "      <td>1108561013</td>\n",
       "    </tr>\n",
       "    <tr>\n",
       "      <th>...</th>\n",
       "      <td>...</td>\n",
       "      <td>...</td>\n",
       "      <td>...</td>\n",
       "    </tr>\n",
       "    <tr>\n",
       "      <th>4773</th>\n",
       "      <td>Clerks</td>\n",
       "      <td>[Brian O'Halloran, Jeff Anderson, Jason Mewes,...</td>\n",
       "      <td>3151130</td>\n",
       "    </tr>\n",
       "    <tr>\n",
       "      <th>4774</th>\n",
       "      <td>Pink Narcissus</td>\n",
       "      <td>[Bobby Kendall, Donald L. Brooks, Charles Ludlam]</td>\n",
       "      <td>0</td>\n",
       "    </tr>\n",
       "    <tr>\n",
       "      <th>4775</th>\n",
       "      <td>Funny Ha Ha</td>\n",
       "      <td>[Kate Dollenmayer, Mark Herlehy, Christian Rud...</td>\n",
       "      <td>76901</td>\n",
       "    </tr>\n",
       "    <tr>\n",
       "      <th>4776</th>\n",
       "      <td>In the Company of Men</td>\n",
       "      <td>[Aaron Eckhart, Stacy Edwards, Matt Malloy, Mi...</td>\n",
       "      <td>0</td>\n",
       "    </tr>\n",
       "    <tr>\n",
       "      <th>4777</th>\n",
       "      <td>Manito</td>\n",
       "      <td>[Franky G, Leo Minaya, Manuel Cabral, Jessica ...</td>\n",
       "      <td>0</td>\n",
       "    </tr>\n",
       "    <tr>\n",
       "      <th>4778</th>\n",
       "      <td>Rampage</td>\n",
       "      <td>[Brendan Fletcher, Shaun Sipos, Michael Paré, ...</td>\n",
       "      <td>0</td>\n",
       "    </tr>\n",
       "    <tr>\n",
       "      <th>4779</th>\n",
       "      <td>Slacker</td>\n",
       "      <td>[Richard Linklater, Mark James]</td>\n",
       "      <td>0</td>\n",
       "    </tr>\n",
       "    <tr>\n",
       "      <th>4780</th>\n",
       "      <td>Dutch Kills</td>\n",
       "      <td>[R.L. Mann, Tama Filianga, Mikaal Bates, Celes...</td>\n",
       "      <td>0</td>\n",
       "    </tr>\n",
       "    <tr>\n",
       "      <th>4781</th>\n",
       "      <td>Dry Spell</td>\n",
       "      <td>[Suzi Lorraine, Jared Degado, Heather Dorff, R...</td>\n",
       "      <td>0</td>\n",
       "    </tr>\n",
       "    <tr>\n",
       "      <th>4782</th>\n",
       "      <td>Flywheel</td>\n",
       "      <td>[Alex Kendrick]</td>\n",
       "      <td>0</td>\n",
       "    </tr>\n",
       "    <tr>\n",
       "      <th>4783</th>\n",
       "      <td>Backmask</td>\n",
       "      <td>[Stephen Lang, Kelly Blatz, Brittany Curran, G...</td>\n",
       "      <td>0</td>\n",
       "    </tr>\n",
       "    <tr>\n",
       "      <th>4784</th>\n",
       "      <td>The Puffy Chair</td>\n",
       "      <td>[Mark Duplass, Katie Aselton, Rhett Wilkins]</td>\n",
       "      <td>0</td>\n",
       "    </tr>\n",
       "    <tr>\n",
       "      <th>4785</th>\n",
       "      <td>Stories of Our Lives</td>\n",
       "      <td>[Louis Brooke, Allan Bryan Weku, Judy Gichohi,...</td>\n",
       "      <td>0</td>\n",
       "    </tr>\n",
       "    <tr>\n",
       "      <th>4786</th>\n",
       "      <td>Breaking Upwards</td>\n",
       "      <td>[Zoe Lister-Jones, Daryl Wein, Julie White, An...</td>\n",
       "      <td>0</td>\n",
       "    </tr>\n",
       "    <tr>\n",
       "      <th>4787</th>\n",
       "      <td>All Superheroes Must Die</td>\n",
       "      <td>[Jason Trost, Lucas Till, James Remar, Sophie ...</td>\n",
       "      <td>0</td>\n",
       "    </tr>\n",
       "    <tr>\n",
       "      <th>4788</th>\n",
       "      <td>Pink Flamingos</td>\n",
       "      <td>[Divine, David Lochary, Mary Vivian Pearce, Mi...</td>\n",
       "      <td>6000000</td>\n",
       "    </tr>\n",
       "    <tr>\n",
       "      <th>4789</th>\n",
       "      <td>Clean</td>\n",
       "      <td>[Maggie Cheung, Nick Nolte, Béatrice Dalle, Je...</td>\n",
       "      <td>0</td>\n",
       "    </tr>\n",
       "    <tr>\n",
       "      <th>4790</th>\n",
       "      <td>The Circle</td>\n",
       "      <td>[Nargess Mamizadeh, Maryiam Palvin Almani, Moj...</td>\n",
       "      <td>0</td>\n",
       "    </tr>\n",
       "    <tr>\n",
       "      <th>4791</th>\n",
       "      <td>Tin Can Man</td>\n",
       "      <td>[Michael Parle, Emma Eliza Regan, Patrick O'Do...</td>\n",
       "      <td>0</td>\n",
       "    </tr>\n",
       "    <tr>\n",
       "      <th>4792</th>\n",
       "      <td>Cure</td>\n",
       "      <td>[Koji Yakusho, Masato Hagiwara, Tsuyoshi Ujiki...</td>\n",
       "      <td>99000</td>\n",
       "    </tr>\n",
       "    <tr>\n",
       "      <th>4793</th>\n",
       "      <td>On The Downlow</td>\n",
       "      <td>[Tony Sancho, Michael Cortez, Donato Cruz, Fel...</td>\n",
       "      <td>0</td>\n",
       "    </tr>\n",
       "    <tr>\n",
       "      <th>4794</th>\n",
       "      <td>Sanctuary: Quite a Conundrum</td>\n",
       "      <td>[Sasha Ramos, Erin Cline, Emily Rogers, Anthon...</td>\n",
       "      <td>0</td>\n",
       "    </tr>\n",
       "    <tr>\n",
       "      <th>4795</th>\n",
       "      <td>Bang</td>\n",
       "      <td>[Darling Narita, Peter Greene, Michael Newland...</td>\n",
       "      <td>0</td>\n",
       "    </tr>\n",
       "    <tr>\n",
       "      <th>4796</th>\n",
       "      <td>Primer</td>\n",
       "      <td>[Shane Carruth, David Sullivan, Casey Gooden, ...</td>\n",
       "      <td>424760</td>\n",
       "    </tr>\n",
       "    <tr>\n",
       "      <th>4797</th>\n",
       "      <td>Cavite</td>\n",
       "      <td>[]</td>\n",
       "      <td>0</td>\n",
       "    </tr>\n",
       "    <tr>\n",
       "      <th>4798</th>\n",
       "      <td>El Mariachi</td>\n",
       "      <td>[Carlos Gallardo, Jaime de Hoyos, Peter Marqua...</td>\n",
       "      <td>2040920</td>\n",
       "    </tr>\n",
       "    <tr>\n",
       "      <th>4799</th>\n",
       "      <td>Newlyweds</td>\n",
       "      <td>[Edward Burns, Kerry Bishé, Marsha Dietlein, C...</td>\n",
       "      <td>0</td>\n",
       "    </tr>\n",
       "    <tr>\n",
       "      <th>4800</th>\n",
       "      <td>Signed, Sealed, Delivered</td>\n",
       "      <td>[Eric Mabius, Kristin Booth, Crystal Lowe, Geo...</td>\n",
       "      <td>0</td>\n",
       "    </tr>\n",
       "    <tr>\n",
       "      <th>4801</th>\n",
       "      <td>Shanghai Calling</td>\n",
       "      <td>[Daniel Henney, Eliza Coupe, Bill Paxton, Alan...</td>\n",
       "      <td>0</td>\n",
       "    </tr>\n",
       "    <tr>\n",
       "      <th>4802</th>\n",
       "      <td>My Date with Drew</td>\n",
       "      <td>[Drew Barrymore, Brian Herzlinger, Corey Feldm...</td>\n",
       "      <td>0</td>\n",
       "    </tr>\n",
       "  </tbody>\n",
       "</table>\n",
       "<p>4803 rows × 3 columns</p>\n",
       "</div>"
      ],
      "text/plain": [
       "                                          title_x  \\\n",
       "0                                          Avatar   \n",
       "1        Pirates of the Caribbean: At World's End   \n",
       "2                                         Spectre   \n",
       "3                           The Dark Knight Rises   \n",
       "4                                     John Carter   \n",
       "5                                    Spider-Man 3   \n",
       "6                                         Tangled   \n",
       "7                         Avengers: Age of Ultron   \n",
       "8          Harry Potter and the Half-Blood Prince   \n",
       "9              Batman v Superman: Dawn of Justice   \n",
       "10                               Superman Returns   \n",
       "11                              Quantum of Solace   \n",
       "12     Pirates of the Caribbean: Dead Man's Chest   \n",
       "13                                The Lone Ranger   \n",
       "14                                   Man of Steel   \n",
       "15       The Chronicles of Narnia: Prince Caspian   \n",
       "16                                   The Avengers   \n",
       "17    Pirates of the Caribbean: On Stranger Tides   \n",
       "18                                 Men in Black 3   \n",
       "19      The Hobbit: The Battle of the Five Armies   \n",
       "20                         The Amazing Spider-Man   \n",
       "21                                     Robin Hood   \n",
       "22            The Hobbit: The Desolation of Smaug   \n",
       "23                             The Golden Compass   \n",
       "24                                      King Kong   \n",
       "25                                        Titanic   \n",
       "26                     Captain America: Civil War   \n",
       "27                                     Battleship   \n",
       "28                                 Jurassic World   \n",
       "29                                        Skyfall   \n",
       "...                                           ...   \n",
       "4773                                       Clerks   \n",
       "4774                               Pink Narcissus   \n",
       "4775                                  Funny Ha Ha   \n",
       "4776                        In the Company of Men   \n",
       "4777                                       Manito   \n",
       "4778                                      Rampage   \n",
       "4779                                      Slacker   \n",
       "4780                                  Dutch Kills   \n",
       "4781                                    Dry Spell   \n",
       "4782                                     Flywheel   \n",
       "4783                                     Backmask   \n",
       "4784                              The Puffy Chair   \n",
       "4785                         Stories of Our Lives   \n",
       "4786                             Breaking Upwards   \n",
       "4787                     All Superheroes Must Die   \n",
       "4788                               Pink Flamingos   \n",
       "4789                                        Clean   \n",
       "4790                                   The Circle   \n",
       "4791                                  Tin Can Man   \n",
       "4792                                         Cure   \n",
       "4793                               On The Downlow   \n",
       "4794                 Sanctuary: Quite a Conundrum   \n",
       "4795                                         Bang   \n",
       "4796                                       Primer   \n",
       "4797                                       Cavite   \n",
       "4798                                  El Mariachi   \n",
       "4799                                    Newlyweds   \n",
       "4800                    Signed, Sealed, Delivered   \n",
       "4801                             Shanghai Calling   \n",
       "4802                            My Date with Drew   \n",
       "\n",
       "                                                cast_10     revenue  \n",
       "0     [Sam Worthington, Zoe Saldana, Sigourney Weave...  2787965087  \n",
       "1     [Johnny Depp, Orlando Bloom, Keira Knightley, ...   961000000  \n",
       "2     [Daniel Craig, Christoph Waltz, Léa Seydoux, R...   880674609  \n",
       "3     [Christian Bale, Michael Caine, Gary Oldman, A...  1084939099  \n",
       "4     [Taylor Kitsch, Lynn Collins, Samantha Morton,...   284139100  \n",
       "5     [Tobey Maguire, Kirsten Dunst, James Franco, T...   890871626  \n",
       "6     [Zachary Levi, Mandy Moore, Donna Murphy, Ron ...   591794936  \n",
       "7     [Robert Downey Jr., Chris Hemsworth, Mark Ruff...  1405403694  \n",
       "8     [Daniel Radcliffe, Rupert Grint, Emma Watson, ...   933959197  \n",
       "9     [Ben Affleck, Henry Cavill, Gal Gadot, Amy Ada...   873260194  \n",
       "10    [Brandon Routh, Kevin Spacey, Kate Bosworth, J...   391081192  \n",
       "11    [Daniel Craig, Olga Kurylenko, Mathieu Amalric...   586090727  \n",
       "12    [Johnny Depp, Orlando Bloom, Keira Knightley, ...  1065659812  \n",
       "13    [Johnny Depp, Armie Hammer, William Fichtner, ...    89289910  \n",
       "14    [Henry Cavill, Amy Adams, Michael Shannon, Kev...   662845518  \n",
       "15    [Ben Barnes, William Moseley, Anna Popplewell,...   419651413  \n",
       "16    [Robert Downey Jr., Chris Evans, Mark Ruffalo,...  1519557910  \n",
       "17    [Johnny Depp, Penélope Cruz, Ian McShane, Kevi...  1045713802  \n",
       "18    [Will Smith, Tommy Lee Jones, Josh Brolin, Mic...   624026776  \n",
       "19    [Martin Freeman, Ian McKellen, Richard Armitag...   956019788  \n",
       "20    [Andrew Garfield, Emma Stone, Rhys Ifans, Deni...   752215857  \n",
       "21    [Russell Crowe, Cate Blanchett, Max von Sydow,...   310669540  \n",
       "22    [Martin Freeman, Ian McKellen, Richard Armitag...   958400000  \n",
       "23    [Dakota Blue Richards, Nicole Kidman, Daniel C...   372234864  \n",
       "24    [Naomi Watts, Jack Black, Adrien Brody, Thomas...   550000000  \n",
       "25    [Kate Winslet, Leonardo DiCaprio, Frances Fish...  1845034188  \n",
       "26    [Chris Evans, Robert Downey Jr., Scarlett Joha...  1153304495  \n",
       "27    [Taylor Kitsch, Alexander Skarsgård, Rihanna, ...   303025485  \n",
       "28    [Chris Pratt, Bryce Dallas Howard, Irrfan Khan...  1513528810  \n",
       "29    [Daniel Craig, Judi Dench, Javier Bardem, Ralp...  1108561013  \n",
       "...                                                 ...         ...  \n",
       "4773  [Brian O'Halloran, Jeff Anderson, Jason Mewes,...     3151130  \n",
       "4774  [Bobby Kendall, Donald L. Brooks, Charles Ludlam]           0  \n",
       "4775  [Kate Dollenmayer, Mark Herlehy, Christian Rud...       76901  \n",
       "4776  [Aaron Eckhart, Stacy Edwards, Matt Malloy, Mi...           0  \n",
       "4777  [Franky G, Leo Minaya, Manuel Cabral, Jessica ...           0  \n",
       "4778  [Brendan Fletcher, Shaun Sipos, Michael Paré, ...           0  \n",
       "4779                    [Richard Linklater, Mark James]           0  \n",
       "4780  [R.L. Mann, Tama Filianga, Mikaal Bates, Celes...           0  \n",
       "4781  [Suzi Lorraine, Jared Degado, Heather Dorff, R...           0  \n",
       "4782                                    [Alex Kendrick]           0  \n",
       "4783  [Stephen Lang, Kelly Blatz, Brittany Curran, G...           0  \n",
       "4784       [Mark Duplass, Katie Aselton, Rhett Wilkins]           0  \n",
       "4785  [Louis Brooke, Allan Bryan Weku, Judy Gichohi,...           0  \n",
       "4786  [Zoe Lister-Jones, Daryl Wein, Julie White, An...           0  \n",
       "4787  [Jason Trost, Lucas Till, James Remar, Sophie ...           0  \n",
       "4788  [Divine, David Lochary, Mary Vivian Pearce, Mi...     6000000  \n",
       "4789  [Maggie Cheung, Nick Nolte, Béatrice Dalle, Je...           0  \n",
       "4790  [Nargess Mamizadeh, Maryiam Palvin Almani, Moj...           0  \n",
       "4791  [Michael Parle, Emma Eliza Regan, Patrick O'Do...           0  \n",
       "4792  [Koji Yakusho, Masato Hagiwara, Tsuyoshi Ujiki...       99000  \n",
       "4793  [Tony Sancho, Michael Cortez, Donato Cruz, Fel...           0  \n",
       "4794  [Sasha Ramos, Erin Cline, Emily Rogers, Anthon...           0  \n",
       "4795  [Darling Narita, Peter Greene, Michael Newland...           0  \n",
       "4796  [Shane Carruth, David Sullivan, Casey Gooden, ...      424760  \n",
       "4797                                                 []           0  \n",
       "4798  [Carlos Gallardo, Jaime de Hoyos, Peter Marqua...     2040920  \n",
       "4799  [Edward Burns, Kerry Bishé, Marsha Dietlein, C...           0  \n",
       "4800  [Eric Mabius, Kristin Booth, Crystal Lowe, Geo...           0  \n",
       "4801  [Daniel Henney, Eliza Coupe, Bill Paxton, Alan...           0  \n",
       "4802  [Drew Barrymore, Brian Herzlinger, Corey Feldm...           0  \n",
       "\n",
       "[4803 rows x 3 columns]"
      ]
     },
     "execution_count": 9,
     "metadata": {},
     "output_type": "execute_result"
    }
   ],
   "source": [
    "final_df"
   ]
  },
  {
   "cell_type": "code",
   "execution_count": 10,
   "metadata": {
    "ExecuteTime": {
     "end_time": "2019-08-06T22:49:29.618059Z",
     "start_time": "2019-08-06T22:49:29.610626Z"
    }
   },
   "outputs": [],
   "source": [
    "# Remove any rows where cast or revenue is 0\n",
    "# Lol what are these movies\n",
    "filter_out = final_df.loc[(final_df['cast_10'].map(len) == 0) | (final_df['revenue'] == 0)]"
   ]
  },
  {
   "cell_type": "code",
   "execution_count": 11,
   "metadata": {
    "ExecuteTime": {
     "end_time": "2019-08-06T22:49:30.965689Z",
     "start_time": "2019-08-06T22:49:30.959883Z"
    }
   },
   "outputs": [],
   "source": [
    "final_df = final_df[final_df['cast_10'].map(len) > 0]"
   ]
  },
  {
   "cell_type": "code",
   "execution_count": 12,
   "metadata": {
    "ExecuteTime": {
     "end_time": "2019-08-06T22:49:31.799283Z",
     "start_time": "2019-08-06T22:49:31.794980Z"
    }
   },
   "outputs": [],
   "source": [
    "final_df = final_df[final_df['revenue'] > 0]"
   ]
  },
  {
   "cell_type": "code",
   "execution_count": 13,
   "metadata": {
    "ExecuteTime": {
     "end_time": "2019-08-06T22:49:32.389402Z",
     "start_time": "2019-08-06T22:49:32.354271Z"
    }
   },
   "outputs": [
    {
     "data": {
      "text/html": [
       "<div>\n",
       "<style scoped>\n",
       "    .dataframe tbody tr th:only-of-type {\n",
       "        vertical-align: middle;\n",
       "    }\n",
       "\n",
       "    .dataframe tbody tr th {\n",
       "        vertical-align: top;\n",
       "    }\n",
       "\n",
       "    .dataframe thead th {\n",
       "        text-align: right;\n",
       "    }\n",
       "</style>\n",
       "<table border=\"1\" class=\"dataframe\">\n",
       "  <thead>\n",
       "    <tr style=\"text-align: right;\">\n",
       "      <th></th>\n",
       "      <th>title_x</th>\n",
       "      <th>cast_10</th>\n",
       "      <th>revenue</th>\n",
       "    </tr>\n",
       "  </thead>\n",
       "  <tbody>\n",
       "    <tr>\n",
       "      <th>0</th>\n",
       "      <td>Avatar</td>\n",
       "      <td>[Sam Worthington, Zoe Saldana, Sigourney Weave...</td>\n",
       "      <td>2787965087</td>\n",
       "    </tr>\n",
       "    <tr>\n",
       "      <th>1</th>\n",
       "      <td>Pirates of the Caribbean: At World's End</td>\n",
       "      <td>[Johnny Depp, Orlando Bloom, Keira Knightley, ...</td>\n",
       "      <td>961000000</td>\n",
       "    </tr>\n",
       "    <tr>\n",
       "      <th>2</th>\n",
       "      <td>Spectre</td>\n",
       "      <td>[Daniel Craig, Christoph Waltz, Léa Seydoux, R...</td>\n",
       "      <td>880674609</td>\n",
       "    </tr>\n",
       "    <tr>\n",
       "      <th>3</th>\n",
       "      <td>The Dark Knight Rises</td>\n",
       "      <td>[Christian Bale, Michael Caine, Gary Oldman, A...</td>\n",
       "      <td>1084939099</td>\n",
       "    </tr>\n",
       "    <tr>\n",
       "      <th>4</th>\n",
       "      <td>John Carter</td>\n",
       "      <td>[Taylor Kitsch, Lynn Collins, Samantha Morton,...</td>\n",
       "      <td>284139100</td>\n",
       "    </tr>\n",
       "    <tr>\n",
       "      <th>5</th>\n",
       "      <td>Spider-Man 3</td>\n",
       "      <td>[Tobey Maguire, Kirsten Dunst, James Franco, T...</td>\n",
       "      <td>890871626</td>\n",
       "    </tr>\n",
       "    <tr>\n",
       "      <th>6</th>\n",
       "      <td>Tangled</td>\n",
       "      <td>[Zachary Levi, Mandy Moore, Donna Murphy, Ron ...</td>\n",
       "      <td>591794936</td>\n",
       "    </tr>\n",
       "    <tr>\n",
       "      <th>7</th>\n",
       "      <td>Avengers: Age of Ultron</td>\n",
       "      <td>[Robert Downey Jr., Chris Hemsworth, Mark Ruff...</td>\n",
       "      <td>1405403694</td>\n",
       "    </tr>\n",
       "    <tr>\n",
       "      <th>8</th>\n",
       "      <td>Harry Potter and the Half-Blood Prince</td>\n",
       "      <td>[Daniel Radcliffe, Rupert Grint, Emma Watson, ...</td>\n",
       "      <td>933959197</td>\n",
       "    </tr>\n",
       "    <tr>\n",
       "      <th>9</th>\n",
       "      <td>Batman v Superman: Dawn of Justice</td>\n",
       "      <td>[Ben Affleck, Henry Cavill, Gal Gadot, Amy Ada...</td>\n",
       "      <td>873260194</td>\n",
       "    </tr>\n",
       "    <tr>\n",
       "      <th>10</th>\n",
       "      <td>Superman Returns</td>\n",
       "      <td>[Brandon Routh, Kevin Spacey, Kate Bosworth, J...</td>\n",
       "      <td>391081192</td>\n",
       "    </tr>\n",
       "    <tr>\n",
       "      <th>11</th>\n",
       "      <td>Quantum of Solace</td>\n",
       "      <td>[Daniel Craig, Olga Kurylenko, Mathieu Amalric...</td>\n",
       "      <td>586090727</td>\n",
       "    </tr>\n",
       "    <tr>\n",
       "      <th>12</th>\n",
       "      <td>Pirates of the Caribbean: Dead Man's Chest</td>\n",
       "      <td>[Johnny Depp, Orlando Bloom, Keira Knightley, ...</td>\n",
       "      <td>1065659812</td>\n",
       "    </tr>\n",
       "    <tr>\n",
       "      <th>13</th>\n",
       "      <td>The Lone Ranger</td>\n",
       "      <td>[Johnny Depp, Armie Hammer, William Fichtner, ...</td>\n",
       "      <td>89289910</td>\n",
       "    </tr>\n",
       "    <tr>\n",
       "      <th>14</th>\n",
       "      <td>Man of Steel</td>\n",
       "      <td>[Henry Cavill, Amy Adams, Michael Shannon, Kev...</td>\n",
       "      <td>662845518</td>\n",
       "    </tr>\n",
       "    <tr>\n",
       "      <th>15</th>\n",
       "      <td>The Chronicles of Narnia: Prince Caspian</td>\n",
       "      <td>[Ben Barnes, William Moseley, Anna Popplewell,...</td>\n",
       "      <td>419651413</td>\n",
       "    </tr>\n",
       "    <tr>\n",
       "      <th>16</th>\n",
       "      <td>The Avengers</td>\n",
       "      <td>[Robert Downey Jr., Chris Evans, Mark Ruffalo,...</td>\n",
       "      <td>1519557910</td>\n",
       "    </tr>\n",
       "    <tr>\n",
       "      <th>17</th>\n",
       "      <td>Pirates of the Caribbean: On Stranger Tides</td>\n",
       "      <td>[Johnny Depp, Penélope Cruz, Ian McShane, Kevi...</td>\n",
       "      <td>1045713802</td>\n",
       "    </tr>\n",
       "    <tr>\n",
       "      <th>18</th>\n",
       "      <td>Men in Black 3</td>\n",
       "      <td>[Will Smith, Tommy Lee Jones, Josh Brolin, Mic...</td>\n",
       "      <td>624026776</td>\n",
       "    </tr>\n",
       "    <tr>\n",
       "      <th>19</th>\n",
       "      <td>The Hobbit: The Battle of the Five Armies</td>\n",
       "      <td>[Martin Freeman, Ian McKellen, Richard Armitag...</td>\n",
       "      <td>956019788</td>\n",
       "    </tr>\n",
       "    <tr>\n",
       "      <th>20</th>\n",
       "      <td>The Amazing Spider-Man</td>\n",
       "      <td>[Andrew Garfield, Emma Stone, Rhys Ifans, Deni...</td>\n",
       "      <td>752215857</td>\n",
       "    </tr>\n",
       "    <tr>\n",
       "      <th>21</th>\n",
       "      <td>Robin Hood</td>\n",
       "      <td>[Russell Crowe, Cate Blanchett, Max von Sydow,...</td>\n",
       "      <td>310669540</td>\n",
       "    </tr>\n",
       "    <tr>\n",
       "      <th>22</th>\n",
       "      <td>The Hobbit: The Desolation of Smaug</td>\n",
       "      <td>[Martin Freeman, Ian McKellen, Richard Armitag...</td>\n",
       "      <td>958400000</td>\n",
       "    </tr>\n",
       "    <tr>\n",
       "      <th>23</th>\n",
       "      <td>The Golden Compass</td>\n",
       "      <td>[Dakota Blue Richards, Nicole Kidman, Daniel C...</td>\n",
       "      <td>372234864</td>\n",
       "    </tr>\n",
       "    <tr>\n",
       "      <th>24</th>\n",
       "      <td>King Kong</td>\n",
       "      <td>[Naomi Watts, Jack Black, Adrien Brody, Thomas...</td>\n",
       "      <td>550000000</td>\n",
       "    </tr>\n",
       "    <tr>\n",
       "      <th>25</th>\n",
       "      <td>Titanic</td>\n",
       "      <td>[Kate Winslet, Leonardo DiCaprio, Frances Fish...</td>\n",
       "      <td>1845034188</td>\n",
       "    </tr>\n",
       "    <tr>\n",
       "      <th>26</th>\n",
       "      <td>Captain America: Civil War</td>\n",
       "      <td>[Chris Evans, Robert Downey Jr., Scarlett Joha...</td>\n",
       "      <td>1153304495</td>\n",
       "    </tr>\n",
       "    <tr>\n",
       "      <th>27</th>\n",
       "      <td>Battleship</td>\n",
       "      <td>[Taylor Kitsch, Alexander Skarsgård, Rihanna, ...</td>\n",
       "      <td>303025485</td>\n",
       "    </tr>\n",
       "    <tr>\n",
       "      <th>28</th>\n",
       "      <td>Jurassic World</td>\n",
       "      <td>[Chris Pratt, Bryce Dallas Howard, Irrfan Khan...</td>\n",
       "      <td>1513528810</td>\n",
       "    </tr>\n",
       "    <tr>\n",
       "      <th>29</th>\n",
       "      <td>Skyfall</td>\n",
       "      <td>[Daniel Craig, Judi Dench, Javier Bardem, Ralp...</td>\n",
       "      <td>1108561013</td>\n",
       "    </tr>\n",
       "    <tr>\n",
       "      <th>...</th>\n",
       "      <td>...</td>\n",
       "      <td>...</td>\n",
       "      <td>...</td>\n",
       "    </tr>\n",
       "    <tr>\n",
       "      <th>4670</th>\n",
       "      <td>Mad Max</td>\n",
       "      <td>[Mel Gibson, Joanne Samuel, Hugh Keays-Byrne, ...</td>\n",
       "      <td>100000000</td>\n",
       "    </tr>\n",
       "    <tr>\n",
       "      <th>4671</th>\n",
       "      <td>Swingers</td>\n",
       "      <td>[Jon Favreau, Vince Vaughn, Ron Livingston, Pa...</td>\n",
       "      <td>4505922</td>\n",
       "    </tr>\n",
       "    <tr>\n",
       "      <th>4672</th>\n",
       "      <td>A Fistful of Dollars</td>\n",
       "      <td>[Clint Eastwood, Marianne Koch, Gian Maria Vol...</td>\n",
       "      <td>14500000</td>\n",
       "    </tr>\n",
       "    <tr>\n",
       "      <th>4673</th>\n",
       "      <td>She Done Him Wrong</td>\n",
       "      <td>[Mae West, Cary Grant, Owen Moore, Gilbert Rol...</td>\n",
       "      <td>2200000</td>\n",
       "    </tr>\n",
       "    <tr>\n",
       "      <th>4675</th>\n",
       "      <td>The Grace Card</td>\n",
       "      <td>[Michael Joiner, Michael Higgenbottom, Louis G...</td>\n",
       "      <td>2295733</td>\n",
       "    </tr>\n",
       "    <tr>\n",
       "      <th>4677</th>\n",
       "      <td>Three</td>\n",
       "      <td>[Sophie Rois, Sebastian Schipper, Devid Stries...</td>\n",
       "      <td>2611555</td>\n",
       "    </tr>\n",
       "    <tr>\n",
       "      <th>4695</th>\n",
       "      <td>Children of Heaven</td>\n",
       "      <td>[Mohammad Amir Naji, Amir Farrokh Hashemian, B...</td>\n",
       "      <td>900000</td>\n",
       "    </tr>\n",
       "    <tr>\n",
       "      <th>4696</th>\n",
       "      <td>Weekend</td>\n",
       "      <td>[Tom Cullen, Chris New, Jonathan Race, Laura F...</td>\n",
       "      <td>469947</td>\n",
       "    </tr>\n",
       "    <tr>\n",
       "      <th>4700</th>\n",
       "      <td>Another Earth</td>\n",
       "      <td>[William Mapother, Brit Marling, Matthew-Lee E...</td>\n",
       "      <td>1776935</td>\n",
       "    </tr>\n",
       "    <tr>\n",
       "      <th>4701</th>\n",
       "      <td>Sweet Sweetback's Baadasssss Song</td>\n",
       "      <td>[Simon Chuckster, Melvin Van Peebles, Hubert S...</td>\n",
       "      <td>15200000</td>\n",
       "    </tr>\n",
       "    <tr>\n",
       "      <th>4703</th>\n",
       "      <td>Tadpole</td>\n",
       "      <td>[Aaron Stanford, Kate Mara, Bebe Neuwirth, Joh...</td>\n",
       "      <td>2891288</td>\n",
       "    </tr>\n",
       "    <tr>\n",
       "      <th>4704</th>\n",
       "      <td>Once</td>\n",
       "      <td>[Glen Hansard, Markéta Irglová, Hugh Walsh, Ge...</td>\n",
       "      <td>20710513</td>\n",
       "    </tr>\n",
       "    <tr>\n",
       "      <th>4713</th>\n",
       "      <td>Roger &amp; Me</td>\n",
       "      <td>[Michael Moore, Roger B. Smith, Rhonda Britton...</td>\n",
       "      <td>6706368</td>\n",
       "    </tr>\n",
       "    <tr>\n",
       "      <th>4717</th>\n",
       "      <td>Your Sister's Sister</td>\n",
       "      <td>[Mark Duplass, Emily Blunt, Rosemarie DeWitt, ...</td>\n",
       "      <td>3200000</td>\n",
       "    </tr>\n",
       "    <tr>\n",
       "      <th>4720</th>\n",
       "      <td>The Birth of a Nation</td>\n",
       "      <td>[Nate Parker, Armie Hammer, Aja Naomi King, Ja...</td>\n",
       "      <td>15861566</td>\n",
       "    </tr>\n",
       "    <tr>\n",
       "      <th>4722</th>\n",
       "      <td>Facing the Giants</td>\n",
       "      <td>[James Blackwell, Alex Kendrick, Shannen Field...</td>\n",
       "      <td>10178331</td>\n",
       "    </tr>\n",
       "    <tr>\n",
       "      <th>4723</th>\n",
       "      <td>The Gallows</td>\n",
       "      <td>[Cassidy Gifford, Ryan Shoos, Pfeifer Brown, R...</td>\n",
       "      <td>42664410</td>\n",
       "    </tr>\n",
       "    <tr>\n",
       "      <th>4724</th>\n",
       "      <td>Eraserhead</td>\n",
       "      <td>[Jack Nance, Charlotte Stewart, Allen Joseph, ...</td>\n",
       "      <td>7000000</td>\n",
       "    </tr>\n",
       "    <tr>\n",
       "      <th>4738</th>\n",
       "      <td>Pi</td>\n",
       "      <td>[Sean Gullette, Mark Margolis, Ben Shenkman, S...</td>\n",
       "      <td>3221152</td>\n",
       "    </tr>\n",
       "    <tr>\n",
       "      <th>4742</th>\n",
       "      <td>Super Size Me</td>\n",
       "      <td>[Morgan Spurlock, Daryl Isaacs, Lisa Ganjhu, S...</td>\n",
       "      <td>28575078</td>\n",
       "    </tr>\n",
       "    <tr>\n",
       "      <th>4752</th>\n",
       "      <td>Tiny Furniture</td>\n",
       "      <td>[Lena Dunham, Laurie Simmons, Grace Dunham, Ra...</td>\n",
       "      <td>416498</td>\n",
       "    </tr>\n",
       "    <tr>\n",
       "      <th>4758</th>\n",
       "      <td>The Signal</td>\n",
       "      <td>[Brenton Thwaites, Olivia Cooke, Beau Knapp, L...</td>\n",
       "      <td>600896</td>\n",
       "    </tr>\n",
       "    <tr>\n",
       "      <th>4766</th>\n",
       "      <td>The Last Waltz</td>\n",
       "      <td>[Robbie Robertson, Rick Danko, Levon Helm, Ric...</td>\n",
       "      <td>321952</td>\n",
       "    </tr>\n",
       "    <tr>\n",
       "      <th>4772</th>\n",
       "      <td>Down Terrace</td>\n",
       "      <td>[Robert Hill, Robin Hill, Julia Deakin, David ...</td>\n",
       "      <td>10000</td>\n",
       "    </tr>\n",
       "    <tr>\n",
       "      <th>4773</th>\n",
       "      <td>Clerks</td>\n",
       "      <td>[Brian O'Halloran, Jeff Anderson, Jason Mewes,...</td>\n",
       "      <td>3151130</td>\n",
       "    </tr>\n",
       "    <tr>\n",
       "      <th>4775</th>\n",
       "      <td>Funny Ha Ha</td>\n",
       "      <td>[Kate Dollenmayer, Mark Herlehy, Christian Rud...</td>\n",
       "      <td>76901</td>\n",
       "    </tr>\n",
       "    <tr>\n",
       "      <th>4788</th>\n",
       "      <td>Pink Flamingos</td>\n",
       "      <td>[Divine, David Lochary, Mary Vivian Pearce, Mi...</td>\n",
       "      <td>6000000</td>\n",
       "    </tr>\n",
       "    <tr>\n",
       "      <th>4792</th>\n",
       "      <td>Cure</td>\n",
       "      <td>[Koji Yakusho, Masato Hagiwara, Tsuyoshi Ujiki...</td>\n",
       "      <td>99000</td>\n",
       "    </tr>\n",
       "    <tr>\n",
       "      <th>4796</th>\n",
       "      <td>Primer</td>\n",
       "      <td>[Shane Carruth, David Sullivan, Casey Gooden, ...</td>\n",
       "      <td>424760</td>\n",
       "    </tr>\n",
       "    <tr>\n",
       "      <th>4798</th>\n",
       "      <td>El Mariachi</td>\n",
       "      <td>[Carlos Gallardo, Jaime de Hoyos, Peter Marqua...</td>\n",
       "      <td>2040920</td>\n",
       "    </tr>\n",
       "  </tbody>\n",
       "</table>\n",
       "<p>3374 rows × 3 columns</p>\n",
       "</div>"
      ],
      "text/plain": [
       "                                          title_x  \\\n",
       "0                                          Avatar   \n",
       "1        Pirates of the Caribbean: At World's End   \n",
       "2                                         Spectre   \n",
       "3                           The Dark Knight Rises   \n",
       "4                                     John Carter   \n",
       "5                                    Spider-Man 3   \n",
       "6                                         Tangled   \n",
       "7                         Avengers: Age of Ultron   \n",
       "8          Harry Potter and the Half-Blood Prince   \n",
       "9              Batman v Superman: Dawn of Justice   \n",
       "10                               Superman Returns   \n",
       "11                              Quantum of Solace   \n",
       "12     Pirates of the Caribbean: Dead Man's Chest   \n",
       "13                                The Lone Ranger   \n",
       "14                                   Man of Steel   \n",
       "15       The Chronicles of Narnia: Prince Caspian   \n",
       "16                                   The Avengers   \n",
       "17    Pirates of the Caribbean: On Stranger Tides   \n",
       "18                                 Men in Black 3   \n",
       "19      The Hobbit: The Battle of the Five Armies   \n",
       "20                         The Amazing Spider-Man   \n",
       "21                                     Robin Hood   \n",
       "22            The Hobbit: The Desolation of Smaug   \n",
       "23                             The Golden Compass   \n",
       "24                                      King Kong   \n",
       "25                                        Titanic   \n",
       "26                     Captain America: Civil War   \n",
       "27                                     Battleship   \n",
       "28                                 Jurassic World   \n",
       "29                                        Skyfall   \n",
       "...                                           ...   \n",
       "4670                                      Mad Max   \n",
       "4671                                     Swingers   \n",
       "4672                         A Fistful of Dollars   \n",
       "4673                           She Done Him Wrong   \n",
       "4675                               The Grace Card   \n",
       "4677                                        Three   \n",
       "4695                           Children of Heaven   \n",
       "4696                                      Weekend   \n",
       "4700                                Another Earth   \n",
       "4701            Sweet Sweetback's Baadasssss Song   \n",
       "4703                                      Tadpole   \n",
       "4704                                         Once   \n",
       "4713                                   Roger & Me   \n",
       "4717                         Your Sister's Sister   \n",
       "4720                        The Birth of a Nation   \n",
       "4722                            Facing the Giants   \n",
       "4723                                  The Gallows   \n",
       "4724                                   Eraserhead   \n",
       "4738                                           Pi   \n",
       "4742                                Super Size Me   \n",
       "4752                               Tiny Furniture   \n",
       "4758                                   The Signal   \n",
       "4766                               The Last Waltz   \n",
       "4772                                 Down Terrace   \n",
       "4773                                       Clerks   \n",
       "4775                                  Funny Ha Ha   \n",
       "4788                               Pink Flamingos   \n",
       "4792                                         Cure   \n",
       "4796                                       Primer   \n",
       "4798                                  El Mariachi   \n",
       "\n",
       "                                                cast_10     revenue  \n",
       "0     [Sam Worthington, Zoe Saldana, Sigourney Weave...  2787965087  \n",
       "1     [Johnny Depp, Orlando Bloom, Keira Knightley, ...   961000000  \n",
       "2     [Daniel Craig, Christoph Waltz, Léa Seydoux, R...   880674609  \n",
       "3     [Christian Bale, Michael Caine, Gary Oldman, A...  1084939099  \n",
       "4     [Taylor Kitsch, Lynn Collins, Samantha Morton,...   284139100  \n",
       "5     [Tobey Maguire, Kirsten Dunst, James Franco, T...   890871626  \n",
       "6     [Zachary Levi, Mandy Moore, Donna Murphy, Ron ...   591794936  \n",
       "7     [Robert Downey Jr., Chris Hemsworth, Mark Ruff...  1405403694  \n",
       "8     [Daniel Radcliffe, Rupert Grint, Emma Watson, ...   933959197  \n",
       "9     [Ben Affleck, Henry Cavill, Gal Gadot, Amy Ada...   873260194  \n",
       "10    [Brandon Routh, Kevin Spacey, Kate Bosworth, J...   391081192  \n",
       "11    [Daniel Craig, Olga Kurylenko, Mathieu Amalric...   586090727  \n",
       "12    [Johnny Depp, Orlando Bloom, Keira Knightley, ...  1065659812  \n",
       "13    [Johnny Depp, Armie Hammer, William Fichtner, ...    89289910  \n",
       "14    [Henry Cavill, Amy Adams, Michael Shannon, Kev...   662845518  \n",
       "15    [Ben Barnes, William Moseley, Anna Popplewell,...   419651413  \n",
       "16    [Robert Downey Jr., Chris Evans, Mark Ruffalo,...  1519557910  \n",
       "17    [Johnny Depp, Penélope Cruz, Ian McShane, Kevi...  1045713802  \n",
       "18    [Will Smith, Tommy Lee Jones, Josh Brolin, Mic...   624026776  \n",
       "19    [Martin Freeman, Ian McKellen, Richard Armitag...   956019788  \n",
       "20    [Andrew Garfield, Emma Stone, Rhys Ifans, Deni...   752215857  \n",
       "21    [Russell Crowe, Cate Blanchett, Max von Sydow,...   310669540  \n",
       "22    [Martin Freeman, Ian McKellen, Richard Armitag...   958400000  \n",
       "23    [Dakota Blue Richards, Nicole Kidman, Daniel C...   372234864  \n",
       "24    [Naomi Watts, Jack Black, Adrien Brody, Thomas...   550000000  \n",
       "25    [Kate Winslet, Leonardo DiCaprio, Frances Fish...  1845034188  \n",
       "26    [Chris Evans, Robert Downey Jr., Scarlett Joha...  1153304495  \n",
       "27    [Taylor Kitsch, Alexander Skarsgård, Rihanna, ...   303025485  \n",
       "28    [Chris Pratt, Bryce Dallas Howard, Irrfan Khan...  1513528810  \n",
       "29    [Daniel Craig, Judi Dench, Javier Bardem, Ralp...  1108561013  \n",
       "...                                                 ...         ...  \n",
       "4670  [Mel Gibson, Joanne Samuel, Hugh Keays-Byrne, ...   100000000  \n",
       "4671  [Jon Favreau, Vince Vaughn, Ron Livingston, Pa...     4505922  \n",
       "4672  [Clint Eastwood, Marianne Koch, Gian Maria Vol...    14500000  \n",
       "4673  [Mae West, Cary Grant, Owen Moore, Gilbert Rol...     2200000  \n",
       "4675  [Michael Joiner, Michael Higgenbottom, Louis G...     2295733  \n",
       "4677  [Sophie Rois, Sebastian Schipper, Devid Stries...     2611555  \n",
       "4695  [Mohammad Amir Naji, Amir Farrokh Hashemian, B...      900000  \n",
       "4696  [Tom Cullen, Chris New, Jonathan Race, Laura F...      469947  \n",
       "4700  [William Mapother, Brit Marling, Matthew-Lee E...     1776935  \n",
       "4701  [Simon Chuckster, Melvin Van Peebles, Hubert S...    15200000  \n",
       "4703  [Aaron Stanford, Kate Mara, Bebe Neuwirth, Joh...     2891288  \n",
       "4704  [Glen Hansard, Markéta Irglová, Hugh Walsh, Ge...    20710513  \n",
       "4713  [Michael Moore, Roger B. Smith, Rhonda Britton...     6706368  \n",
       "4717  [Mark Duplass, Emily Blunt, Rosemarie DeWitt, ...     3200000  \n",
       "4720  [Nate Parker, Armie Hammer, Aja Naomi King, Ja...    15861566  \n",
       "4722  [James Blackwell, Alex Kendrick, Shannen Field...    10178331  \n",
       "4723  [Cassidy Gifford, Ryan Shoos, Pfeifer Brown, R...    42664410  \n",
       "4724  [Jack Nance, Charlotte Stewart, Allen Joseph, ...     7000000  \n",
       "4738  [Sean Gullette, Mark Margolis, Ben Shenkman, S...     3221152  \n",
       "4742  [Morgan Spurlock, Daryl Isaacs, Lisa Ganjhu, S...    28575078  \n",
       "4752  [Lena Dunham, Laurie Simmons, Grace Dunham, Ra...      416498  \n",
       "4758  [Brenton Thwaites, Olivia Cooke, Beau Knapp, L...      600896  \n",
       "4766  [Robbie Robertson, Rick Danko, Levon Helm, Ric...      321952  \n",
       "4772  [Robert Hill, Robin Hill, Julia Deakin, David ...       10000  \n",
       "4773  [Brian O'Halloran, Jeff Anderson, Jason Mewes,...     3151130  \n",
       "4775  [Kate Dollenmayer, Mark Herlehy, Christian Rud...       76901  \n",
       "4788  [Divine, David Lochary, Mary Vivian Pearce, Mi...     6000000  \n",
       "4792  [Koji Yakusho, Masato Hagiwara, Tsuyoshi Ujiki...       99000  \n",
       "4796  [Shane Carruth, David Sullivan, Casey Gooden, ...      424760  \n",
       "4798  [Carlos Gallardo, Jaime de Hoyos, Peter Marqua...     2040920  \n",
       "\n",
       "[3374 rows x 3 columns]"
      ]
     },
     "execution_count": 13,
     "metadata": {},
     "output_type": "execute_result"
    }
   ],
   "source": [
    "final_df"
   ]
  },
  {
   "cell_type": "code",
   "execution_count": 14,
   "metadata": {
    "ExecuteTime": {
     "end_time": "2019-08-06T22:49:36.186870Z",
     "start_time": "2019-08-06T22:49:36.090716Z"
    }
   },
   "outputs": [],
   "source": [
    "mlb = MultiLabelBinarizer()\n",
    "res = pd.DataFrame(mlb.fit_transform(final_df['cast_10']), columns = mlb.classes_, index = final_df.index)"
   ]
  },
  {
   "cell_type": "code",
   "execution_count": 15,
   "metadata": {
    "ExecuteTime": {
     "end_time": "2019-08-06T22:49:37.422861Z",
     "start_time": "2019-08-06T22:49:37.418843Z"
    }
   },
   "outputs": [
    {
     "data": {
      "text/plain": [
       "(3374, 13852)"
      ]
     },
     "execution_count": 15,
     "metadata": {},
     "output_type": "execute_result"
    }
   ],
   "source": [
    "res.shape"
   ]
  },
  {
   "cell_type": "code",
   "execution_count": 55,
   "metadata": {
    "ExecuteTime": {
     "end_time": "2019-08-06T23:02:29.811867Z",
     "start_time": "2019-08-06T23:02:29.037152Z"
    }
   },
   "outputs": [],
   "source": [
    "new_df = pd.concat([final_df[['title_x', 'revenue']], res], axis = 1)"
   ]
  },
  {
   "cell_type": "code",
   "execution_count": 16,
   "metadata": {
    "ExecuteTime": {
     "end_time": "2019-08-03T20:03:17.563202Z",
     "start_time": "2019-08-03T20:02:34.333246Z"
    }
   },
   "outputs": [],
   "source": [
    "new_df.to_csv(\"ohe_movies.csv\")"
   ]
  },
  {
   "cell_type": "code",
   "execution_count": 31,
   "metadata": {
    "ExecuteTime": {
     "end_time": "2019-08-06T22:53:44.529153Z",
     "start_time": "2019-08-06T22:53:44.508852Z"
    }
   },
   "outputs": [],
   "source": [
    "cast_10 = final_df['cast_10'].values\n",
    "actor_dict = {}\n",
    "for actors in cast_10:\n",
    "    for actor in actors:\n",
    "        try:\n",
    "            actor_dict[actor] += 1\n",
    "        except:\n",
    "            actor_dict.update({actor : 1})"
   ]
  },
  {
   "cell_type": "code",
   "execution_count": 32,
   "metadata": {
    "ExecuteTime": {
     "end_time": "2019-08-06T22:53:44.983277Z",
     "start_time": "2019-08-06T22:53:44.972672Z"
    }
   },
   "outputs": [],
   "source": [
    "actor_dict = dict(sorted(actor_dict.items(), key=lambda x:x[1], reverse=True))"
   ]
  },
  {
   "cell_type": "code",
   "execution_count": 34,
   "metadata": {
    "ExecuteTime": {
     "end_time": "2019-08-06T22:54:03.147198Z",
     "start_time": "2019-08-06T22:54:02.923032Z"
    }
   },
   "outputs": [],
   "source": [
    "import matplotlib.pyplot as plt"
   ]
  },
  {
   "cell_type": "code",
   "execution_count": 37,
   "metadata": {
    "ExecuteTime": {
     "end_time": "2019-08-06T22:54:49.848151Z",
     "start_time": "2019-08-06T22:54:49.683592Z"
    }
   },
   "outputs": [
    {
     "data": {
      "text/plain": [
       "(array([1.2614e+04, 7.3000e+02, 2.3200e+02, 1.4700e+02, 6.9000e+01,\n",
       "        4.1000e+01, 1.2000e+01, 2.0000e+00, 2.0000e+00, 3.0000e+00]),\n",
       " array([ 1. ,  5.6, 10.2, 14.8, 19.4, 24. , 28.6, 33.2, 37.8, 42.4, 47. ]),\n",
       " <a list of 10 Patch objects>)"
      ]
     },
     "execution_count": 37,
     "metadata": {},
     "output_type": "execute_result"
    },
    {
     "data": {
      "image/png": "[encoded data removed]",
      "text/plain": [
       "<Figure size 432x288 with 1 Axes>"
      ]
     },
     "metadata": {
      "needs_background": "light"
     },
     "output_type": "display_data"
    }
   ],
   "source": [
    "plt.hist(actor_dict.values())"
   ]
  },
  {
   "cell_type": "code",
   "execution_count": 91,
   "metadata": {
    "ExecuteTime": {
     "end_time": "2019-08-06T23:11:45.680109Z",
     "start_time": "2019-08-06T23:11:45.675849Z"
    }
   },
   "outputs": [],
   "source": [
    "def getActors(t = 15, actor_dict=actor_dict):\n",
    "    count = 0\n",
    "    actors = ['title_x', 'revenue']\n",
    "    for item in actor_dict.items():\n",
    "        if item[1] >= t:\n",
    "            count += 1\n",
    "            actors.append(item[0])\n",
    "        else:\n",
    "            break\n",
    "    print(count)\n",
    "    return actors"
   ]
  },
  {
   "cell_type": "code",
   "execution_count": 116,
   "metadata": {
    "ExecuteTime": {
     "end_time": "2019-08-06T23:34:11.584620Z",
     "start_time": "2019-08-06T23:34:11.006292Z"
    }
   },
   "outputs": [
    {
     "name": "stdout",
     "output_type": "stream",
     "text": [
      "276\n"
     ]
    },
    {
     "name": "stderr",
     "output_type": "stream",
     "text": [
      "/Users/sarthak/anaconda3/lib/python3.6/site-packages/ipykernel_launcher.py:2: SettingWithCopyWarning: \n",
      "A value is trying to be set on a copy of a slice from a DataFrame.\n",
      "Try using .loc[row_indexer,col_indexer] = value instead\n",
      "\n",
      "See the caveats in the documentation: http://pandas.pydata.org/pandas-docs/stable/indexing.html#indexing-view-versus-copy\n",
      "  \n"
     ]
    },
    {
     "data": {
      "text/plain": [
       "(2413, 279)"
      ]
     },
     "execution_count": 116,
     "metadata": {},
     "output_type": "execute_result"
    }
   ],
   "source": [
    "new_df_actor = new_df[getActors()]\n",
    "new_df_actor['keep'] = new_df_actor[new_df_actor==1].any(1)\n",
    "new_df_actor[new_df_actor['keep'] == True].shape"
   ]
  },
  {
   "cell_type": "code",
   "execution_count": 117,
   "metadata": {
    "ExecuteTime": {
     "end_time": "2019-08-06T23:34:14.339020Z",
     "start_time": "2019-08-06T23:34:14.333580Z"
    }
   },
   "outputs": [
    {
     "data": {
      "text/plain": [
       "(3374, 13855)"
      ]
     },
     "execution_count": 117,
     "metadata": {},
     "output_type": "execute_result"
    }
   ],
   "source": [
    "new_df.shape"
   ]
  },
  {
   "cell_type": "code",
   "execution_count": 118,
   "metadata": {
    "ExecuteTime": {
     "end_time": "2019-08-06T23:34:14.779683Z",
     "start_time": "2019-08-06T23:34:14.752865Z"
    }
   },
   "outputs": [
    {
     "data": {
      "text/html": [
       "<div>\n",
       "<style scoped>\n",
       "    .dataframe tbody tr th:only-of-type {\n",
       "        vertical-align: middle;\n",
       "    }\n",
       "\n",
       "    .dataframe tbody tr th {\n",
       "        vertical-align: top;\n",
       "    }\n",
       "\n",
       "    .dataframe thead th {\n",
       "        text-align: right;\n",
       "    }\n",
       "</style>\n",
       "<table border=\"1\" class=\"dataframe\">\n",
       "  <thead>\n",
       "    <tr style=\"text-align: right;\">\n",
       "      <th></th>\n",
       "      <th>title_x</th>\n",
       "      <th>revenue</th>\n",
       "      <th>Robert De Niro</th>\n",
       "      <th>Morgan Freeman</th>\n",
       "      <th>Samuel L. Jackson</th>\n",
       "      <th>Matt Damon</th>\n",
       "      <th>Bruce Willis</th>\n",
       "      <th>Brad Pitt</th>\n",
       "      <th>Johnny Depp</th>\n",
       "      <th>Owen Wilson</th>\n",
       "      <th>...</th>\n",
       "      <th>Jason Lee</th>\n",
       "      <th>Rachel McAdams</th>\n",
       "      <th>Christina Applegate</th>\n",
       "      <th>Bruce McGill</th>\n",
       "      <th>Danny Trejo</th>\n",
       "      <th>Clint Eastwood</th>\n",
       "      <th>Ray Liotta</th>\n",
       "      <th>Dermot Mulroney</th>\n",
       "      <th>Nia Long</th>\n",
       "      <th>keep</th>\n",
       "    </tr>\n",
       "  </thead>\n",
       "  <tbody>\n",
       "    <tr>\n",
       "      <th>0</th>\n",
       "      <td>Avatar</td>\n",
       "      <td>2787965087</td>\n",
       "      <td>0</td>\n",
       "      <td>0</td>\n",
       "      <td>0</td>\n",
       "      <td>0</td>\n",
       "      <td>0</td>\n",
       "      <td>0</td>\n",
       "      <td>0</td>\n",
       "      <td>0</td>\n",
       "      <td>...</td>\n",
       "      <td>0</td>\n",
       "      <td>0</td>\n",
       "      <td>0</td>\n",
       "      <td>0</td>\n",
       "      <td>0</td>\n",
       "      <td>0</td>\n",
       "      <td>0</td>\n",
       "      <td>0</td>\n",
       "      <td>0</td>\n",
       "      <td>True</td>\n",
       "    </tr>\n",
       "    <tr>\n",
       "      <th>1</th>\n",
       "      <td>Pirates of the Caribbean: At World's End</td>\n",
       "      <td>961000000</td>\n",
       "      <td>0</td>\n",
       "      <td>0</td>\n",
       "      <td>0</td>\n",
       "      <td>0</td>\n",
       "      <td>0</td>\n",
       "      <td>0</td>\n",
       "      <td>1</td>\n",
       "      <td>0</td>\n",
       "      <td>...</td>\n",
       "      <td>0</td>\n",
       "      <td>0</td>\n",
       "      <td>0</td>\n",
       "      <td>0</td>\n",
       "      <td>0</td>\n",
       "      <td>0</td>\n",
       "      <td>0</td>\n",
       "      <td>0</td>\n",
       "      <td>0</td>\n",
       "      <td>True</td>\n",
       "    </tr>\n",
       "    <tr>\n",
       "      <th>2</th>\n",
       "      <td>Spectre</td>\n",
       "      <td>880674609</td>\n",
       "      <td>0</td>\n",
       "      <td>0</td>\n",
       "      <td>0</td>\n",
       "      <td>0</td>\n",
       "      <td>0</td>\n",
       "      <td>0</td>\n",
       "      <td>0</td>\n",
       "      <td>0</td>\n",
       "      <td>...</td>\n",
       "      <td>0</td>\n",
       "      <td>0</td>\n",
       "      <td>0</td>\n",
       "      <td>0</td>\n",
       "      <td>0</td>\n",
       "      <td>0</td>\n",
       "      <td>0</td>\n",
       "      <td>0</td>\n",
       "      <td>0</td>\n",
       "      <td>True</td>\n",
       "    </tr>\n",
       "    <tr>\n",
       "      <th>3</th>\n",
       "      <td>The Dark Knight Rises</td>\n",
       "      <td>1084939099</td>\n",
       "      <td>0</td>\n",
       "      <td>1</td>\n",
       "      <td>0</td>\n",
       "      <td>0</td>\n",
       "      <td>0</td>\n",
       "      <td>0</td>\n",
       "      <td>0</td>\n",
       "      <td>0</td>\n",
       "      <td>...</td>\n",
       "      <td>0</td>\n",
       "      <td>0</td>\n",
       "      <td>0</td>\n",
       "      <td>0</td>\n",
       "      <td>0</td>\n",
       "      <td>0</td>\n",
       "      <td>0</td>\n",
       "      <td>0</td>\n",
       "      <td>0</td>\n",
       "      <td>True</td>\n",
       "    </tr>\n",
       "    <tr>\n",
       "      <th>4</th>\n",
       "      <td>John Carter</td>\n",
       "      <td>284139100</td>\n",
       "      <td>0</td>\n",
       "      <td>0</td>\n",
       "      <td>0</td>\n",
       "      <td>0</td>\n",
       "      <td>0</td>\n",
       "      <td>0</td>\n",
       "      <td>0</td>\n",
       "      <td>0</td>\n",
       "      <td>...</td>\n",
       "      <td>0</td>\n",
       "      <td>0</td>\n",
       "      <td>0</td>\n",
       "      <td>0</td>\n",
       "      <td>0</td>\n",
       "      <td>0</td>\n",
       "      <td>0</td>\n",
       "      <td>0</td>\n",
       "      <td>0</td>\n",
       "      <td>True</td>\n",
       "    </tr>\n",
       "  </tbody>\n",
       "</table>\n",
       "<p>5 rows × 279 columns</p>\n",
       "</div>"
      ],
      "text/plain": [
       "                                    title_x     revenue  Robert De Niro  \\\n",
       "0                                    Avatar  2787965087               0   \n",
       "1  Pirates of the Caribbean: At World's End   961000000               0   \n",
       "2                                   Spectre   880674609               0   \n",
       "3                     The Dark Knight Rises  1084939099               0   \n",
       "4                               John Carter   284139100               0   \n",
       "\n",
       "   Morgan Freeman  Samuel L. Jackson  Matt Damon  Bruce Willis  Brad Pitt  \\\n",
       "0               0                  0           0             0          0   \n",
       "1               0                  0           0             0          0   \n",
       "2               0                  0           0             0          0   \n",
       "3               1                  0           0             0          0   \n",
       "4               0                  0           0             0          0   \n",
       "\n",
       "   Johnny Depp  Owen Wilson  ...  Jason Lee  Rachel McAdams  \\\n",
       "0            0            0  ...          0               0   \n",
       "1            1            0  ...          0               0   \n",
       "2            0            0  ...          0               0   \n",
       "3            0            0  ...          0               0   \n",
       "4            0            0  ...          0               0   \n",
       "\n",
       "   Christina Applegate  Bruce McGill  Danny Trejo  Clint Eastwood  Ray Liotta  \\\n",
       "0                    0             0            0               0           0   \n",
       "1                    0             0            0               0           0   \n",
       "2                    0             0            0               0           0   \n",
       "3                    0             0            0               0           0   \n",
       "4                    0             0            0               0           0   \n",
       "\n",
       "   Dermot Mulroney  Nia Long  keep  \n",
       "0                0         0  True  \n",
       "1                0         0  True  \n",
       "2                0         0  True  \n",
       "3                0         0  True  \n",
       "4                0         0  True  \n",
       "\n",
       "[5 rows x 279 columns]"
      ]
     },
     "execution_count": 118,
     "metadata": {},
     "output_type": "execute_result"
    }
   ],
   "source": [
    "new_df_actor.head()"
   ]
  },
  {
   "cell_type": "code",
   "execution_count": 119,
   "metadata": {
    "ExecuteTime": {
     "end_time": "2019-08-06T23:34:19.202156Z",
     "start_time": "2019-08-06T23:34:19.191214Z"
    }
   },
   "outputs": [],
   "source": [
    "Y = new_df_actor.iloc[:, 1]\n",
    "X = new_df_actor.iloc[:, 2:]"
   ]
  },
  {
   "cell_type": "code",
   "execution_count": 121,
   "metadata": {
    "ExecuteTime": {
     "end_time": "2019-08-06T23:34:46.807332Z",
     "start_time": "2019-08-06T23:34:46.800628Z"
    }
   },
   "outputs": [
    {
     "data": {
      "text/plain": [
       "(5, 2787965087)"
      ]
     },
     "execution_count": 121,
     "metadata": {},
     "output_type": "execute_result"
    }
   ],
   "source": [
    "min(Y), max(Y)"
   ]
  },
  {
   "cell_type": "code",
   "execution_count": 122,
   "metadata": {
    "ExecuteTime": {
     "end_time": "2019-08-06T23:35:13.433339Z",
     "start_time": "2019-08-06T23:35:13.428994Z"
    }
   },
   "outputs": [],
   "source": [
    "Y_Cat = np.where(Y.values > 100000000, 1, 0)"
   ]
  },
  {
   "cell_type": "code",
   "execution_count": 135,
   "metadata": {
    "ExecuteTime": {
     "end_time": "2019-08-06T23:38:07.279104Z",
     "start_time": "2019-08-06T23:38:07.271410Z"
    }
   },
   "outputs": [],
   "source": [
    "def fitModel(X, Y, test_size=0.8, model=LinearRegression(), cat=False):\n",
    "#     model = LinearRegression()\n",
    "    X_train, X_test, Y_train, Y_test = train_test_split(X, Y, test_size=test_size, random_state=42)\n",
    "    model.fit(X_train, Y_train)\n",
    "    Y_pred = model.predict(X_test)\n",
    "    if not cat: \n",
    "        score = r2_score(Y_test, Y_pred)\n",
    "    else:\n",
    "        score = model.score(X_test, Y_test)\n",
    "    plt.plot(Y_pred, Y_test, 'o')\n",
    "    plt.xlabel('Predicted')\n",
    "    plt.ylabel('Actual')\n",
    "    plt.title('Score : ' + str(score))\n",
    "    plt.show()\n",
    "    #return model.coef_"
   ]
  },
  {
   "cell_type": "code",
   "execution_count": 129,
   "metadata": {
    "ExecuteTime": {
     "end_time": "2019-08-06T23:36:55.385130Z",
     "start_time": "2019-08-06T23:36:55.067995Z"
    }
   },
   "outputs": [
    {
     "data": {
      "image/png": "[encoded data removed]",
      "text/plain": [
       "<Figure size 432x288 with 1 Axes>"
      ]
     },
     "metadata": {
      "needs_background": "light"
     },
     "output_type": "display_data"
    }
   ],
   "source": [
    "fitModel(X, np.log(Y))"
   ]
  },
  {
   "cell_type": "code",
   "execution_count": 105,
   "metadata": {
    "ExecuteTime": {
     "end_time": "2019-08-06T23:14:54.316371Z",
     "start_time": "2019-08-06T23:14:54.179738Z"
    }
   },
   "outputs": [
    {
     "name": "stderr",
     "output_type": "stream",
     "text": [
      "/Users/sarthak/anaconda3/lib/python3.6/site-packages/sklearn/ensemble/forest.py:246: FutureWarning: The default value of n_estimators will change from 10 in version 0.20 to 100 in 0.22.\n",
      "  \"10 in version 0.20 to 100 in 0.22.\", FutureWarning)\n"
     ]
    },
    {
     "data": {
      "image/png": "[encoded data removed]",
      "text/plain": [
       "<Figure size 432x288 with 1 Axes>"
      ]
     },
     "metadata": {
      "needs_background": "light"
     },
     "output_type": "display_data"
    }
   ],
   "source": [
    "from  sklearn.ensemble import RandomForestRegressor\n",
    "fitModel(X, Y, model=RandomForestRegressor())"
   ]
  },
  {
   "cell_type": "code",
   "execution_count": 136,
   "metadata": {
    "ExecuteTime": {
     "end_time": "2019-08-06T23:38:10.571582Z",
     "start_time": "2019-08-06T23:38:10.233909Z"
    }
   },
   "outputs": [
    {
     "name": "stderr",
     "output_type": "stream",
     "text": [
      "/Users/sarthak/anaconda3/lib/python3.6/site-packages/sklearn/linear_model/logistic.py:433: FutureWarning: Default solver will be changed to 'lbfgs' in 0.22. Specify a solver to silence this warning.\n",
      "  FutureWarning)\n"
     ]
    },
    {
     "data": {
      "image/png": "[encoded data removed]",
      "text/plain": [
       "<Figure size 432x288 with 1 Axes>"
      ]
     },
     "metadata": {
      "needs_background": "light"
     },
     "output_type": "display_data"
    }
   ],
   "source": [
    "fitModel(X, Y_Cat, model=LogisticRegression(), cat=True)"
   ]
  },
  {
   "cell_type": "code",
   "execution_count": null,
   "metadata": {},
   "outputs": [],
   "source": []
  }
 ],
 "metadata": {
  "kernelspec": {
   "display_name": "Python 3",
   "language": "python",
   "name": "python3"
  },
  "language_info": {
   "codemirror_mode": {
    "name": "ipython",
    "version": 3
   },
   "file_extension": ".py",
   "mimetype": "text/x-python",
   "name": "python",
   "nbconvert_exporter": "python",
   "pygments_lexer": "ipython3",
   "version": "3.6.7"
  },
  "latex_envs": {
   "LaTeX_envs_menu_present": true,
   "autoclose": false,
   "autocomplete": true,
   "bibliofile": "biblio.bib",
   "cite_by": "apalike",
   "current_citInitial": 1,
   "eqLabelWithNumbers": true,
   "eqNumInitial": 1,
   "hotkeys": {
    "equation": "Ctrl-E",
    "itemize": "Ctrl-I"
   },
   "labels_anchors": false,
   "latex_user_defs": false,
   "report_style_numbering": false,
   "user_envs_cfg": false
  }
 },
 "nbformat": 4,
 "nbformat_minor": 2
}
